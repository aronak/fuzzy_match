{
 "cells": [
  {
   "cell_type": "code",
   "execution_count": 78,
   "metadata": {},
   "outputs": [],
   "source": [
    "import dedupe"
   ]
  },
  {
   "cell_type": "code",
   "execution_count": 79,
   "metadata": {},
   "outputs": [],
   "source": [
    "import os\n",
    "import csv\n",
    "import re\n",
    "import logging\n",
    "import optparse\n",
    "import dedupe\n",
    "from unidecode import unidecode"
   ]
  },
  {
   "cell_type": "code",
   "execution_count": 88,
   "metadata": {},
   "outputs": [],
   "source": [
    "input_file = 'Custodian_Mapping_Table.csv'\n",
    "output_file = 'output.csv'\n",
    "settings_file = 'settings.csv'\n",
    "training_file = 'train.csv'"
   ]
  },
  {
   "cell_type": "code",
   "execution_count": 81,
   "metadata": {},
   "outputs": [],
   "source": [
    "def preProcess(column):\n",
    "\n",
    "    try:\n",
    "        column = column.decode('utf-8',errors=\"ignore\")\n",
    "    except AttributeError:\n",
    "        pass\n",
    "    column = unidecode(column)\n",
    "    column = re.sub(' +', ' ', column)\n",
    "    column = re.sub('\\n', ' ', column)\n",
    "    column = column.strip().strip('\"').strip(\"'\").lower().strip()\n",
    "\n",
    "    if not column:\n",
    "        column = None\n",
    "    return column\n"
   ]
  },
  {
   "cell_type": "code",
   "execution_count": 285,
   "metadata": {},
   "outputs": [],
   "source": [
    "def readData(filename):\n",
    "    data_d = {}\n",
    "    with open(filename,encoding='utf-8',errors=\"ignore\") as f:\n",
    "        reader = csv.DictReader(f)\n",
    "        for row in reader:\n",
    "            (num,input_name, cls)= row.items()\n",
    "            clean_row = (num,input_name, cls)\n",
    "            row_id = int(row['Key'])\n",
    "            data_d[row_id] = dict(clean_row)\n",
    "    return data_d"
   ]
  },
  {
   "cell_type": "code",
   "execution_count": 233,
   "metadata": {},
   "outputs": [
    {
     "name": "stdout",
     "output_type": "stream",
     "text": [
      "importing data ...\n",
      "{1: {'Key': '1', 'Unique Custodians': 'ABN AMRO BANK', 'Match': 'ABN AMRO Bank'}, 2: {'Key': '2', 'Unique Custodians': 'ABN AMRO CLEARING CHICAGO LLC', 'Match': 'ABN AMRO Bank'}, 3: {'Key': '3', 'Unique Custodians': 'ADVANTAGE FUTURES LLC', 'Match': 'Advantage Futures'}, 4: {'Key': '4', 'Unique Custodians': 'ALBERT FRIED & COMPANY, LLC', 'Match': 'Albert Fried & Company'}, 5: {'Key': '5', 'Unique Custodians': 'ALIANZA FIDUCIARIA', 'Match': 'Alianza Fiduciaria'}, 6: {'Key': '6', 'Unique Custodians': 'ALTREE CUSTODY SERVICE LTD', 'Match': 'Altree Custody Services'}, 7: {'Key': '7', 'Unique Custodians': 'ALTREE CUSTODY SERVICES LTD', 'Match': 'Altree Custody Services'}, 8: {'Key': '8', 'Unique Custodians': 'ALTREE CUSTODY SERVICES LTD.', 'Match': 'Altree Custody Services'}, 9: {'Key': '9', 'Unique Custodians': 'AMERICAN STOCK TRANSFER & TRUST CO., LLC', 'Match': 'American Stock Transfer & Trust Company'}, 10: {'Key': '10', 'Unique Custodians': 'AMERICAN STOCK TRANSFER & TRUST COMPANY, LLC', 'Match': 'American Stock Transfer & Trust Company'}, 11: {'Key': '11', 'Unique Custodians': 'ANALYTICA', 'Match': 'Analytica'}, 12: {'Key': '12', 'Unique Custodians': 'APEX FUND SERVICES (MAURITIUS) LIMITED', 'Match': 'Apex Fund Services'}, 13: {'Key': '13', 'Unique Custodians': 'AUERBACH GRAYSON & COMPANY LLC', 'Match': 'Auerbach Grayson and Company'}, 14: {'Key': '14', 'Unique Custodians': 'AUSTRALIA AND NEW ZEALAND BANKING GROUP LIMITED', 'Match': 'Australia and New Zealand Banking Group'}, 15: {'Key': '15', 'Unique Custodians': 'BANCO BM&FBOVESPA', 'Match': 'BM&FBOVESPA'}, 16: {'Key': '16', 'Unique Custodians': 'BANCO BRADESCO S.A.', 'Match': 'Banco Bradesco'}, 17: {'Key': '17', 'Unique Custodians': 'BANCO BTG PACTUAL S.A.', 'Match': 'BTG Pactual'}, 18: {'Key': '18', 'Unique Custodians': 'BANCO DE CHILE', 'Match': 'Banco de Chile'}, 19: {'Key': '19', 'Unique Custodians': 'BANCO ITAU S.A.', 'Match': 'Banco Itau'}, 20: {'Key': '20', 'Unique Custodians': 'BANCO ITAU S/A', 'Match': 'Banco Itau'}, 21: {'Key': '21', 'Unique Custodians': 'BANCO PAULISTA S.A.', 'Match': 'Banco Paulista'}, 22: {'Key': '22', 'Unique Custodians': 'BANCO SANTANDER', 'Match': 'Banco Santander'}, 23: {'Key': '23', 'Unique Custodians': 'BANCO SANTANDER (MXICO), S.A.', 'Match': 'Banco Santander'}, 24: {'Key': '24', 'Unique Custodians': 'BANCO SANTANDER (SUISSE) S.A.', 'Match': 'Banco Santander'}, 25: {'Key': '25', 'Unique Custodians': 'BANCO SANTANDER (SUISSE), S.A.', 'Match': 'Banco Santander'}, 26: {'Key': '26', 'Unique Custodians': 'BANK OF AMERICA', 'Match': 'Bank of America Merrill Lynch'}, 27: {'Key': '27', 'Unique Custodians': 'BANK OF AMERICA CORP', 'Match': 'Bank of America Merrill Lynch'}, 28: {'Key': '28', 'Unique Custodians': 'BANK OF AMERICA CORPORATION', 'Match': 'Bank of America Merrill Lynch'}, 29: {'Key': '29', 'Unique Custodians': 'BANK OF AMERICA CUSTODIAL SERVICES (IRELAND) LIMITED', 'Match': 'Bank of America Merrill Lynch'}, 30: {'Key': '30', 'Unique Custodians': 'BANK OF AMERICA MERRILL LYNCH', 'Match': 'Bank of America Merrill Lynch'}, 31: {'Key': '31', 'Unique Custodians': 'BANK OF AMERICA MERRILL LYNCH INTERNATIONAL LIMITED', 'Match': 'Bank of America Merrill Lynch'}, 32: {'Key': '32', 'Unique Custodians': 'BANK OF AMERICA MERRILL LYNCH INTERNATIONAL LTD', 'Match': 'Bank of America Merrill Lynch'}, 33: {'Key': '33', 'Unique Custodians': 'BANK OF AMERICA N.A.', 'Match': 'Bank of America Merrill Lynch'}, 34: {'Key': '34', 'Unique Custodians': 'BANK OF AMERICA NA', 'Match': 'Bank of America Merrill Lynch'}, 35: {'Key': '35', 'Unique Custodians': 'BANK OF AMERICA NT & SA', 'Match': 'Bank of America Merrill Lynch'}, 36: {'Key': '36', 'Unique Custodians': 'BANK OF AMERICA SECURITIES LLC', 'Match': 'Bank of America Merrill Lynch'}, 37: {'Key': '37', 'Unique Custodians': 'BANK OF AMERICA, N.A.', 'Match': 'Bank of America Merrill Lynch'}, 38: {'Key': '38', 'Unique Custodians': 'BANK OF AMERICA, NA', 'Match': 'Bank of America Merrill Lynch'}, 39: {'Key': '39', 'Unique Custodians': 'BANK OF AMERICA, NATIONAL ASSOCIATION', 'Match': 'Bank of America Merrill Lynch'}, 40: {'Key': '40', 'Unique Custodians': 'BANK OF AMERICA, NATIONAL ASSOCIATION AKA BANK OF AMERICA, N.A.', 'Match': 'Bank of America Merrill Lynch'}, 41: {'Key': '41', 'Unique Custodians': 'BANK OF AMERICA, NATIONAL ASSOCIATION AKA BANK OF AMERICA, NA', 'Match': 'Bank of America Merrill Lynch'}, 42: {'Key': '42', 'Unique Custodians': 'MERRILL LYNCH, PIERCE, FENNER & SMITH INCORPORATED', 'Match': 'Bank of America Merrill Lynch'}, 43: {'Key': '43', 'Unique Custodians': 'BANK OF IRELAND', 'Match': 'Bank of Ireland'}, 44: {'Key': '44', 'Unique Custodians': 'BANK OF JORDAN, PLC', 'Match': 'Bank of Jordan'}, 45: {'Key': '45', 'Unique Custodians': 'BANK OF NEW YORK', 'Match': 'BNY Mellon'}, 46: {'Key': '46', 'Unique Custodians': 'BANK OF NEW YORK MELLON', 'Match': 'BNY Mellon'}, 47: {'Key': '47', 'Unique Custodians': 'BANK OF NEW YORK MELLON (DOMESTIC)', 'Match': 'BNY Mellon'}, 48: {'Key': '48', 'Unique Custodians': 'BANK OF NEW YORK MELLON CORPORATION', 'Match': 'BNY Mellon'}, 49: {'Key': '49', 'Unique Custodians': 'BANK OF NEW YORK MELLON SA/NV', 'Match': 'BNY Mellon'}, 50: {'Key': '50', 'Unique Custodians': 'BANK OF NEW YORK MELLON TRUST COMPANY', 'Match': 'BNY Mellon'}, 51: {'Key': '51', 'Unique Custodians': 'BANK OF NEW YORK MELLON, N.A.', 'Match': 'BNY Mellon'}, 52: {'Key': '52', 'Unique Custodians': 'BANK OF NEW YORK MELLON, THROUGH ITS AGENT AND SUBSIDIARY CHARLES FREDERIC & CO.', 'Match': 'BNY Mellon'}, 53: {'Key': '53', 'Unique Custodians': 'BANK OF VALLETTA', 'Match': 'Bank of Valletta'}, 54: {'Key': '54', 'Unique Custodians': 'BARCLAYS BANK MAURITIUS LIMITED', 'Match': 'Barclays'}, 55: {'Key': '55', 'Unique Custodians': 'BARCLAYS BANK PLC', 'Match': 'Barclays'}, 56: {'Key': '56', 'Unique Custodians': 'BARCLAYS BANK PLC - LONDON BRANCH', 'Match': 'Barclays'}, 57: {'Key': '57', 'Unique Custodians': 'BARCLAYS BANK PLC - NEW YORK BRANCH', 'Match': 'Barclays'}, 58: {'Key': '58', 'Unique Custodians': 'BARCLAYS BANK PLC, NEW YORK', 'Match': 'Barclays'}, 59: {'Key': '59', 'Unique Custodians': 'BARCLAYS BANK PLC, NEW YORK BRANCH', 'Match': 'Barclays'}, 60: {'Key': '60', 'Unique Custodians': 'BARCLAYS BANK PLC, NY', 'Match': 'Barclays'}, 61: {'Key': '61', 'Unique Custodians': 'BARCLAYS BANK, PLC', 'Match': 'Barclays'}, 62: {'Key': '62', 'Unique Custodians': 'BARCLAYS CAPITAL', 'Match': 'Barclays'}, 63: {'Key': '63', 'Unique Custodians': 'BARCLAYS CAPITAL INC.', 'Match': 'Barclays'}, 64: {'Key': '64', 'Unique Custodians': 'BARCLAYS CAPITAL SECURITIES LIMITED', 'Match': 'Barclays'}, 65: {'Key': '65', 'Unique Custodians': 'BARCLAYS CAPITAL SECURITIES LTD.', 'Match': 'Barclays'}, 66: {'Key': '66', 'Unique Custodians': 'BB&T', 'Match': 'BB&T'}, 67: {'Key': '67', 'Unique Custodians': 'BB&T SECURITIES, LLC', 'Match': 'BB&T'}, 68: {'Key': '68', 'Unique Custodians': 'BBVA BANCOMER S.A.', 'Match': 'BBVA Bancomer'}, 69: {'Key': '69', 'Unique Custodians': 'BDSEC', 'Match': 'BDSec'}, 70: {'Key': '70', 'Unique Custodians': 'BDSEC JSC.', 'Match': 'BDSec'}, 71: {'Key': '71', 'Unique Custodians': 'BGL BNP PARIBAS SOCIT ANONYME', 'Match': 'BNP Paribas'}, 72: {'Key': '72', 'Unique Custodians': 'BLACKROCK ADVISORS, LLC', 'Match': 'BlackRock Advisors'}, 73: {'Key': '73', 'Unique Custodians': 'BLACKROCK INVESTMENTS, LLC', 'Match': 'BlackRock Advisors'}, 74: {'Key': '74', 'Unique Custodians': 'BMA SECURITIES, LLC', 'Match': 'BMA Securities'}, 75: {'Key': '75', 'Unique Custodians': 'BMO HARRIS', 'Match': 'BMO Harris Bank'}, 76: {'Key': '76', 'Unique Custodians': 'BMO HARRIS BANK', 'Match': 'BMO Harris Bank'}, 77: {'Key': '77', 'Unique Custodians': 'BMO HARRIS BANK N. A.', 'Match': 'BMO Harris Bank'}, 78: {'Key': '78', 'Unique Custodians': 'BMO HARRIS BANK N.A', 'Match': 'BMO Harris Bank'}, 79: {'Key': '79', 'Unique Custodians': 'BMO HARRIS BANK N.A.', 'Match': 'BMO Harris Bank'}, 80: {'Key': '80', 'Unique Custodians': 'BMO HARRIS BANK NA', 'Match': 'BMO Harris Bank'}, 81: {'Key': '81', 'Unique Custodians': 'BMO HARRIS BANK NA.', 'Match': 'BMO Harris Bank'}, 82: {'Key': '82', 'Unique Custodians': 'BMO HARRIS BANK, N.A', 'Match': 'BMO Harris Bank'}, 83: {'Key': '83', 'Unique Custodians': 'BMO HARRIS BANK, N.A.', 'Match': 'BMO Harris Bank'}, 84: {'Key': '84', 'Unique Custodians': 'BMO HARRIS BANK, NA', 'Match': 'BMO Harris Bank'}, 85: {'Key': '85', 'Unique Custodians': 'BMO HARRIS FINANCIAL ADVISORS, INC.', 'Match': 'BMO Harris Bank'}, 86: {'Key': '86', 'Unique Custodians': 'BMO HARRIS, N.A.', 'Match': 'BMO Harris Bank'}, 87: {'Key': '87', 'Unique Custodians': 'BMO NESBITT BURNS', 'Match': 'BMO Nesbitt Burns'}, 88: {'Key': '88', 'Unique Custodians': 'BMO NESBITT BURNS INC.', 'Match': 'BMO Nesbitt Burns'}, 89: {'Key': '89', 'Unique Custodians': 'BNP PARIBAS', 'Match': 'BNP Paribas'}, 90: {'Key': '90', 'Unique Custodians': 'BNP PARIBAS - LONDON BRANCH', 'Match': 'BNP Paribas'}, 91: {'Key': '91', 'Unique Custodians': 'BNP PARIBAS ACTING THROUGH ITS NEW YORK BRANCH', 'Match': 'BNP Paribas'}, 92: {'Key': '92', 'Unique Custodians': 'BNP PARIBAS BANK & TRUST CAYMAN LIMITED', 'Match': 'BNP Paribas'}, 93: {'Key': '93', 'Unique Custodians': 'BNP PARIBAS ESPAA, S.A.', 'Match': 'BNP Paribas'}, 94: {'Key': '94', 'Unique Custodians': 'BNP PARIBAS LONDON BRANCH', 'Match': 'BNP Paribas'}, 95: {'Key': '95', 'Unique Custodians': 'BNP PARIBAS PRIME BROKERAGE INC', 'Match': 'BNP Paribas'}, 96: {'Key': '96', 'Unique Custodians': 'BNP PARIBAS PRIME BROKERAGE INTERNATIONAL, LTD', 'Match': 'BNP Paribas'}, 97: {'Key': '97', 'Unique Custodians': 'BNP PARIBAS PRIME BROKERAGE, INC.', 'Match': 'BNP Paribas'}, 98: {'Key': '98', 'Unique Custodians': 'BNP PARIBAS SA LONDON BRANCH', 'Match': 'BNP Paribas'}, 99: {'Key': '99', 'Unique Custodians': 'BNP PARIBAS SALONDON BRANCH', 'Match': 'BNP Paribas'}, 100: {'Key': '100', 'Unique Custodians': 'BNP PARIBAS SECURITIES CORP.', 'Match': 'BNP Paribas'}, 101: {'Key': '101', 'Unique Custodians': 'BNP PARIBAS SECURITIES SERVICES DUBLIN BRANCH', 'Match': 'BNP Paribas'}, 102: {'Key': '102', 'Unique Custodians': 'BNP PARIBAS SECURITIES SERVICES IRELAND LIMITED', 'Match': 'BNP Paribas'}, 103: {'Key': '103', 'Unique Custodians': 'BNP PARIBAS USA', 'Match': 'BNP Paribas'}, 104: {'Key': '104', 'Unique Custodians': 'BNP PARIBAS, NEW YORK BRANCH', 'Match': 'BNP Paribas'}, 105: {'Key': '105', 'Unique Custodians': 'BNY MELLON', 'Match': 'BNY Mellon'}, 106: {'Key': '106', 'Unique Custodians': 'BNY MELLON ALTERNATIVE INVESTMENT SERVICES', 'Match': 'BNY Mellon'}, 107: {'Key': '107', 'Unique Custodians': 'BNY MELLON ASSET SERVICING', 'Match': 'BNY Mellon'}, 108: {'Key': '108', 'Unique Custodians': 'BNY MELLON CAPITAL MARKETS LLC', 'Match': 'BNY Mellon'}, 109: {'Key': '109', 'Unique Custodians': 'BNY MELLON CAPITAL MARKETS, LLC', 'Match': 'BNY Mellon'}, 110: {'Key': '110', 'Unique Custodians': 'BNY MELLON INVESTMENT SERVICING (US) INC.', 'Match': 'BNY Mellon'}, 111: {'Key': '111', 'Unique Custodians': 'BNY MELLON NA', 'Match': 'BNY Mellon'}, 112: {'Key': '112', 'Unique Custodians': 'BNY MELLON TRUST & DEPOSITARY (UK) LIMITED', 'Match': 'BNY Mellon'}, 113: {'Key': '113', 'Unique Custodians': 'BNY MELLON TRUST COMPANY (IRELAND) LIMITED', 'Match': 'BNY Mellon'}, 114: {'Key': '114', 'Unique Custodians': 'BNY MELLON, NA', 'Match': 'BNY Mellon'}, 115: {'Key': '115', 'Unique Custodians': 'BOSTON FINANCIAL DATA SERVICES, INC.', 'Match': 'Boston Financial Data Services'}, 116: {'Key': '116', 'Unique Custodians': 'BOSTON PRIVATE', 'Match': 'Boston Private Bank & Trust Company'}, 117: {'Key': '117', 'Unique Custodians': 'BOSTON PRIVATE BANK & TRUST', 'Match': 'Boston Private Bank & Trust Company'}, 118: {'Key': '118', 'Unique Custodians': 'BOURSE SECURITIES LIMITED', 'Match': 'Bourse Securities'}, 119: {'Key': '119', 'Unique Custodians': \"BRINK'S GLOBAL SERVICES INTERNATIONAL, INC.\", 'Match': \"Brink's Global Services International\"}, 120: {'Key': '120', 'Unique Custodians': 'BROWN BROTHERS HARRIMAN', 'Match': 'Brown Brothers Harriman'}, 121: {'Key': '121', 'Unique Custodians': 'BROWN BROTHERS HARRIMAN & CO.', 'Match': 'Brown Brothers Harriman'}, 122: {'Key': '122', 'Unique Custodians': \"BROWN BROTHER'S HARRIMAN & CO.\", 'Match': 'Brown Brothers Harriman'}, 123: {'Key': '123', 'Unique Custodians': 'BROWN BROTHERS HARRIMAN TRUST COMPANY, NA', 'Match': 'Brown Brothers Harriman'}, 124: {'Key': '124', 'Unique Custodians': 'BROWN BROTHERS HARRIMAN TRUSTEE SERVICES (IRELAND) LIMITED', 'Match': 'Brown Brothers Harriman'}, 125: {'Key': '125', 'Unique Custodians': 'BROWN BROTHERS HARRIMANN & CO.', 'Match': 'Brown Brothers Harriman'}, 126: {'Key': '126', 'Unique Custodians': 'BSP CAPITAL LIMITED', 'Match': 'BSP Capital'}, 127: {'Key': '127', 'Unique Custodians': 'BTG PACTUAL US CAPITAL, LLC', 'Match': 'BTG Pactual'}, 128: {'Key': '128', 'Unique Custodians': 'BTIG, LLC', 'Match': 'BTIG'}, 129: {'Key': '129', 'Unique Custodians': 'BULL & BEAR', 'Match': 'Bull & Bear'}, 130: {'Key': '130', 'Unique Custodians': 'BULL AND BEAR AD PODGORICA', 'Match': 'Bull & Bear'}, 131: {'Key': '131', 'Unique Custodians': 'BUTTERFIELD BANK (CAYMAN) LTD', 'Match': 'Butterfield'}, 132: {'Key': '132', 'Unique Custodians': 'BUTTERFIELD TRUST (BERMUDA) LIMITED', 'Match': 'Butterfield'}, 133: {'Key': '133', 'Unique Custodians': 'CACEIS BANK LUXEMBOURG', 'Match': 'CACEIS Bank'}, 134: {'Key': '134', 'Unique Custodians': 'CACEIS BANK LUXEMBOURG - DUBLIN BRANCH', 'Match': 'CACEIS Bank'}, 135: {'Key': '135', 'Unique Custodians': 'CALIFORNIA BANK & TRUST', 'Match': 'California Bank & Trust'}, 136: {'Key': '136', 'Unique Custodians': 'CANACCORD GENUITY INC.', 'Match': 'Canaccord Capital Corporation'}, 137: {'Key': '137', 'Unique Custodians': 'CANADIA BANK', 'Match': 'Canadia Bank'}, 138: {'Key': '138', 'Unique Custodians': 'CANTOR PRIME SERVICES', 'Match': 'Cantor Prime Services'}, 139: {'Key': '139', 'Unique Custodians': 'CAPITAL MARKETS BROKERS, LTD', 'Match': 'Capital Market Brokers'}, 140: {'Key': '140', 'Unique Custodians': 'CAPITAL ONE BANK', 'Match': 'Capital One Bank'}, 141: {'Key': '141', 'Unique Custodians': 'CAPITAL ONE BANK WEALTH AND ASSET MANAGEMENT', 'Match': 'Capital One Bank'}, 142: {'Key': '142', 'Unique Custodians': 'CAPITAL ONE, N.A.', 'Match': 'Capital One Bank'}, 143: {'Key': '143', 'Unique Custodians': 'CAPITAL ONE, NA', 'Match': 'Capital One Bank'}, 144: {'Key': '144', 'Unique Custodians': 'CENTRAL DEPOSITORY AGENCY AD PODGORICA', 'Match': 'Central Depository Agency of Podgorica'}, 145: {'Key': '145', 'Unique Custodians': 'CENTRAL DEPOSITORY OF TRINIDAD & TOBAGO LTD', 'Match': 'Trinidad and Tobago Central Depository'}, 146: {'Key': '146', 'Unique Custodians': 'CENTRAL SECURITIES CLEARING SYSTEM PLC', 'Match': 'Central Securities Clearing System'}, 147: {'Key': '147', 'Unique Custodians': 'CENTRAL SECURITIES DEPOSITORY LTD', 'Match': 'Central Securities Depository (GH)'}, 148: {'Key': '148', 'Unique Custodians': 'CEROS FINANCIAL SERVICES, INC.', 'Match': 'Ceros Financial Services'}, 149: {'Key': '149', 'Unique Custodians': 'CHARLES SCHWAB', 'Match': 'Charles Schwab & Co.'}, 150: {'Key': '150', 'Unique Custodians': 'CHARLES SCHWAB & CO.', 'Match': 'Charles Schwab & Co.'}, 151: {'Key': '151', 'Unique Custodians': 'CHARLES SCHWAB & CO., INC.', 'Match': 'Charles Schwab & Co.'}, 152: {'Key': '152', 'Unique Custodians': 'CHINA MERCHANTS SECURITIES CO. LTD.', 'Match': 'China Merchants Securities'}, 153: {'Key': '153', 'Unique Custodians': 'CIBC', 'Match': 'CIBC Bank and Trust'}, 154: {'Key': '154', 'Unique Custodians': 'CIBC MELLON', 'Match': 'CIBC Mellon Global Securities Services'}, 155: {'Key': '155', 'Unique Custodians': 'CITCO BANK (CANADA)', 'Match': 'Citco Global Custody'}, 156: {'Key': '156', 'Unique Custodians': 'CITCO BANK AND TRUST (BAHAMAS) LIMITED', 'Match': 'Citco Global Custody'}, 157: {'Key': '157', 'Unique Custodians': 'CITCO BANK AND TRUST COMPANY (BAHAMAS) LIMITED', 'Match': 'Citco Global Custody'}, 158: {'Key': '158', 'Unique Custodians': 'CITCO BANK AND TRUST COMPANY LIMITED', 'Match': 'Citco Global Custody'}, 159: {'Key': '159', 'Unique Custodians': 'CITCO BANK CANADA', 'Match': 'Citco Global Custody'}, 160: {'Key': '160', 'Unique Custodians': 'CITCO BANK CANADA, INC', 'Match': 'Citco Global Custody'}, 161: {'Key': '161', 'Unique Custodians': 'CITCO BANK NEDERLAND N.V.', 'Match': 'Citco Global Custody'}, 162: {'Key': '162', 'Unique Custodians': 'CITCO BANK NEDERLAND N.V. LUXEMBOURG BRANCH', 'Match': 'Citco Global Custody'}, 163: {'Key': '163', 'Unique Custodians': 'CITCO BANK NEDERLAND VC', 'Match': 'Citco Global Custody'}, 164: {'Key': '164', 'Unique Custodians': 'CITCO BANK OF CANADA', 'Match': 'Citco Global Custody'}, 165: {'Key': '165', 'Unique Custodians': 'CITCO BANK TORONTO', 'Match': 'Citco Global Custody'}, 166: {'Key': '166', 'Unique Custodians': 'CITCO BANKING CORPORATION (CURACAO)', 'Match': 'Citco Global Custody'}, 167: {'Key': '167', 'Unique Custodians': 'CITCO BANKING CORPORATION N.V.', 'Match': 'Citco Global Custody'}, 168: {'Key': '168', 'Unique Custodians': 'CITCO BANKING CORPORATION N.V. (CURACAO)', 'Match': 'Citco Global Custody'}, 169: {'Key': '169', 'Unique Custodians': 'CITCO BANKING CORPORATION NV', 'Match': 'Citco Global Custody'}, 170: {'Key': '170', 'Unique Custodians': 'CITCO BANKING CORPORATION, NA, NV', 'Match': 'Citco Global Custody'}, 171: {'Key': '171', 'Unique Custodians': 'CITCO CUSTODY LIMITED', 'Match': 'Citco Global Custody'}, 172: {'Key': '172', 'Unique Custodians': 'CITCO FUND BANK NEDERLAND', 'Match': 'Citco Global Custody'}, 173: {'Key': '173', 'Unique Custodians': 'CITCO FUND SERVICES (MALTA) LIMITED', 'Match': 'Citco Global Custody'}, 174: {'Key': '174', 'Unique Custodians': 'CITCO GLOBAL CUSTODY (N.A.) N.V.', 'Match': 'Citco Global Custody'}, 175: {'Key': '175', 'Unique Custodians': 'CITCO GLOBAL CUSTODY NV NA', 'Match': 'Citco Global Custody'}, 176: {'Key': '176', 'Unique Custodians': 'CITCO SECURITIES INC.', 'Match': 'Citco Global Custody'}, 177: {'Key': '177', 'Unique Custodians': 'CITI PRIME FINANCE', 'Match': 'Citi Transaction Services'}, 178: {'Key': '178', 'Unique Custodians': 'CITI PRIVATE BANK', 'Match': 'Citi Transaction Services'}, 179: {'Key': '179', 'Unique Custodians': 'CITIBANK', 'Match': 'Citi Transaction Services'}, 180: {'Key': '180', 'Unique Custodians': 'CITIBANK CBO SERVICES', 'Match': 'Citi Transaction Services'}, 181: {'Key': '181', 'Unique Custodians': 'CITIBANK HONG KONG', 'Match': 'Citi Transaction Services'}, 182: {'Key': '182', 'Unique Custodians': 'CITIBANK LUXEMBOURG', 'Match': 'Citi Transaction Services'}, 183: {'Key': '183', 'Unique Custodians': 'CITIBANK N.A.', 'Match': 'Citi Transaction Services'}, 184: {'Key': '184', 'Unique Custodians': 'CITIBANK N.A. HONG KONG', 'Match': 'Citi Transaction Services'}, 185: {'Key': '185', 'Unique Custodians': 'CITIBANK N.A., SINGAPORE BRANCH', 'Match': 'Citi Transaction Services'}, 186: {'Key': '186', 'Unique Custodians': 'CITIBANK NA', 'Match': 'Citi Transaction Services'}, 187: {'Key': '187', 'Unique Custodians': 'CITIBANK NA MUMBAI', 'Match': 'Citi Transaction Services'}, 188: {'Key': '188', 'Unique Custodians': 'CITIBANK NA, NEW YORK BRANCH', 'Match': 'Citi Transaction Services'}, 189: {'Key': '189', 'Unique Custodians': 'CITIBANK PRIVATE BANK', 'Match': 'Citi Transaction Services'}, 190: {'Key': '190', 'Unique Custodians': 'CITIBANK, A.S.', 'Match': 'Citi Transaction Services'}, 191: {'Key': '191', 'Unique Custodians': 'CITIBANK, N.A.', 'Match': 'Citi Transaction Services'}, 192: {'Key': '192', 'Unique Custodians': 'CITIBANK, NA', 'Match': 'Citi Transaction Services'}, 193: {'Key': '193', 'Unique Custodians': 'CITIGROUP GLOBAL CAPITAL MARKETS LIMITED', 'Match': 'Citi Transaction Services'}, 194: {'Key': '194', 'Unique Custodians': 'CITIGROUP GLOBAL MARKETS INC.', 'Match': 'Citi Transaction Services'}, 195: {'Key': '195', 'Unique Custodians': 'CITIGROUP GLOBAL MARKETS LIMITED', 'Match': 'Citi Transaction Services'}, 196: {'Key': '196', 'Unique Custodians': 'CITIGROUP GLOBAL MARKETS LTD.', 'Match': 'Citi Transaction Services'}, 197: {'Key': '197', 'Unique Custodians': 'CITIGROUP GLOBAL MARKETS, INC.', 'Match': 'Citi Transaction Services'}, 198: {'Key': '198', 'Unique Custodians': 'CITIGROUP GLOBAL MARKETS, LTD.', 'Match': 'Citi Transaction Services'}, 199: {'Key': '199', 'Unique Custodians': 'CITIGROUP INC.', 'Match': 'Citi Transaction Services'}, 200: {'Key': '200', 'Unique Custodians': 'CITIGROUP SECURITIES SERVICES INC.', 'Match': 'Citi Transaction Services'}, 201: {'Key': '201', 'Unique Custodians': 'CITIGROUP, INC.', 'Match': 'Citi Transaction Services'}, 202: {'Key': '202', 'Unique Custodians': 'CITIZENS BANK N.A.', 'Match': 'Citizens Bank'}, 203: {'Key': '203', 'Unique Custodians': 'CITIZENS BANK, N.A.', 'Match': 'Citizens Bank'}, 204: {'Key': '204', 'Unique Custodians': 'CITY NATIONAL BANK', 'Match': 'City National Bank'}, 205: {'Key': '205', 'Unique Custodians': 'CITY NATIONAL CORPORATION', 'Match': 'City National Bank'}, 206: {'Key': '206', 'Unique Custodians': 'CLSA', 'Match': 'CLSA'}, 207: {'Key': '207', 'Unique Custodians': 'COLORADO STATE BANK & TRUST', 'Match': 'Colorado State Bank and Trust'}, 208: {'Key': '208', 'Unique Custodians': 'COLORADO STATE BANK AND TRUST', 'Match': 'Colorado State Bank and Trust'}, 209: {'Key': '209', 'Unique Custodians': 'COMPUTERSHARE', 'Match': 'Computershare'}, 210: {'Key': '210', 'Unique Custodians': 'COMPUTERSHARE LIMITED', 'Match': 'Computershare'}, 211: {'Key': '211', 'Unique Custodians': 'COMPUTERSHARE SECURITIES CORPORATION', 'Match': 'Computershare'}, 212: {'Key': '212', 'Unique Custodians': 'COMPUTERSHARE TRUST COMPANY N.A.', 'Match': 'Computershare'}, 213: {'Key': '213', 'Unique Custodians': 'COMPUTERSHARE TRUST COMPANY, N.A.', 'Match': 'Computershare'}, 214: {'Key': '214', 'Unique Custodians': 'COMPUTERSHARE TRUST COMPANY, NA', 'Match': 'Computershare'}, 215: {'Key': '215', 'Unique Custodians': 'CONTINENTAL STOCK TRANSFER', 'Match': 'Continental Stock Transfer & Trust Company'}, 216: {'Key': '216', 'Unique Custodians': 'CONTINENTAL STOCK TRANSFER & TRUST COMPANY', 'Match': 'Continental Stock Transfer & Trust Company'}, 217: {'Key': '217', 'Unique Custodians': 'CREDIT AGRICOLE CORPORATE & INVESTMENT BANK', 'Match': 'Credit Agricole Corporate and Investment Bank'}, 218: {'Key': '218', 'Unique Custodians': 'CREDIT AGRICOLE CORPORATE AND INVESTMENT BANK', 'Match': 'Credit Agricole Corporate and Investment Bank'}, 219: {'Key': '219', 'Unique Custodians': 'CREDIT SUISSE', 'Match': 'Credit Suisse Prime Fund Services'}, 220: {'Key': '220', 'Unique Custodians': 'CREDIT SUISSE AG', 'Match': 'Credit Suisse Prime Fund Services'}, 221: {'Key': '221', 'Unique Custodians': 'CREDIT SUISSE AG, DUBLIN BRANCH', 'Match': 'Credit Suisse Prime Fund Services'}, 222: {'Key': '222', 'Unique Custodians': 'CREDIT SUISSE AG, LONDON BRANCH', 'Match': 'Credit Suisse Prime Fund Services'}, 223: {'Key': '223', 'Unique Custodians': 'CREDIT SUISSE CAPITAL LLC', 'Match': 'Credit Suisse Prime Fund Services'}, 224: {'Key': '224', 'Unique Custodians': 'CREDIT SUISSE EUROPE LTD.', 'Match': 'Credit Suisse Prime Fund Services'}, 225: {'Key': '225', 'Unique Custodians': 'CREDIT SUISSE GROUP AG', 'Match': 'Credit Suisse Prime Fund Services'}, 226: {'Key': '226', 'Unique Custodians': 'CREDIT SUISSE HEDGING-GRIFFO CORRETORA DE VALORES S.A.', 'Match': 'Credit Suisse Prime Fund Services'}, 227: {'Key': '227', 'Unique Custodians': 'CREDIT SUISSE INTERNATIONAL', 'Match': 'Credit Suisse Prime Fund Services'}, 228: {'Key': '228', 'Unique Custodians': 'CREDIT SUISSE PRIME SECURITIES SERVICES (USA) LLC', 'Match': 'Credit Suisse Prime Fund Services'}, 229: {'Key': '229', 'Unique Custodians': 'CREDIT SUISSE SECURITIES (EUROPE)', 'Match': 'Credit Suisse Prime Fund Services'}, 230: {'Key': '230', 'Unique Custodians': 'CREDIT SUISSE SECURITIES (EUROPE) LIMITED', 'Match': 'Credit Suisse Prime Fund Services'}, 231: {'Key': '231', 'Unique Custodians': 'CREDIT SUISSE SECURITIES (EUROPE) LTD', 'Match': 'Credit Suisse Prime Fund Services'}, 232: {'Key': '232', 'Unique Custodians': 'CREDIT SUISSE SECURITIES (EUROPE) LTD.', 'Match': 'Credit Suisse Prime Fund Services'}, 233: {'Key': '233', 'Unique Custodians': 'CREDIT SUISSE SECURITIES (USA) LLC', 'Match': 'Credit Suisse Prime Fund Services'}, 234: {'Key': '234', 'Unique Custodians': 'CREDIT SUISSE SECURITIES EUROPE', 'Match': 'Credit Suisse Prime Fund Services'}, 235: {'Key': '235', 'Unique Custodians': 'CREDIT SUISSE SECURITIES LLC', 'Match': 'Credit Suisse Prime Fund Services'}, 236: {'Key': '236', 'Unique Custodians': 'CSL STOCKBROKERS LIMITED', 'Match': 'CSL Stockbrokers'}, 237: {'Key': '237', 'Unique Custodians': 'CULLEN/FROST BANKERS, INC.', 'Match': 'Cullen/Frost Bankers'}, 238: {'Key': '238', 'Unique Custodians': 'DAIWA CAPITAL MARKETS AMERICA INC.', 'Match': 'Daiwa Capital Markets America'}, 239: {'Key': '239', 'Unique Custodians': 'DAIWA CAPITAL MARKETS EUROPE LTD', 'Match': 'Daiwa Capital Markets America'}, 240: {'Key': '240', 'Unique Custodians': 'DB ALTERNATIVE FUND SERVICES', 'Match': 'Deutsche Bank'}, 241: {'Key': '241', 'Unique Custodians': 'DB FUND SERVICES LLC', 'Match': 'Deutsche Bank'}, 242: {'Key': '242', 'Unique Custodians': 'DBS BANK LIMITED', 'Match': 'DBS Bank'}, 243: {'Key': '243', 'Unique Custodians': 'DBS BANK LTD', 'Match': 'DBS Bank'}, 244: {'Key': '244', 'Unique Custodians': 'DBS BANK LTD.', 'Match': 'DBS Bank'}, 245: {'Key': '245', 'Unique Custodians': 'DEUTCHE BANK AG', 'Match': 'Deutsche Bank'}, 246: {'Key': '246', 'Unique Custodians': 'DEUTSCHE ASSET & WEALTH MANAGEMENT', 'Match': 'Deutsche Bank'}, 247: {'Key': '247', 'Unique Custodians': 'DEUTSCHE BANK', 'Match': 'Deutsche Bank'}, 248: {'Key': '248', 'Unique Custodians': 'DEUTSCHE BANK ( CAYMAN) LTD.', 'Match': 'Deutsche Bank'}, 249: {'Key': '249', 'Unique Custodians': 'DEUTSCHE BANK (CAYMAN) LIMITED', 'Match': 'Deutsche Bank'}, 250: {'Key': '250', 'Unique Custodians': 'DEUTSCHE BANK (CAYMAN) LTD', 'Match': 'Deutsche Bank'}, 251: {'Key': '251', 'Unique Custodians': 'DEUTSCHE BANK (CAYMAN) LTD.', 'Match': 'Deutsche Bank'}, 252: {'Key': '252', 'Unique Custodians': 'DEUTSCHE BANK (MAURITIUS) LIMITED', 'Match': 'Deutsche Bank'}, 253: {'Key': '253', 'Unique Custodians': 'DEUTSCHE BANK (MAURITIUS) LTD.', 'Match': 'Deutsche Bank'}, 254: {'Key': '254', 'Unique Custodians': 'DEUTSCHE BANK A.G.', 'Match': 'Deutsche Bank'}, 255: {'Key': '255', 'Unique Custodians': 'DEUTSCHE BANK AG', 'Match': 'Deutsche Bank'}, 256: {'Key': '256', 'Unique Custodians': 'DEUTSCHE BANK- AG', 'Match': 'Deutsche Bank'}, 257: {'Key': '257', 'Unique Custodians': 'DEUTSCHE BANK AG - LONDON BRANCH', 'Match': 'Deutsche Bank'}, 258: {'Key': '258', 'Unique Custodians': 'DEUTSCHE BANK AG - NEW YORK BRANCH', 'Match': 'Deutsche Bank'}, 259: {'Key': '259', 'Unique Custodians': 'DEUTSCHE BANK AG (MUMBAI)', 'Match': 'Deutsche Bank'}, 260: {'Key': '260', 'Unique Custodians': 'DEUTSCHE BANK AG NEW YORK BRANCH', 'Match': 'Deutsche Bank'}, 261: {'Key': '261', 'Unique Custodians': 'DEUTSCHE BANK AG SINGAPORE BRANCH', 'Match': 'Deutsche Bank'}, 262: {'Key': '262', 'Unique Custodians': 'DEUTSCHE BANK AG, DUBLIN BRANCH', 'Match': 'Deutsche Bank'}, 263: {'Key': '263', 'Unique Custodians': 'DEUTSCHE BANK AG, LONDON BRANCH', 'Match': 'Deutsche Bank'}, 264: {'Key': '264', 'Unique Custodians': 'DEUTSCHE BANK AG, NEW YORK BRANCH', 'Match': 'Deutsche Bank'}, 265: {'Key': '265', 'Unique Custodians': 'DEUTSCHE BANK AG, SINGAPORE BRANCH', 'Match': 'Deutsche Bank'}, 266: {'Key': '266', 'Unique Custodians': 'DEUTSCHE BANK NATIONAL TRUST COMPANY', 'Match': 'Deutsche Bank'}, 267: {'Key': '267', 'Unique Custodians': 'DEUTSCHE BANK PRIVATE WEALTH MANAGEMENT', 'Match': 'Deutsche Bank'}, 268: {'Key': '268', 'Unique Custodians': 'DEUTSCHE BANK S.A BANCO ALEMAO', 'Match': 'Deutsche Bank'}, 269: {'Key': '269', 'Unique Custodians': 'DEUTSCHE BANK SECURITIES INC.', 'Match': 'Deutsche Bank'}, 270: {'Key': '270', 'Unique Custodians': 'DEUTSCHE BANK SECURITIES, INC.', 'Match': 'Deutsche Bank'}, 271: {'Key': '271', 'Unique Custodians': 'DEUTSCHE BANK TRUST CO. AMERICAS', 'Match': 'Deutsche Bank'}, 272: {'Key': '272', 'Unique Custodians': 'DEUTSCHE BANK TRUST COMPANY AMERICAS', 'Match': 'Deutsche Bank'}, 273: {'Key': '273', 'Unique Custodians': 'DEUTSCHE BANK TRUST COMPANY AMERICA', 'Match': 'Deutsche Bank'}, 274: {'Key': '274', 'Unique Custodians': 'DEUTSCHE BANK TRUST COMPANY DELAWARE', 'Match': 'Deutsche Bank'}, 275: {'Key': '275', 'Unique Custodians': 'DEUTSCHE BANK, AG', 'Match': 'Deutsche Bank'}, 276: {'Key': '276', 'Unique Custodians': 'DEUTSCHE BANK-AG', 'Match': 'Deutsche Bank'}, 277: {'Key': '277', 'Unique Custodians': 'DEUTSCHE SECURITIES KOREA', 'Match': 'Deutsche Bank'}, 278: {'Key': '278', 'Unique Custodians': 'E D & F MAN CAPITAL MARKETS INC.', 'Match': 'ED&F Man Capital Markets'}, 279: {'Key': '279', 'Unique Custodians': 'E*TRADE SECURITIES LLC', 'Match': 'Etrade Securities'}, 280: {'Key': '280', 'Unique Custodians': 'EDELWEISS CUSTODIAL SERVICES LIMITED', 'Match': 'Edelweiss Custodial Services'}, 281: {'Key': '281', 'Unique Custodians': 'EDMOND DE ROTHSCHILD', 'Match': 'Banque Priv_e Edmond de Rothschild'}, 282: {'Key': '282', 'Unique Custodians': 'EFG HERMES', 'Match': 'EFG-Hermes'}, 283: {'Key': '283', 'Unique Custodians': 'ERSTE BANK', 'Match': 'Erste Bank'}, 284: {'Key': '284', 'Unique Custodians': 'ERSTE BANK AD PODGORICA', 'Match': 'Erste Bank'}, 285: {'Key': '285', 'Unique Custodians': 'FEDERATED INVESTORS', 'Match': 'Federated Investors'}, 286: {'Key': '286', 'Unique Custodians': 'FIDELITY BROKERAGE SERVICES LLC', 'Match': 'Fidelity Investments'}, 287: {'Key': '287', 'Unique Custodians': 'FIDELITY CAPITAL MARKETS', 'Match': 'Fidelity Investments'}, 288: {'Key': '288', 'Unique Custodians': 'FIDELITY FAMILY OFFICE SERVICES', 'Match': 'Fidelity Investments'}, 289: {'Key': '289', 'Unique Custodians': 'FIDELITY INVESTMENT SERVICES, INC.', 'Match': 'Fidelity Investments'}, 290: {'Key': '290', 'Unique Custodians': 'FIDELITY INVESTMENTS (THE BANK OF NEW YORK, MELLON)', 'Match': 'Fidelity Investments'}, 291: {'Key': '291', 'Unique Custodians': 'FIDELITY INVESTMENTS INSTITUTIONAL SERVICES COMPANY, INC.', 'Match': 'Fidelity Investments'}, 292: {'Key': '292', 'Unique Custodians': 'FIDELITY INVESTMENTS, INC.', 'Match': 'Fidelity Investments'}, 293: {'Key': '293', 'Unique Custodians': 'FIDELITY PRIME SERVICES', 'Match': 'Fidelity Investments'}, 294: {'Key': '294', 'Unique Custodians': 'FIRST CLEARING, LLC', 'Match': 'First Clearing'}, 295: {'Key': '295', 'Unique Custodians': 'FIRST REPUBLIC', 'Match': 'First Republic Bank'}, 296: {'Key': '296', 'Unique Custodians': 'FIRST REPUBLIC BANK', 'Match': 'First Republic Bank'}, 297: {'Key': '297', 'Unique Custodians': 'FIRST REPUBLIC BANK, N.A.', 'Match': 'First Republic Bank'}, 298: {'Key': '298', 'Unique Custodians': 'FIRST REPUBLIC SECURITIES COMPANY, LLC', 'Match': 'First Republic Bank'}, 299: {'Key': '299', 'Unique Custodians': 'FIRST REPUBLIC TRUST COMPANY', 'Match': 'First Republic Bank'}, 300: {'Key': '300', 'Unique Custodians': 'FIRST TENNESSEE BANK, N.A.', 'Match': 'First Tennessee Bank'}, 301: {'Key': '301', 'Unique Custodians': 'FROST BANK', 'Match': 'Cullen/Frost Bankers'}, 302: {'Key': '302', 'Unique Custodians': 'GLOBAL PRIME PARTNERS (ASIA) LIMITED', 'Match': 'Global Prime Partners'}, 303: {'Key': '303', 'Unique Custodians': 'GOLDMAN SACHS', 'Match': 'Goldman Sachs'}, 304: {'Key': '304', 'Unique Custodians': 'GOLDMAN SACHS & CO', 'Match': 'Goldman Sachs'}, 305: {'Key': '305', 'Unique Custodians': 'GOLDMAN SACHS & CO.', 'Match': 'Goldman Sachs'}, 306: {'Key': '306', 'Unique Custodians': 'GOLDMAN SACHS & CO. LLC', 'Match': 'Goldman Sachs'}, 307: {'Key': '307', 'Unique Custodians': 'GOLDMAN SACHS ASSET MANAGEMENT LP', 'Match': 'Goldman Sachs'}, 308: {'Key': '308', 'Unique Custodians': 'GOLDMAN SACHS BANK', 'Match': 'Goldman Sachs'}, 309: {'Key': '309', 'Unique Custodians': 'GOLDMAN SACHS BANK USA', 'Match': 'Goldman Sachs'}, 310: {'Key': '310', 'Unique Custodians': 'GOLDMAN SACHS EXECUTION & CLEARING', 'Match': 'Goldman Sachs'}, 311: {'Key': '311', 'Unique Custodians': 'GOLDMAN SACHS EXECUTION & CLEARING, L.P.', 'Match': 'Goldman Sachs'}, 312: {'Key': '312', 'Unique Custodians': 'GOLDMAN SACHS FINANCIAL MARKETS, L.P.', 'Match': 'Goldman Sachs'}, 313: {'Key': '313', 'Unique Custodians': 'GOLDMAN SACHS INTERNATIONAL', 'Match': 'Goldman Sachs'}, 314: {'Key': '314', 'Unique Custodians': 'GOLDMAN SACHS INTERNATIONAL (LONDON)', 'Match': 'Goldman Sachs'}, 315: {'Key': '315', 'Unique Custodians': 'GOLDMAN SACHS INTERNATIONAL BANK', 'Match': 'Goldman Sachs'}, 316: {'Key': '316', 'Unique Custodians': 'GOLDMAN, SACHS & CO', 'Match': 'Goldman Sachs'}, 317: {'Key': '317', 'Unique Custodians': 'GOLDMAN, SACHS & CO.', 'Match': 'Goldman Sachs'}, 318: {'Key': '318', 'Unique Custodians': 'GOLDMAN, SACHS & CO. AND AFFILIATED QUALIFIED CUSTODIANS', 'Match': 'Goldman Sachs'}, 319: {'Key': '319', 'Unique Custodians': 'GOLOMT BANK', 'Match': 'Golomt bank'}, 320: {'Key': '320', 'Unique Custodians': 'H.S.B.C. BANK PLC', 'Match': 'HSBC'}, 321: {'Key': '321', 'Unique Custodians': 'H.S.B.C. BANK USA, NA', 'Match': 'HSBC'}, 322: {'Key': '322', 'Unique Custodians': 'HARRIS BANK N.A.', 'Match': 'BMO Harris Bank'}, 323: {'Key': '323', 'Unique Custodians': 'HARRIS N.A.', 'Match': 'BMO Harris Bank'}, 324: {'Key': '324', 'Unique Custodians': 'HARRIS NA', 'Match': 'BMO Harris Bank'}, 325: {'Key': '325', 'Unique Custodians': 'HARTLEYS LIMITED', 'Match': 'Hartleys'}, 326: {'Key': '326', 'Unique Custodians': 'HAYWOOD SECURITIES (USA) INC.', 'Match': 'Haywood Securities'}, 327: {'Key': '327', 'Unique Custodians': 'HDFC BANK LIMITED', 'Match': 'HDFC'}, 328: {'Key': '328', 'Unique Custodians': 'HSBC BANK', 'Match': 'HSBC'}, 329: {'Key': '329', 'Unique Custodians': 'HSBC BANK (MAURITIUS) LIMITED', 'Match': 'HSBC'}, 330: {'Key': '330', 'Unique Custodians': 'HSBC BANK BERMUDA LIMITED', 'Match': 'HSBC'}, 331: {'Key': '331', 'Unique Custodians': 'HSBC BANK NA USA', 'Match': 'HSBC'}, 332: {'Key': '332', 'Unique Custodians': 'HSBC BANK PLC', 'Match': 'HSBC'}, 333: {'Key': '333', 'Unique Custodians': 'HSBC BANK U.S.A., NEW YORK', 'Match': 'HSBC'}, 334: {'Key': '334', 'Unique Custodians': 'HSBC BANK USA', 'Match': 'HSBC'}, 335: {'Key': '335', 'Unique Custodians': 'HSBC BANK USA N.A.', 'Match': 'HSBC'}, 336: {'Key': '336', 'Unique Custodians': 'HSBC BANK USA NA', 'Match': 'HSBC'}, 337: {'Key': '337', 'Unique Custodians': 'HSBC BANK USA NATIONAL ASSOCIATION', 'Match': 'HSBC'}, 338: {'Key': '338', 'Unique Custodians': 'HSBC BANK USA, N.A.', 'Match': 'HSBC'}, 339: {'Key': '339', 'Unique Custodians': 'HSBC BANK USA, NA', 'Match': 'HSBC'}, 340: {'Key': '340', 'Unique Custodians': 'HSBC BANK USA, NATIONAL ASSOCIATION', 'Match': 'HSBC'}, 341: {'Key': '341', 'Unique Custodians': 'HSBC INSTITUTIONAL TRUST SERVICE (IRELAND) LIMITED', 'Match': 'HSBC'}, 342: {'Key': '342', 'Unique Custodians': 'HSBC INSTITUTIONAL TRUST SERVICES (BERMUDA) LIMITED', 'Match': 'HSBC'}, 343: {'Key': '343', 'Unique Custodians': 'HSBC INSTITUTIONAL TRUST SERVICES (IRELAND) LIMITED', 'Match': 'HSBC'}, 344: {'Key': '344', 'Unique Custodians': 'HSBC INSTITUTIONAL TRUST SERVICES (SINGAPORE) LIMITED', 'Match': 'HSBC'}, 345: {'Key': '345', 'Unique Custodians': 'HSBC LIMITED', 'Match': 'HSBC'}, 346: {'Key': '346', 'Unique Custodians': 'HSBC MEXICO, S.A. INSTITUTION DE BANCA MULTIPLE GRUPO FINANCIERO', 'Match': 'HSBC'}, 347: {'Key': '347', 'Unique Custodians': 'HSBC MIDDLE EAST LTD.', 'Match': 'HSBC'}, 348: {'Key': '348', 'Unique Custodians': 'HSBC PLC', 'Match': 'HSBC'}, 349: {'Key': '349', 'Unique Custodians': 'HSBC PRIVATE BANK', 'Match': 'HSBC'}, 350: {'Key': '350', 'Unique Custodians': 'HSBC SECURITIES (USA) INC.', 'Match': 'HSBC'}, 351: {'Key': '351', 'Unique Custodians': 'HSBC SECURITIES SERVICES', 'Match': 'HSBC'}, 352: {'Key': '352', 'Unique Custodians': 'HSBC USA, N.A.', 'Match': 'HSBC'}, 353: {'Key': '353', 'Unique Custodians': 'HUDSON & CEI', 'Match': 'Hudson & Cie'}, 354: {'Key': '354', 'Unique Custodians': 'IC SECURITIES', 'Match': 'IC Securities'}, 355: {'Key': '355', 'Unique Custodians': 'ICICI BANK LIMITED', 'Match': 'ICICI Bank'}, 356: {'Key': '356', 'Unique Custodians': 'IMARA EDWARDS SECURITIES LIMITED', 'Match': 'Imara Edwards Securities'}, 357: {'Key': '357', 'Unique Custodians': 'INDUSTRIAL AND COMMERCIAL BANK OF CHINA FINANCIAL SERVICES LLC', 'Match': 'Industrial and Commercial Bank of China Financial Services'}, 358: {'Key': '358', 'Unique Custodians': 'INDUSTRIAL BANK OF CHINA', 'Match': 'Industrial and Commercial Bank of China Financial Services'}, 359: {'Key': '359', 'Unique Custodians': 'ING BANK', 'Match': 'ING Bank'}, 360: {'Key': '360', 'Unique Custodians': 'ING BANK N.V.', 'Match': 'ING Bank'}, 361: {'Key': '361', 'Unique Custodians': 'ING LUXEMBOURG S.A.', 'Match': 'ING Bank'}, 362: {'Key': '362', 'Unique Custodians': 'ING LUXEMBOURG, S.A.', 'Match': 'ING Bank'}, 363: {'Key': '363', 'Unique Custodians': 'INTERACTIVE BROKERS', 'Match': 'Interactive Brokers'}, 364: {'Key': '364', 'Unique Custodians': 'INTERACTIVE BROKERS (U.K.) LIMITED', 'Match': 'Interactive Brokers'}, 365: {'Key': '365', 'Unique Custodians': 'INTERACTIVE BROKERS CORP.', 'Match': 'Interactive Brokers'}, 366: {'Key': '366', 'Unique Custodians': 'INTERACTIVE BROKERS CORPORATION', 'Match': 'Interactive Brokers'}, 367: {'Key': '367', 'Unique Custodians': 'INTERACTIVE BROKERS GROUP, INC.', 'Match': 'Interactive Brokers'}, 368: {'Key': '368', 'Unique Custodians': 'INTERACTIVE BROKERS LLC', 'Match': 'Interactive Brokers'}, 369: {'Key': '369', 'Unique Custodians': 'INTERACTIVE BROKERS, LLC', 'Match': 'Interactive Brokers'}, 370: {'Key': '370', 'Unique Custodians': 'INTERCLEAR CENTRAL DE VALORES', 'Match': 'InterClear Central De Valores'}, 371: {'Key': '371', 'Unique Custodians': 'INTERNATIONAL FUND SERVICES NA LLC', 'Match': 'International Fund Services'}, 372: {'Key': '372', 'Unique Custodians': 'INTL FCSTONE', 'Match': 'INTL FCStone'}, 373: {'Key': '373', 'Unique Custodians': 'INTL FCSTONE FINANCIAL INC.', 'Match': 'INTL FCStone'}, 374: {'Key': '374', 'Unique Custodians': 'INVESTMENT BANK \"VESTA\" (LLC)', 'Match': 'Investment Bank Vesta'}, 375: {'Key': '375', 'Unique Custodians': 'J P MORGAN PRIVATE BANK', 'Match': 'J.P. Morgan'}, 376: {'Key': '376', 'Unique Custodians': 'J. ARON & COMPANY', 'Match': 'J.P. Morgan'}, 377: {'Key': '377', 'Unique Custodians': 'J. P. MORGAN PRIVATE BANK', 'Match': 'J.P. Morgan'}, 378: {'Key': '378', 'Unique Custodians': 'J.P MORGAN CHASE BANK, N.A.', 'Match': 'J.P. Morgan'}, 379: {'Key': '379', 'Unique Custodians': 'J.P. MORGAN', 'Match': 'J.P. Morgan'}, 380: {'Key': '380', 'Unique Custodians': 'J.P. MORGAN BANK (IRELAND) PLC', 'Match': 'J.P. Morgan'}, 381: {'Key': '381', 'Unique Custodians': 'J.P. MORGAN CHASE', 'Match': 'J.P. Morgan'}, 382: {'Key': '382', 'Unique Custodians': 'J.P. MORGAN CHASE & CO', 'Match': 'J.P. Morgan'}, 383: {'Key': '383', 'Unique Custodians': 'J.P. MORGAN CHASE & CO.', 'Match': 'J.P. Morgan'}, 384: {'Key': '384', 'Unique Custodians': 'J.P. MORGAN CHASE BANK', 'Match': 'J.P. Morgan'}, 385: {'Key': '385', 'Unique Custodians': 'J.P. MORGAN CHASE BANK N.A.', 'Match': 'J.P. Morgan'}, 386: {'Key': '386', 'Unique Custodians': 'J.P. MORGAN CHASE BANK NA', 'Match': 'J.P. Morgan'}, 387: {'Key': '387', 'Unique Custodians': 'J.P. MORGAN CHASE BANK, N.A.', 'Match': 'J.P. Morgan'}, 388: {'Key': '388', 'Unique Custodians': 'J.P. MORGAN CHASE BANK, N.A..', 'Match': 'J.P. Morgan'}, 389: {'Key': '389', 'Unique Custodians': 'J.P. MORGAN CHASE BANK, NA', 'Match': 'J.P. Morgan'}, 390: {'Key': '390', 'Unique Custodians': 'J.P. MORGAN CHASE, N.A.', 'Match': 'J.P. Morgan'}, 391: {'Key': '391', 'Unique Custodians': 'J.P. MORGAN CHASE, NA', 'Match': 'J.P. Morgan'}, 392: {'Key': '392', 'Unique Custodians': 'J.P. MORGAN CLEARING CORP.', 'Match': 'J.P. Morgan'}, 393: {'Key': '393', 'Unique Custodians': 'J.P. MORGAN PRIVATE BANK', 'Match': 'J.P. Morgan'}, 394: {'Key': '394', 'Unique Custodians': 'J.P. MORGAN SECURITIES INC.', 'Match': 'J.P. Morgan'}, 395: {'Key': '395', 'Unique Custodians': 'J.P. MORGAN SECURITIES LLC', 'Match': 'J.P. Morgan'}, 396: {'Key': '396', 'Unique Custodians': 'J.P. MORGAN SECURITIES PLC', 'Match': 'J.P. Morgan'}, 397: {'Key': '397', 'Unique Custodians': 'J.P. MORGAN SECURITIES, LLC', 'Match': 'J.P. Morgan'}, 398: {'Key': '398', 'Unique Custodians': 'JAMAICA CENTRAL SECURITIES DEPOSITORY LIMITED', 'Match': 'Jamaica Central Securities Depository'}, 399: {'Key': '399', 'Unique Custodians': 'JEFFERIES & CO.', 'Match': 'Jefferies'}, 400: {'Key': '400', 'Unique Custodians': 'JEFFERIES & COMPANY INC', 'Match': 'Jefferies'}, 401: {'Key': '401', 'Unique Custodians': 'JEFFERIES & COMPANY, INC.', 'Match': 'Jefferies'}, 402: {'Key': '402', 'Unique Custodians': 'JEFFERIES BACHE FINANCIAL SERVICES, INC.', 'Match': 'Jefferies'}, 403: {'Key': '403', 'Unique Custodians': 'JEFFERIES FINANCIAL SERVICES, INC.', 'Match': 'Jefferies'}, 404: {'Key': '404', 'Unique Custodians': 'JEFFERIES GROUP INC.', 'Match': 'Jefferies'}, 405: {'Key': '405', 'Unique Custodians': 'JEFFERIES INTERNATIONAL LIMITED', 'Match': 'Jefferies'}, 406: {'Key': '406', 'Unique Custodians': 'JEFFERIES LLC', 'Match': 'Jefferies'}, 407: {'Key': '407', 'Unique Custodians': 'JP MORGAN', 'Match': 'J.P. Morgan'}, 408: {'Key': '408', 'Unique Custodians': 'JP MORGAN CCVM SA', 'Match': 'J.P. Morgan'}, 409: {'Key': '409', 'Unique Custodians': 'JP MORGAN CHASE', 'Match': 'J.P. Morgan'}, 410: {'Key': '410', 'Unique Custodians': 'JP MORGAN CHASE & CO', 'Match': 'J.P. Morgan'}, 411: {'Key': '411', 'Unique Custodians': 'JP MORGAN CHASE & CO.', 'Match': 'J.P. Morgan'}, 412: {'Key': '412', 'Unique Custodians': 'JP MORGAN CHASE BANK', 'Match': 'J.P. Morgan'}, 413: {'Key': '413', 'Unique Custodians': 'JP MORGAN CHASE BANK N.A.', 'Match': 'J.P. Morgan'}, 414: {'Key': '414', 'Unique Custodians': 'JP MORGAN CHASE BANK NA', 'Match': 'J.P. Morgan'}, 415: {'Key': '415', 'Unique Custodians': 'JP MORGAN CHASE BANK NEW YORK', 'Match': 'J.P. Morgan'}, 416: {'Key': '416', 'Unique Custodians': 'JP MORGAN CHASE BANK, N.A.', 'Match': 'J.P. Morgan'}, 417: {'Key': '417', 'Unique Custodians': 'JP MORGAN CHASE BANK, NA', 'Match': 'J.P. Morgan'}, 418: {'Key': '418', 'Unique Custodians': 'JP MORGAN CHASE BANK, NATIONAL ASSOCIATION', 'Match': 'J.P. Morgan'}, 419: {'Key': '419', 'Unique Custodians': 'JP MORGAN CHASE N.A', 'Match': 'J.P. Morgan'}, 420: {'Key': '420', 'Unique Custodians': 'JP MORGAN CLEARING CORP', 'Match': 'J.P. Morgan'}, 421: {'Key': '421', 'Unique Custodians': 'JP MORGAN CLEARING CORP.', 'Match': 'J.P. Morgan'}, 422: {'Key': '422', 'Unique Custodians': 'JP MORGAN FUTURES (KOREA) LIMITED', 'Match': 'J.P. Morgan'}, 423: {'Key': '423', 'Unique Custodians': 'JP MORGAN MARKETS LIMITED', 'Match': 'J.P. Morgan'}, 424: {'Key': '424', 'Unique Custodians': 'JP MORGAN SECURITIES', 'Match': 'J.P. Morgan'}, 425: {'Key': '425', 'Unique Custodians': 'JP MORGAN SECURITIES (TAIWAN) LIMITED', 'Match': 'J.P. Morgan'}, 426: {'Key': '426', 'Unique Custodians': 'JP MORGAN SECURITIES LLC', 'Match': 'J.P. Morgan'}, 427: {'Key': '427', 'Unique Custodians': 'JP MORGAN SECURITIES LTD.', 'Match': 'J.P. Morgan'}, 428: {'Key': '428', 'Unique Custodians': 'JP MORGAN SECURITIES PLC', 'Match': 'J.P. Morgan'}, 429: {'Key': '429', 'Unique Custodians': 'JP MORGAN SECURITIES, LLC', 'Match': 'J.P. Morgan'}, 430: {'Key': '430', 'Unique Custodians': 'JP MORGAN TRUST COMPANY OF DELAWARE', 'Match': 'J.P. Morgan'}, 431: {'Key': '431', 'Unique Custodians': 'JPMORGAN ASSET MANAGEMENT (EUROPE) S.A R.L.', 'Match': 'J.P. Morgan'}, 432: {'Key': '432', 'Unique Custodians': 'JPMORGAN CHASE', 'Match': 'J.P. Morgan'}, 433: {'Key': '433', 'Unique Custodians': 'JPMORGAN CHASE & CO.', 'Match': 'J.P. Morgan'}, 434: {'Key': '434', 'Unique Custodians': 'JPMORGAN CHASE BANK', 'Match': 'J.P. Morgan'}, 435: {'Key': '435', 'Unique Custodians': 'JPMORGAN CHASE BANK N.A.', 'Match': 'J.P. Morgan'}, 436: {'Key': '436', 'Unique Custodians': 'JPMORGAN CHASE BANK NA', 'Match': 'J.P. Morgan'}, 437: {'Key': '437', 'Unique Custodians': 'JPMORGAN CHASE BANK, N.A.', 'Match': 'J.P. Morgan'}, 438: {'Key': '438', 'Unique Custodians': 'JPMORGAN CHASE BANK, NA', 'Match': 'J.P. Morgan'}, 439: {'Key': '439', 'Unique Custodians': 'JPMORGAN CHASE BANK, NATIONAL ASSOCIATION', 'Match': 'J.P. Morgan'}, 440: {'Key': '440', 'Unique Custodians': 'JPMORGAN CHASE, N.A.', 'Match': 'J.P. Morgan'}, 441: {'Key': '441', 'Unique Custodians': 'JPMORGAN CHASE, N.A..', 'Match': 'J.P. Morgan'}, 442: {'Key': '442', 'Unique Custodians': 'KCB RWANDA', 'Match': 'KCB Rwanda'}, 443: {'Key': '443', 'Unique Custodians': 'KEYBANK', 'Match': 'KeyBank'}, 444: {'Key': '444', 'Unique Custodians': 'KEYBANK NA', 'Match': 'KeyBank'}, 445: {'Key': '445', 'Unique Custodians': 'KGS-ALPHA CAPITAL MARKETS, L.P.', 'Match': 'KGS-Alpha Capital Markets'}, 446: {'Key': '446', 'Unique Custodians': 'KLEINWORT BENSON (CHANNEL ISLANDS) LTD', 'Match': 'Kleinwort Benson'}, 447: {'Key': '447', 'Unique Custodians': 'KLEINWORT BENSON (GUERNSEY) LIMITED', 'Match': 'Kleinwort Benson'}, 448: {'Key': '448', 'Unique Custodians': 'KOREA INVESTMENT & SECURITIES CO., LTD.', 'Match': 'Korea Investment & Securities'}, 449: {'Key': '449', 'Unique Custodians': 'KOTAK INFINITI', 'Match': 'Kotak Mahindra Bank'}, 450: {'Key': '450', 'Unique Custodians': 'KOTAK MAHINDRA BANK', 'Match': 'Kotak Mahindra Bank'}, 451: {'Key': '451', 'Unique Custodians': 'KOTAK MAHINDRA BANK LIMITED', 'Match': 'Kotak Mahindra Bank'}, 452: {'Key': '452', 'Unique Custodians': 'KOTAK MAHINDRA, LTD', 'Match': 'Kotak Mahindra Bank'}, 453: {'Key': '453', 'Unique Custodians': 'KOTAK SECURITIES', 'Match': 'Kotak Mahindra Bank'}, 454: {'Key': '454', 'Unique Custodians': 'KT ZMICO SECURITIES CO., LTD.', 'Match': 'KT Zmico Securities Company'}, 455: {'Key': '455', 'Unique Custodians': 'KT-ZMICO', 'Match': 'KT Zmico Securities Company'}, 456: {'Key': '456', 'Unique Custodians': 'LADENBURG THALMANN & CO. INC.', 'Match': 'Ladenburg Thalmann Financial Services'}, 457: {'Key': '457', 'Unique Custodians': 'LOOMIS INTERNATIONAL (UK) LIMITED', 'Match': 'Loomis International'}, 458: {'Key': '458', 'Unique Custodians': 'M&T BANK', 'Match': 'M&T Bank'}, 459: {'Key': '459', 'Unique Custodians': 'MAC S.A.', 'Match': 'MAC SA'}, 460: {'Key': '460', 'Unique Custodians': 'MACQUARIE BANK LIMITED', 'Match': 'Macquarie Bank'}, 461: {'Key': '461', 'Unique Custodians': 'MAPLES FUND SERVICES (CAYMAN) LIMITED', 'Match': 'Maples Fund Services'}, 462: {'Key': '462', 'Unique Custodians': 'MAXIM GROUP LLC', 'Match': 'Maxim Group'}, 463: {'Key': '463', 'Unique Custodians': 'MERRIILL LYNCH PROFESSIONAL CLEARING CORP.', 'Match': 'Merrill Lynch International'}, 464: {'Key': '464', 'Unique Custodians': 'MERRILL LYNCH CAPITAL SERVICES, INC.', 'Match': 'Merrill Lynch International'}, 465: {'Key': '465', 'Unique Custodians': 'MERRILL LYNCH FINANCIAL MARKETS, INC', 'Match': 'Merrill Lynch International'}, 466: {'Key': '466', 'Unique Custodians': 'MERRILL LYNCH FINANCIAL MARKETS, INC.', 'Match': 'Merrill Lynch International'}, 467: {'Key': '467', 'Unique Custodians': 'MERRILL LYNCH GOVERNMENT SECURITIES INC.', 'Match': 'Merrill Lynch International'}, 468: {'Key': '468', 'Unique Custodians': 'MERRILL LYNCH INTERNATIONAL', 'Match': 'Merrill Lynch International'}, 469: {'Key': '469', 'Unique Custodians': 'MERRILL LYNCH INTERNATIONAL INC', 'Match': 'Merrill Lynch International'}, 470: {'Key': '470', 'Unique Custodians': 'MERRILL LYNCH INTERNATIONAL INC. SEOUL BRANCH', 'Match': 'Merrill Lynch International'}, 471: {'Key': '471', 'Unique Custodians': 'MERRILL LYNCH INTERNATIONAL LIMITED', 'Match': 'Merrill Lynch International'}, 472: {'Key': '472', 'Unique Custodians': 'MERRILL LYNCH PROFESSIONAL CLEARING CORP', 'Match': 'Merrill Lynch International'}, 473: {'Key': '473', 'Unique Custodians': 'MERRILL LYNCH PROFESSIONAL CLEARING CORP.', 'Match': 'Merrill Lynch International'}, 474: {'Key': '474', 'Unique Custodians': 'MILLENIUM TRUST', 'Match': 'Millennium Trust Company'}, 475: {'Key': '475', 'Unique Custodians': 'MILLENIUM TRUST COMPANY', 'Match': 'Millennium Trust Company'}, 476: {'Key': '476', 'Unique Custodians': 'MILLENNIUM TRUST CO', 'Match': 'Millennium Trust Company'}, 477: {'Key': '477', 'Unique Custodians': 'MILLENNIUM TRUST COMPANY', 'Match': 'Millennium Trust Company'}, 478: {'Key': '478', 'Unique Custodians': 'MILLENNIUM TRUST COMPANY LLC', 'Match': 'Millennium Trust Company'}, 479: {'Key': '479', 'Unique Custodians': 'MITSUBISHI UFJ GLOBAL CUSTODY SA', 'Match': 'Mitsubishi UFJ Global Custody'}, 480: {'Key': '480', 'Unique Custodians': 'MIZUHO SECURITIES USA INC.', 'Match': 'Mizuho Securities'}, 481: {'Key': '481', 'Unique Custodians': 'MORGAN STANELY & CO. LLC', 'Match': 'Morgan Stanley'}, 482: {'Key': '482', 'Unique Custodians': 'MORGAN STANLEY', 'Match': 'Morgan Stanley'}, 483: {'Key': '483', 'Unique Custodians': 'MORGAN STANLEY & CO INT PLC', 'Match': 'Morgan Stanley'}, 484: {'Key': '484', 'Unique Custodians': 'MORGAN STANLEY & CO INTERNATIONAL', 'Match': 'Morgan Stanley'}, 485: {'Key': '485', 'Unique Custodians': 'MORGAN STANLEY & CO INTERNATIONAL LTD', 'Match': 'Morgan Stanley'}, 486: {'Key': '486', 'Unique Custodians': 'MORGAN STANLEY & CO INTERNATIONAL PLC', 'Match': 'Morgan Stanley'}, 487: {'Key': '487', 'Unique Custodians': 'MORGAN STANLEY & CO INTERNATIONAL, PLC', 'Match': 'Morgan Stanley'}, 488: {'Key': '488', 'Unique Custodians': 'MORGAN STANLEY & CO INTL PLC', 'Match': 'Morgan Stanley'}, 489: {'Key': '489', 'Unique Custodians': 'MORGAN STANLEY & CO LLC', 'Match': 'Morgan Stanley'}, 490: {'Key': '490', 'Unique Custodians': 'MORGAN STANLEY & CO, INTERNATIONAL PLC', 'Match': 'Morgan Stanley'}, 491: {'Key': '491', 'Unique Custodians': 'MORGAN STANLEY & CO, LLC', 'Match': 'Morgan Stanley'}, 492: {'Key': '492', 'Unique Custodians': 'MORGAN STANLEY & CO. INCORPORATED', 'Match': 'Morgan Stanley'}, 493: {'Key': '493', 'Unique Custodians': 'MORGAN STANLEY & CO. INT PLC', 'Match': 'Morgan Stanley'}, 494: {'Key': '494', 'Unique Custodians': 'MORGAN STANLEY & CO. INTERNATIONAL', 'Match': 'Morgan Stanley'}, 495: {'Key': '495', 'Unique Custodians': 'MORGAN STANLEY & CO. INTERNATIONAL PLC', 'Match': 'Morgan Stanley'}, 496: {'Key': '496', 'Unique Custodians': 'MORGAN STANLEY & CO. INTERNATIONAL PLC.', 'Match': 'Morgan Stanley'}, 497: {'Key': '497', 'Unique Custodians': 'MORGAN STANLEY & CO. LLC', 'Match': 'Morgan Stanley'}, 498: {'Key': '498', 'Unique Custodians': 'MORGAN STANLEY & CO. LLC AND AFFILIATED QUALIFIED CUSTODIANS', 'Match': 'Morgan Stanley'}, 499: {'Key': '499', 'Unique Custodians': 'MORGAN STANLEY & CO., INC.', 'Match': 'Morgan Stanley'}, 500: {'Key': '500', 'Unique Custodians': 'MORGAN STANLEY CAPITAL GROUP INC.', 'Match': 'Morgan Stanley'}, 501: {'Key': '501', 'Unique Custodians': 'MORGAN STANLEY CAPITAL PRODUCTS LLC', 'Match': 'Morgan Stanley'}, 502: {'Key': '502', 'Unique Custodians': 'MORGAN STANLEY CAPITAL SERVICES', 'Match': 'Morgan Stanley'}, 503: {'Key': '503', 'Unique Custodians': 'MORGAN STANLEY CAPITAL SERVICES INC', 'Match': 'Morgan Stanley'}, 504: {'Key': '504', 'Unique Custodians': 'MORGAN STANLEY CAPITAL SERVICES INC.', 'Match': 'Morgan Stanley'}, 505: {'Key': '505', 'Unique Custodians': 'MORGAN STANLEY CAPITAL SERVICES LLC', 'Match': 'Morgan Stanley'}, 506: {'Key': '506', 'Unique Custodians': 'MORGAN STANLEY CAPITAL SERVICES LLC.', 'Match': 'Morgan Stanley'}, 507: {'Key': '507', 'Unique Custodians': 'MORGAN STANLEY CAPITAL SERVICES, INC.', 'Match': 'Morgan Stanley'}, 508: {'Key': '508', 'Unique Custodians': 'MORGAN STANLEY CAPITAL SERVICES, LLC', 'Match': 'Morgan Stanley'}, 509: {'Key': '509', 'Unique Custodians': 'MORGAN STANLEY INSTITUTIONAL LIQUIDITY FUNDS', 'Match': 'Morgan Stanley'}, 510: {'Key': '510', 'Unique Custodians': 'MORGAN STANLEY INTERNATIONAL LIMITED', 'Match': 'Morgan Stanley'}, 511: {'Key': '511', 'Unique Custodians': 'MORGAN STANLEY INTERNATIONAL PLC', 'Match': 'Morgan Stanley'}, 512: {'Key': '512', 'Unique Custodians': 'MORGAN STANLEY LIQUIDITY FUNDS', 'Match': 'Morgan Stanley'}, 513: {'Key': '513', 'Unique Custodians': 'MORGAN STANLEY PRIVATE BANK', 'Match': 'Morgan Stanley'}, 514: {'Key': '514', 'Unique Custodians': 'MORGAN STANLEY PRIVATE BANK ASSOCIATION', 'Match': 'Morgan Stanley'}, 515: {'Key': '515', 'Unique Custodians': 'MORGAN STANLEY PRIVATE BANK NA', 'Match': 'Morgan Stanley'}, 516: {'Key': '516', 'Unique Custodians': 'MORGAN STANLEY PRIVATE BANK NATIONAL ASSOCIATION', 'Match': 'Morgan Stanley'}, 517: {'Key': '517', 'Unique Custodians': 'MORGAN STANLEY PRIVATE BANK, N.A.', 'Match': 'Morgan Stanley'}, 518: {'Key': '518', 'Unique Custodians': 'MORGAN STANLEY PRIVATE BANK, NA', 'Match': 'Morgan Stanley'}, 519: {'Key': '519', 'Unique Custodians': 'MORGAN STANLEY PRIVATE BANK, NATIONAL ASSOCIATION', 'Match': 'Morgan Stanley'}, 520: {'Key': '520', 'Unique Custodians': 'MORGAN STANLEY PRIVATE BANK, NATIONAL ASSOCIATION.', 'Match': 'Morgan Stanley'}, 521: {'Key': '521', 'Unique Custodians': 'MORGAN STANLEY SECURITIES LIMITED', 'Match': 'Morgan Stanley'}, 522: {'Key': '522', 'Unique Custodians': 'MORGAN STANLEY SERVICES', 'Match': 'Morgan Stanley'}, 523: {'Key': '523', 'Unique Custodians': 'MORGAN STANLEY SMITH BARNEY LLC', 'Match': 'Morgan Stanley Smith Barney'}, 524: {'Key': '524', 'Unique Custodians': 'MORGAN STANLEY TRUST NATIONAL ASSOCIATION', 'Match': 'Morgan Stanley'}, 525: {'Key': '525', 'Unique Custodians': 'MUFG ALTERNATIVE FUND SERVICES (CAYMAN) LIMITED', 'Match': 'MUFG Union Bank'}, 526: {'Key': '526', 'Unique Custodians': 'MUFG ALTERNATIVE FUND SERVICES (CAYMAN) LTD', 'Match': 'MUFG Union Bank'}, 527: {'Key': '527', 'Unique Custodians': 'MUFG ALTERNATIVE FUND SERVICES (CAYMAN) LTD.', 'Match': 'MUFG Union Bank'}, 528: {'Key': '528', 'Unique Custodians': 'MUFG FUND SERVICES (CAYMAN) LIMITED', 'Match': 'MUFG Union Bank'}, 529: {'Key': '529', 'Unique Custodians': 'MUFG FUND SERVICES (CAYMAN) LTD.', 'Match': 'MUFG Union Bank'}, 530: {'Key': '530', 'Unique Custodians': 'MUFG INVESTOR SERVICES', 'Match': 'MUFG Union Bank'}, 531: {'Key': '531', 'Unique Custodians': 'MUFG UNION BANK', 'Match': 'MUFG Union Bank'}, 532: {'Key': '532', 'Unique Custodians': 'MUFG UNION BANK N.A.', 'Match': 'MUFG Union Bank'}, 533: {'Key': '533', 'Unique Custodians': 'MUFG UNION BANK, N.A.', 'Match': 'MUFG Union Bank'}, 534: {'Key': '534', 'Unique Custodians': 'NEWEDGE UK FINANCIAL LIMITED', 'Match': 'Societe Generale Newedge UK'}, 535: {'Key': '535', 'Unique Custodians': 'NEWEDGE USA, LLC', 'Match': 'Societe Generale Newedge UK'}, 536: {'Key': '536', 'Unique Custodians': 'NEXBANK SSB', 'Match': 'NexBank'}, 537: {'Key': '537', 'Unique Custodians': 'NLB TUTUNSKA BANKA AD SKOPJE', 'Match': 'NLB Tutunska banka'}, 538: {'Key': '538', 'Unique Custodians': 'NOMURA SECURITIES INTERNATIONAL INC', 'Match': 'Nomura Securities'}, 539: {'Key': '539', 'Unique Custodians': 'NOMURA SECURITIES INTERNATIONAL, INC', 'Match': 'Nomura Securities'}, 540: {'Key': '540', 'Unique Custodians': 'NOMURA SECURITIES INTERNATIONAL, INC.', 'Match': 'Nomura Securities'}, 541: {'Key': '541', 'Unique Custodians': 'NORTHBROOK BANK & TRUST', 'Match': 'Northbrook Bank & Trust'}, 542: {'Key': '542', 'Unique Custodians': 'NORTHBROOK BANK & TRUST COMPANY', 'Match': 'Northbrook Bank & Trust'}, 543: {'Key': '543', 'Unique Custodians': 'NORTHBROOK BANK & TRUST, WINTRUST FUNDS GROUP', 'Match': 'Northbrook Bank & Trust'}, 544: {'Key': '544', 'Unique Custodians': 'NORTHBROOK BANK AND TRUST', 'Match': 'Northbrook Bank & Trust'}, 545: {'Key': '545', 'Unique Custodians': 'NORTHBROOK BANK AND TRUST COMPANY', 'Match': 'Northbrook Bank & Trust'}, 546: {'Key': '546', 'Unique Custodians': 'NORTHERN TRUST', 'Match': 'Northern Trust Custody Services'}, 547: {'Key': '547', 'Unique Custodians': 'NORTHERN TRUST (GUERNSEY) LIMITED', 'Match': 'Northern Trust Custody Services'}, 548: {'Key': '548', 'Unique Custodians': 'NORTHERN TRUST BANK FSB', 'Match': 'Northern Trust Custody Services'}, 549: {'Key': '549', 'Unique Custodians': 'NORTHERN TRUST BANK NA', 'Match': 'Northern Trust Custody Services'}, 550: {'Key': '550', 'Unique Custodians': 'NORTHERN TRUST CO CHICAGO', 'Match': 'Northern Trust Custody Services'}, 551: {'Key': '551', 'Unique Custodians': 'NORTHERN TRUST CO.', 'Match': 'Northern Trust Custody Services'}, 552: {'Key': '552', 'Unique Custodians': 'NORTHERN TRUST COMPANY', 'Match': 'Northern Trust Custody Services'}, 553: {'Key': '553', 'Unique Custodians': 'NORTHERN TRUST CORPORATION', 'Match': 'Northern Trust Custody Services'}, 554: {'Key': '554', 'Unique Custodians': 'NORTHERN TRUST FIDUCIARY SERVICES (IRELAND) LIMITED', 'Match': 'Northern Trust Custody Services'}, 555: {'Key': '555', 'Unique Custodians': 'NORTHERN TRUST GLOBAL FUND SERVICES CAYMAN LIMITED', 'Match': 'Northern Trust Custody Services'}, 556: {'Key': '556', 'Unique Custodians': 'NORTHERN TRUST GLOBAL SERVICES', 'Match': 'Northern Trust Custody Services'}, 557: {'Key': '557', 'Unique Custodians': 'NORTHERN TRUST GLOBAL SERVICES LIMITED', 'Match': 'Northern Trust Custody Services'}, 558: {'Key': '558', 'Unique Custodians': 'NORTHERN TRUST HEDGE FUND SERVICES LLC', 'Match': 'Northern Trust Custody Services'}, 559: {'Key': '559', 'Unique Custodians': 'NORTHERN TRUST INTERNATIONAL BANK CORPORATION', 'Match': 'Northern Trust Custody Services'}, 560: {'Key': '560', 'Unique Custodians': 'NORTHERN TRUST INTERNATIONAL BANKING', 'Match': 'Northern Trust Custody Services'}, 561: {'Key': '561', 'Unique Custodians': 'NORTHERN TRUST INTERNATIONAL BANKING CORP', 'Match': 'Northern Trust Custody Services'}, 562: {'Key': '562', 'Unique Custodians': 'NORTHERN TRUST INTERNATIONAL BANKING CORP.', 'Match': 'Northern Trust Custody Services'}, 563: {'Key': '563', 'Unique Custodians': 'NORTHERN TRUST INTERNATIONAL BANKING CORPORATION', 'Match': 'Northern Trust Custody Services'}, 564: {'Key': '564', 'Unique Custodians': 'NORTHERN TRUST SECURITIES, INC.', 'Match': 'Northern Trust Custody Services'}, 565: {'Key': '565', 'Unique Custodians': 'NOVA BANK A.D.', 'Match': 'Nova Banka'}, 566: {'Key': '566', 'Unique Custodians': 'OPPENHEIMER & CO. INC.', 'Match': 'Oppenheim'}, 567: {'Key': '567', 'Unique Custodians': 'PERSHING', 'Match': 'Pershing Prime Services'}, 568: {'Key': '568', 'Unique Custodians': 'PERSHING ADVISOR SOLUTIONS LLC', 'Match': 'Pershing Prime Services'}, 569: {'Key': '569', 'Unique Custodians': 'PERSHING LLC', 'Match': 'Pershing Prime Services'}, 570: {'Key': '570', 'Unique Custodians': 'PERSHING, LLC', 'Match': 'Pershing Prime Services'}, 571: {'Key': '571', 'Unique Custodians': 'PLAINS CAPITAL BANK', 'Match': 'PlainsCapital Bank'}, 572: {'Key': '572', 'Unique Custodians': 'PNC BANK', 'Match': 'PNC'}, 573: {'Key': '573', 'Unique Custodians': 'PNC BANK NA', 'Match': 'PNC'}, 574: {'Key': '574', 'Unique Custodians': 'PNC BANK, N.A.', 'Match': 'PNC'}, 575: {'Key': '575', 'Unique Custodians': 'PNC BANK, NA', 'Match': 'PNC'}, 576: {'Key': '576', 'Unique Custodians': 'PNC BANK,NA', 'Match': 'PNC'}, 577: {'Key': '577', 'Unique Custodians': 'PRINSBANK', 'Match': 'PrinsBank'}, 578: {'Key': '578', 'Unique Custodians': 'RABEE SECURITIES', 'Match': 'Rabee Securities'}, 579: {'Key': '579', 'Unique Custodians': 'RAND FINANCIAL SERVICES, INC.', 'Match': 'Rand Financial Services'}, 580: {'Key': '580', 'Unique Custodians': 'RAYMOND JAMES & ASSOCIATES, INC.', 'Match': 'Raymond James & Associates'}, 581: {'Key': '581', 'Unique Custodians': 'RICHARDSON GMP LIMITED', 'Match': 'Richardson GMP'}, 582: {'Key': '582', 'Unique Custodians': 'RICHARDSON GMP LTD.', 'Match': 'Richardson GMP'}, 583: {'Key': '583', 'Unique Custodians': 'ROSENTHAL COLLINS GROUP', 'Match': 'Rosenthal Collins Group'}, 584: {'Key': '584', 'Unique Custodians': 'ROSENTHAL COLLINS GROUP LLC', 'Match': 'Rosenthal Collins Group'}, 585: {'Key': '585', 'Unique Custodians': 'ROSENTHAL COLLINS GROUP, LLC', 'Match': 'Rosenthal Collins Group'}, 586: {'Key': '586', 'Unique Custodians': 'ROYAL BANK OF SCOTLAND PLC', 'Match': 'Royal Bank of Scotland'}, 587: {'Key': '587', 'Unique Custodians': 'S.C. BANCPOST S.A.', 'Match': 'Bancpost'}, 588: {'Key': '588', 'Unique Custodians': 'SAHEM TRADING & INVESTMENTS', 'Match': 'Sahem Trading & Investments Company'}, 589: {'Key': '589', 'Unique Custodians': 'SAPIEN CAPITAL, LIMITED', 'Match': 'Sapien Capital'}, 590: {'Key': '590', 'Unique Custodians': 'SBI-SG GLOBAL SECURITIES SERVICES PVT LTD', 'Match': 'SBI-SG Global Securities Services'}, 591: {'Key': '591', 'Unique Custodians': 'SCHWAB', 'Match': 'Charles Schwab & Co.'}, 592: {'Key': '592', 'Unique Custodians': 'SCOTIA CAPITAL (USA) INC', 'Match': 'Scotia Capital'}, 593: {'Key': '593', 'Unique Custodians': 'SCOTIA CAPITAL (USA) INC.', 'Match': 'Scotia Capital'}, 594: {'Key': '594', 'Unique Custodians': 'SCOTTRADE, INC.', 'Match': 'Scottrade'}, 595: {'Key': '595', 'Unique Custodians': 'SEA PORT GROUP SECURITIES, LLC', 'Match': 'Seaport Group Securities'}, 596: {'Key': '596', 'Unique Custodians': 'SG AMERICAS SECURITIES LLC', 'Match': 'SG Americas Securities'}, 597: {'Key': '597', 'Unique Custodians': 'SG AMERICAS SECURITIES, LLC', 'Match': 'SG Americas Securities'}, 598: {'Key': '598', 'Unique Custodians': 'SG HAMBROS TRUST COMPANY (CHANNEL ISLANDS) LIMITED', 'Match': 'SG Hambros'}, 599: {'Key': '599', 'Unique Custodians': 'SGI HUDSON & CIE', 'Match': 'Hudson & Cie'}, 600: {'Key': '600', 'Unique Custodians': 'SHINHAN BANK', 'Match': 'Shinhan Bank'}, 601: {'Key': '601', 'Unique Custodians': 'SIGNATURE BANK', 'Match': 'Signature Bank'}, 602: {'Key': '602', 'Unique Custodians': 'SIGNATURE SECURITIES GROUP CORPORATION', 'Match': 'Signature Bank'}, 603: {'Key': '603', 'Unique Custodians': 'SILICON VALLEY BANK', 'Match': 'Silicon Valley Bank'}, 604: {'Key': '604', 'Unique Custodians': 'SOCIETE GENERALE NEWEDGE UK LIMITED', 'Match': 'Societe Generale Newedge UK'}, 605: {'Key': '605', 'Unique Custodians': 'SOUTH STREET SECURITIES LLC', 'Match': 'South Street Securities'}, 606: {'Key': '606', 'Unique Custodians': 'STAMFORD BANK & TRUST', 'Match': 'Stamford Bank & Trust'}, 607: {'Key': '607', 'Unique Custodians': 'STANBIC BANK TANZANIA', 'Match': 'Stanbic Bank Tanzania'}, 608: {'Key': '608', 'Unique Custodians': 'STANDARD BANK SOUTH AFRICA', 'Match': 'Standard Bank'}, 609: {'Key': '609', 'Unique Custodians': 'STANDARD BANK, PLC', 'Match': 'Standard Bank'}, 610: {'Key': '610', 'Unique Custodians': 'STANDARD CHARTERED', 'Match': 'Standard Chartered Bank'}, 611: {'Key': '611', 'Unique Custodians': 'STANDARD CHARTERED BANK', 'Match': 'Standard Chartered Bank'}, 612: {'Key': '612', 'Unique Custodians': 'STANDARD CHARTERED BANK (INDIA)', 'Match': 'Standard Chartered Bank'}, 613: {'Key': '613', 'Unique Custodians': 'STANDARD CHARTERED BANK (MAURITIUS) LIMITED', 'Match': 'Standard Chartered Bank'}, 614: {'Key': '614', 'Unique Custodians': 'STATE STREET', 'Match': 'State Street Custody Services'}, 615: {'Key': '615', 'Unique Custodians': 'STATE STREET ALTERNATIVE INVESTMENT SOLUTIONS', 'Match': 'State Street Custody Services'}, 616: {'Key': '616', 'Unique Custodians': 'STATE STREET BANK', 'Match': 'State Street Custody Services'}, 617: {'Key': '617', 'Unique Custodians': 'STATE STREET BANK & TRUST', 'Match': 'State Street Custody Services'}, 618: {'Key': '618', 'Unique Custodians': 'STATE STREET BANK & TRUST CO', 'Match': 'State Street Custody Services'}, 619: {'Key': '619', 'Unique Custodians': 'STATE STREET BANK & TRUST CO.', 'Match': 'State Street Custody Services'}, 620: {'Key': '620', 'Unique Custodians': 'STATE STREET BANK & TRUST COMPANY', 'Match': 'State Street Custody Services'}, 621: {'Key': '621', 'Unique Custodians': 'STATE STREET BANK &TRUST COMPANY', 'Match': 'State Street Custody Services'}, 622: {'Key': '622', 'Unique Custodians': 'STATE STREET BANK AND TRUST CO.', 'Match': 'State Street Custody Services'}, 623: {'Key': '623', 'Unique Custodians': 'STATE STREET BANK AND TRUST CO. NA BOSTON', 'Match': 'State Street Custody Services'}, 624: {'Key': '624', 'Unique Custodians': 'STATE STREET BANK AND TRUST COMPANY', 'Match': 'State Street Custody Services'}, 625: {'Key': '625', 'Unique Custodians': 'STATE STREET BANK CAYMAN TRUST COMPANY LTD', 'Match': 'State Street Custody Services'}, 626: {'Key': '626', 'Unique Custodians': 'STATE STREET BANKING TRUST COMPANY', 'Match': 'State Street Custody Services'}, 627: {'Key': '627', 'Unique Custodians': 'STATE STREET CAYMAN TRUST LTD.', 'Match': 'State Street Custody Services'}, 628: {'Key': '628', 'Unique Custodians': 'STATE STREET CORPORATION', 'Match': 'State Street Custody Services'}, 629: {'Key': '629', 'Unique Custodians': 'STATE STREET CUSTODIAL SERVICES (IRELAND) LIMITED', 'Match': 'State Street Custody Services'}, 630: {'Key': '630', 'Unique Custodians': 'STATE STREET GLOBAL ADVISORS FUNDS DISTRIBUTORS, LLC', 'Match': 'State Street Custody Services'}, 631: {'Key': '631', 'Unique Custodians': 'STATE STREET GLOBAL MARKETS, LLC', 'Match': 'State Street Custody Services'}, 632: {'Key': '632', 'Unique Custodians': 'STATE STREET INTERNATIONAL (IRELAND) LIMITED', 'Match': 'State Street Custody Services'}, 633: {'Key': '633', 'Unique Custodians': 'STIFEL FINANCIAL CORP.', 'Match': 'Stifel Nicolaus & Company'}, 634: {'Key': '634', 'Unique Custodians': 'STIFEL, NICOLAUS & COMPANY, INCORPORATED', 'Match': 'Stifel Nicolaus & Company'}, 635: {'Key': '635', 'Unique Custodians': 'STOCKBROKERS MALAWI LIMITED', 'Match': 'Stockbrokers Malawi'}, 636: {'Key': '636', 'Unique Custodians': 'SUNTRUST BANK', 'Match': 'SunTrust Banks'}, 637: {'Key': '637', 'Unique Custodians': 'SUNTRUST BANK, N.A.', 'Match': 'SunTrust Banks'}, 638: {'Key': '638', 'Unique Custodians': 'SUNTRUST BANKS, INC.', 'Match': 'SunTrust Banks'}, 639: {'Key': '639', 'Unique Custodians': 'SUNTRUST INVESTMENT SERVICES, INC.', 'Match': 'SunTrust Banks'}, 640: {'Key': '640', 'Unique Custodians': 'SUNTRUST ROBINSON HUMPHREY, INC.', 'Match': 'SunTrust Banks'}, 641: {'Key': '641', 'Unique Custodians': 'SVENSKA HANDELSBANKEN AB', 'Match': 'Svenska Handelsbanken'}, 642: {'Key': '642', 'Unique Custodians': 'SWISSQUOTE BANK SA', 'Match': 'Swissquote Bank'}, 643: {'Key': '643', 'Unique Custodians': 'TADAWUL', 'Match': 'Tadawul'}, 644: {'Key': '644', 'Unique Custodians': 'TD AMERITRADE', 'Match': 'TD Ameritrade'}, 645: {'Key': '645', 'Unique Custodians': 'TD AMERITRADE CLEARING, INC.', 'Match': 'TD Ameritrade'}, 646: {'Key': '646', 'Unique Custodians': 'TD AMERITRADE INSTITUTIONAL', 'Match': 'TD Ameritrade'}, 647: {'Key': '647', 'Unique Custodians': 'TD AMERITRADE, INC.', 'Match': 'TD Ameritrade'}, 648: {'Key': '648', 'Unique Custodians': 'TD BANK', 'Match': 'TD Bank'}, 649: {'Key': '649', 'Unique Custodians': 'TD BANK, N.A.', 'Match': 'TD Bank'}, 650: {'Key': '650', 'Unique Custodians': 'TD BANK, NA', 'Match': 'TD Bank'}, 651: {'Key': '651', 'Unique Custodians': 'TD SECURITIES', 'Match': 'TD Securities'}, 652: {'Key': '652', 'Unique Custodians': 'TD SECURITIES INC.', 'Match': 'TD Securities'}, 653: {'Key': '653', 'Unique Custodians': 'TEXAS CAPITAL BANK', 'Match': 'Texas Capital Bank'}, 654: {'Key': '654', 'Unique Custodians': 'TEXAS CAPITAL BANK N.A.', 'Match': 'Texas Capital Bank'}, 655: {'Key': '655', 'Unique Custodians': 'TEXAS CAPITAL BANK, N.A.', 'Match': 'Texas Capital Bank'}, 656: {'Key': '656', 'Unique Custodians': 'TEXAS CAPITAL BANK, NA', 'Match': 'Texas Capital Bank'}, 657: {'Key': '657', 'Unique Custodians': 'THE BANK OF NEW YORK', 'Match': 'BNY Mellon'}, 658: {'Key': '658', 'Unique Custodians': 'THE BANK OF NEW YORK MELLON', 'Match': 'BNY Mellon'}, 659: {'Key': '659', 'Unique Custodians': 'THE BANK OF NEW YORK MELLON (AIS PRIME CUSTODY)', 'Match': 'BNY Mellon'}, 660: {'Key': '660', 'Unique Custodians': 'THE BANK OF NEW YORK MELLON (LONDON BRANCH)', 'Match': 'BNY Mellon'}, 661: {'Key': '661', 'Unique Custodians': 'THE BANK OF NEW YORK MELLON CORPORATION', 'Match': 'BNY Mellon'}, 662: {'Key': '662', 'Unique Custodians': 'THE BANK OF NEW YORK MELLON SA/NV, LONDON BRANCH', 'Match': 'BNY Mellon'}, 663: {'Key': '663', 'Unique Custodians': 'THE BANK OF NEW YORK MELLON TRUST COMPANY, N.A.', 'Match': 'BNY Mellon'}, 664: {'Key': '664', 'Unique Custodians': 'THE BANK OF NEW YORK MELLON TRUST COMPANY, NATIONAL ASSOCIATION', 'Match': 'BNY Mellon'}, 665: {'Key': '665', 'Unique Custodians': 'THE BANK OF NEW YORK TRUST COMPANY, N.A.', 'Match': 'BNY Mellon'}, 666: {'Key': '666', 'Unique Custodians': 'THE NORTHERN TRUST CO.', 'Match': 'Northern Trust Custody Services'}, 667: {'Key': '667', 'Unique Custodians': 'THE NORTHERN TRUST COMPANY', 'Match': 'Northern Trust Custody Services'}, 668: {'Key': '668', 'Unique Custodians': 'THE NORTHERN TRUST INTERNATIONAL BANK CORP', 'Match': 'Northern Trust Custody Services'}, 669: {'Key': '669', 'Unique Custodians': 'THE NORTHERN TRUST INTERNATIONAL BANKING COPRORATION', 'Match': 'Northern Trust Custody Services'}, 670: {'Key': '670', 'Unique Custodians': 'THE NORTHERN TRUST INTERNATIONAL BANKING CORP', 'Match': 'Northern Trust Custody Services'}, 671: {'Key': '671', 'Unique Custodians': 'THE NORTHERN TRUST INTERNATIONAL BANKING CORP.', 'Match': 'Northern Trust Custody Services'}, 672: {'Key': '672', 'Unique Custodians': 'THE NORTHERN TRUST INTERNATIONAL BANKING CORPORATION', 'Match': 'Northern Trust Custody Services'}, 673: {'Key': '673', 'Unique Custodians': 'THE NORTHERN TRUST INTERNATIONAL BANKING CORPORATION, NJ', 'Match': 'Northern Trust Custody Services'}, 674: {'Key': '674', 'Unique Custodians': 'THE NORTHERN TRUST INTERNATIONAL BANKING CRP', 'Match': 'Northern Trust Custody Services'}, 675: {'Key': '675', 'Unique Custodians': \"THE NORTHERN TRUST INT'L BANKING CORPORATION\", 'Match': 'Northern Trust Custody Services'}, 676: {'Key': '676', 'Unique Custodians': 'THE PICTET GROUP', 'Match': 'Northern Trust Custody Services'}, 677: {'Key': '677', 'Unique Custodians': 'THE PRIVATE BANK', 'Match': 'The Private Bank'}, 678: {'Key': '678', 'Unique Custodians': 'THE PRIVATE BANK AND TRUST COMPANY', 'Match': 'The Private Bank'}, 679: {'Key': '679', 'Unique Custodians': 'THE PRIVATEBANK', 'Match': 'The Private Bank'}, 680: {'Key': '680', 'Unique Custodians': 'THE PRIVATEBANK AND TRUST COMPANY', 'Match': 'The PrivateBank and Trust'}, 681: {'Key': '681', 'Unique Custodians': 'THE ROYAL BANK OF SCOTLAND PLC', 'Match': 'Royal Bank of Scotland'}, 682: {'Key': '682', 'Unique Custodians': 'TRINIDAD & TOBAGO CENTRAL DEPOSITORY', 'Match': 'Trinidad and Tobago Central Depository'}, 683: {'Key': '683', 'Unique Custodians': 'TUTUNSKA BANKA', 'Match': 'NLB Tutunska banka'}, 684: {'Key': '684', 'Unique Custodians': 'U.S. BANCORP', 'Match': 'US Bancorp Fund Services'}, 685: {'Key': '685', 'Unique Custodians': 'U.S. BANCORP FUND SERVICES, LLC', 'Match': 'US Bancorp Fund Services'}, 686: {'Key': '686', 'Unique Custodians': 'U.S. BANCORP INVESTMENTS, INC.', 'Match': 'US Bancorp Fund Services'}, 687: {'Key': '687', 'Unique Custodians': 'U.S. BANK INSTITUTIONAL TRUST & CUSTODY', 'Match': 'U.S. Bank Institutional Trust & Custody'}, 688: {'Key': '688', 'Unique Custodians': 'U.S. BANK N.A.', 'Match': 'U.S. Bank National Association'}, 689: {'Key': '689', 'Unique Custodians': 'U.S. BANK NATIONAL ASSOCIATION', 'Match': 'U.S. Bank National Association'}, 690: {'Key': '690', 'Unique Custodians': 'U.S. BANK NATIONAL BANK', 'Match': 'U.S. Bank National Association'}, 691: {'Key': '691', 'Unique Custodians': 'U.S. BANK, N.A.', 'Match': 'U.S. Bank National Association'}, 692: {'Key': '692', 'Unique Custodians': 'U.S. BANK, NA', 'Match': 'U.S. Bank National Association'}, 693: {'Key': '693', 'Unique Custodians': 'U.S. BANK, NA, INSTITUTIONAL TRUST & CUSTODY', 'Match': 'U.S. Bank Institutional Trust & Custody'}, 694: {'Key': '694', 'Unique Custodians': 'U.S. BANK, NATIONAL ASSOCIATION', 'Match': 'U.S. Bank National Association'}, 695: {'Key': '695', 'Unique Custodians': 'UBS', 'Match': 'UBS'}, 696: {'Key': '696', 'Unique Custodians': 'UBS AG', 'Match': 'UBS'}, 697: {'Key': '697', 'Unique Custodians': 'UBS AG (LONDON)', 'Match': 'UBS'}, 698: {'Key': '698', 'Unique Custodians': 'UBS AG LONDON', 'Match': 'UBS'}, 699: {'Key': '699', 'Unique Custodians': 'UBS AG, LONDON BRANCH', 'Match': 'UBS'}, 700: {'Key': '700', 'Unique Custodians': 'UBS AG, SINGAPORE BRANCH', 'Match': 'UBS'}, 701: {'Key': '701', 'Unique Custodians': 'UBS BRASIL CORRETORA DE CAMBIO', 'Match': 'UBS'}, 702: {'Key': '702', 'Unique Custodians': 'UBS FINANCIAL SERVICES', 'Match': 'UBS'}, 703: {'Key': '703', 'Unique Custodians': 'UBS FINANCIAL SERVICES INC.', 'Match': 'UBS'}, 704: {'Key': '704', 'Unique Custodians': 'UBS FINANCIAL SERVICES, INC.', 'Match': 'UBS'}, 705: {'Key': '705', 'Unique Custodians': 'UBS LIMITED', 'Match': 'UBS'}, 706: {'Key': '706', 'Unique Custodians': 'UBS SECURITIES AG', 'Match': 'UBS'}, 707: {'Key': '707', 'Unique Custodians': 'UBS SECURITIES AUSTRALIA LIMITED', 'Match': 'UBS'}, 708: {'Key': '708', 'Unique Custodians': 'UBS SECURITIES LLC', 'Match': 'UBS'}, 709: {'Key': '709', 'Unique Custodians': 'UBS SWITZERLAND AG', 'Match': 'UBS'}, 710: {'Key': '710', 'Unique Custodians': 'UBS, AG', 'Match': 'UBS'}, 711: {'Key': '711', 'Unique Custodians': 'US BANCORP FUND SERVICES', 'Match': 'US Bancorp Fund Services'}, 712: {'Key': '712', 'Unique Custodians': 'US BANCORP FUND SERVICES, LLC', 'Match': 'US Bancorp Fund Services'}, 713: {'Key': '713', 'Unique Custodians': 'US BANK N.A.', 'Match': 'U.S. Bank National Association'}, 714: {'Key': '714', 'Unique Custodians': 'US BANK NA', 'Match': 'U.S. Bank National Association'}, 715: {'Key': '715', 'Unique Custodians': 'US BANK NATIONAL ASSOCIATION', 'Match': 'U.S. Bank National Association'}, 716: {'Key': '716', 'Unique Custodians': 'US BANK, NA', 'Match': 'U.S. Bank National Association'}, 717: {'Key': '717', 'Unique Custodians': 'US BANK, NATIONAL ASSOCIATION', 'Match': 'U.S. Bank National Association'}, 718: {'Key': '718', 'Unique Custodians': 'US BANKCORP', 'Match': 'US Bancorp Fund Services'}, 719: {'Key': '719', 'Unique Custodians': 'VANGUARD CAPITAL', 'Match': 'Vanguard Marketing Corporation'}, 720: {'Key': '720', 'Unique Custodians': 'VANGUARD MARKETING CORPORATION', 'Match': 'Vanguard Marketing Corporation'}, 721: {'Key': '721', 'Unique Custodians': 'V-BANK AG', 'Match': 'V-Bank'}, 722: {'Key': '722', 'Unique Custodians': 'VICTOR PAULLIER & CIA.', 'Match': 'Victor Paullier & Cia'}, 723: {'Key': '723', 'Unique Custodians': 'WEDBUSH SECURITIES INC.', 'Match': 'Wedbush Securities'}, 724: {'Key': '724', 'Unique Custodians': 'WEDBUSH SECURITIES, INC.', 'Match': 'Wedbush Securities'}, 725: {'Key': '725', 'Unique Custodians': 'WEEDEN PRIME SERVICES, LLC.', 'Match': 'Weeden Prime Services'}, 726: {'Key': '726', 'Unique Custodians': 'WELLS FARGO', 'Match': 'Wells Fargo'}, 727: {'Key': '727', 'Unique Custodians': 'WELLS FARGO & CO.', 'Match': 'Wells Fargo'}, 728: {'Key': '728', 'Unique Custodians': 'WELLS FARGO & COMPANY', 'Match': 'Wells Fargo'}, 729: {'Key': '729', 'Unique Custodians': 'WELLS FARGO ADVISORS, LLC', 'Match': 'Wells Fargo Advisors'}, 730: {'Key': '730', 'Unique Custodians': 'WELLS FARGO BANK', 'Match': 'Wells Fargo'}, 731: {'Key': '731', 'Unique Custodians': 'WELLS FARGO BANK N.A', 'Match': 'Wells Fargo'}, 732: {'Key': '732', 'Unique Custodians': 'WELLS FARGO BANK N.A.', 'Match': 'Wells Fargo'}, 733: {'Key': '733', 'Unique Custodians': 'WELLS FARGO BANK NA', 'Match': 'Wells Fargo'}, 734: {'Key': '734', 'Unique Custodians': 'WELLS FARGO BANK, N.A', 'Match': 'Wells Fargo'}, 735: {'Key': '735', 'Unique Custodians': 'WELLS FARGO BANK, N.A.', 'Match': 'Wells Fargo'}, 736: {'Key': '736', 'Unique Custodians': 'WELLS FARGO BANK, NA', 'Match': 'Wells Fargo'}, 737: {'Key': '737', 'Unique Custodians': 'WELLS FARGO BANK, NATIONAL ASSOCIATION', 'Match': 'Wells Fargo'}, 738: {'Key': '738', 'Unique Custodians': 'WELLS FARGO CLEARING SERVICES, LLC', 'Match': 'Wells Fargo'}, 739: {'Key': '739', 'Unique Custodians': 'WELLS FARGO COMPANY', 'Match': 'Wells Fargo'}, 740: {'Key': '740', 'Unique Custodians': 'WELLS FARGO INSTITUTIONAL RETIREMENT AND TRUST', 'Match': 'Wells Fargo'}, 741: {'Key': '741', 'Unique Custodians': 'WELLS FARGO INSTITUTIONAL TRUST', 'Match': 'Wells Fargo'}, 742: {'Key': '742', 'Unique Custodians': 'WELLS FARGO N.A.', 'Match': 'Wells Fargo'}, 743: {'Key': '743', 'Unique Custodians': 'WELLS FARGO PRIME SERVICES', 'Match': 'Wells Fargo'}, 744: {'Key': '744', 'Unique Custodians': 'WELLS FARGO PRIME SERVICES LLC', 'Match': 'Wells Fargo'}, 745: {'Key': '745', 'Unique Custodians': 'WELLS FARGO PRIME SERVICES, LLC', 'Match': 'Wells Fargo'}, 746: {'Key': '746', 'Unique Custodians': 'WELLS FARGO PRIVATE BANK', 'Match': 'Wells Fargo'}, 747: {'Key': '747', 'Unique Custodians': 'WELLS FARGO SECURITIES', 'Match': 'Wells Fargo'}, 748: {'Key': '748', 'Unique Custodians': 'WELLS FARGO SECURITIES INC.', 'Match': 'Wells Fargo'}, 749: {'Key': '749', 'Unique Custodians': 'WELLS FARGO SECURITIES, LLC', 'Match': 'Wells Fargo'}, 750: {'Key': '750', 'Unique Custodians': 'WELLS FARGO TRUST', 'Match': 'Wells Fargo'}, 751: {'Key': '751', 'Unique Custodians': 'WELLS FARGO, N.A.', 'Match': 'Wells Fargo'}, 752: {'Key': '752', 'Unique Custodians': 'WELLS FARGO, N.A. CORPORATE TRUST & ESCROW SERVICES', 'Match': 'Wells Fargo'}, 753: {'Key': '753', 'Unique Custodians': 'WELLS FARGO, N.A., CORPORATE TRUST & ESCROW SERVICES', 'Match': 'Wells Fargo'}, 754: {'Key': '754', 'Unique Custodians': 'WILMINGTON TRUST', 'Match': 'Wilmington Trust'}, 755: {'Key': '755', 'Unique Custodians': 'WILMINGTON TRUST COMPANY', 'Match': 'Wilmington Trust'}, 756: {'Key': '756', 'Unique Custodians': 'WINSLOW, EVANS & CROCKER, INC.', 'Match': 'Winslow, Evans & Crocker Inc.'}, 757: {'Key': '757', 'Unique Custodians': 'WINTRUST BANK', 'Match': 'Wintrust Bank'}, 758: {'Key': '758', 'Unique Custodians': 'WINTRUST FINANCIAL', 'Match': 'Wintrust Bank'}, 759: {'Key': '759', 'Unique Custodians': 'WINTRUST FINANCIAL CORPORATION', 'Match': 'Wintrust Bank'}, 760: {'Key': '760', 'Unique Custodians': 'WINTRUST FUNDS GROUP', 'Match': 'Wintrust Bank'}}\n",
      "760\n"
     ]
    }
   ],
   "source": [
    "print('importing data ...')\n",
    "data_d = readData(input_file)\n",
    "print(data_d)\n",
    "print(len(data_d))"
   ]
  },
  {
   "cell_type": "code",
   "execution_count": 85,
   "metadata": {},
   "outputs": [
    {
     "name": "stderr",
     "output_type": "stream",
     "text": [
      "/Users/aronak/miniconda3/envs/ml_3_6/lib/python3.6/site-packages/dedupe/sampling.py:39: UserWarning: 50 blocked samples were requested, but only able to sample 48\n",
      "  % (sample_size, len(blocked_sample)))\n",
      "Unique Custodians : BANK OF AMERICA SECURITIES LLC\n",
      "Match : Bank of America Merrill Lynch\n",
      "\n",
      "Unique Custodians : BANK OF AMERICA, N.A.\n",
      "Match : Bank of America Merrill Lynch\n",
      "\n",
      "0/10 positive, 0/10 negative\n",
      "Do these records refer to the same thing?\n",
      "(y)es / (n)o / (u)nsure / (f)inished\n"
     ]
    },
    {
     "name": "stdout",
     "output_type": "stream",
     "text": [
      "starting active labeling...\n",
      "y\n"
     ]
    },
    {
     "name": "stderr",
     "output_type": "stream",
     "text": [
      "Unique Custodians : NORTHERN TRUST BANK NA\n",
      "Match : Northern Trust Custody Services\n",
      "\n",
      "Unique Custodians : NORTHERN TRUST FIDUCIARY SERVICES (IRELAND) LIMITED\n",
      "Match : Northern Trust Custody Services\n",
      "\n",
      "1/10 positive, 0/10 negative\n",
      "Do these records refer to the same thing?\n",
      "(y)es / (n)o / (u)nsure / (f)inished / (p)revious\n"
     ]
    },
    {
     "name": "stdout",
     "output_type": "stream",
     "text": [
      "y\n"
     ]
    },
    {
     "name": "stderr",
     "output_type": "stream",
     "text": [
      "Unique Custodians : FIDELITY CAPITAL MARKETS\n",
      "Match : Fidelity Investments\n",
      "\n",
      "Unique Custodians : FIDELITY INVESTMENTS, INC.\n",
      "Match : Fidelity Investments\n",
      "\n",
      "2/10 positive, 0/10 negative\n",
      "Do these records refer to the same thing?\n",
      "(y)es / (n)o / (u)nsure / (f)inished / (p)revious\n"
     ]
    },
    {
     "name": "stdout",
     "output_type": "stream",
     "text": [
      "\n"
     ]
    },
    {
     "name": "stderr",
     "output_type": "stream",
     "text": [
      "(y)es / (n)o / (u)nsure / (f)inished / (p)revious\n"
     ]
    },
    {
     "name": "stdout",
     "output_type": "stream",
     "text": [
      "y\n"
     ]
    },
    {
     "name": "stderr",
     "output_type": "stream",
     "text": [
      "Unique Custodians : BMO HARRIS BANK NA.\n",
      "Match : BMO Harris Bank\n",
      "\n",
      "Unique Custodians : CITIGROUP INC.\n",
      "Match : Citi Transaction Services\n",
      "\n",
      "3/10 positive, 0/10 negative\n",
      "Do these records refer to the same thing?\n",
      "(y)es / (n)o / (u)nsure / (f)inished / (p)revious\n"
     ]
    },
    {
     "name": "stdout",
     "output_type": "stream",
     "text": [
      "n\n"
     ]
    },
    {
     "name": "stderr",
     "output_type": "stream",
     "text": [
      "Unique Custodians : SGI HUDSON & CIE\n",
      "Match : Hudson & Cie\n",
      "\n",
      "Unique Custodians : WELLS FARGO N.A.\n",
      "Match : Wells Fargo\n",
      "\n",
      "3/10 positive, 1/10 negative\n",
      "Do these records refer to the same thing?\n",
      "(y)es / (n)o / (u)nsure / (f)inished / (p)revious\n"
     ]
    },
    {
     "name": "stdout",
     "output_type": "stream",
     "text": [
      "n\n"
     ]
    },
    {
     "name": "stderr",
     "output_type": "stream",
     "text": [
      "Unique Custodians : DEUTSCHE BANK (MAURITIUS) LIMITED\n",
      "Match : Deutsche Bank\n",
      "\n",
      "Unique Custodians : U.S. BANK, N.A.\n",
      "Match : U.S. Bank National Association\n",
      "\n",
      "3/10 positive, 2/10 negative\n",
      "Do these records refer to the same thing?\n",
      "(y)es / (n)o / (u)nsure / (f)inished / (p)revious\n"
     ]
    },
    {
     "name": "stdout",
     "output_type": "stream",
     "text": [
      "n\n"
     ]
    },
    {
     "name": "stderr",
     "output_type": "stream",
     "text": [
      "Unique Custodians : BTIG, LLC\n",
      "Match : BTIG\n",
      "\n",
      "Unique Custodians : MORGAN STANLEY CAPITAL PRODUCTS LLC\n",
      "Match : Morgan Stanley\n",
      "\n",
      "3/10 positive, 3/10 negative\n",
      "Do these records refer to the same thing?\n",
      "(y)es / (n)o / (u)nsure / (f)inished / (p)revious\n"
     ]
    },
    {
     "name": "stdout",
     "output_type": "stream",
     "text": [
      "n\n"
     ]
    },
    {
     "name": "stderr",
     "output_type": "stream",
     "text": [
      "Unique Custodians : STATE STREET INTERNATIONAL (IRELAND) LIMITED\n",
      "Match : State Street Custody Services\n",
      "\n",
      "Unique Custodians : UBS LIMITED\n",
      "Match : UBS\n",
      "\n",
      "3/10 positive, 4/10 negative\n",
      "Do these records refer to the same thing?\n",
      "(y)es / (n)o / (u)nsure / (f)inished / (p)revious\n"
     ]
    },
    {
     "name": "stdout",
     "output_type": "stream",
     "text": [
      "n\n"
     ]
    },
    {
     "name": "stderr",
     "output_type": "stream",
     "text": [
      "Unique Custodians : MUFG INVESTOR SERVICES\n",
      "Match : MUFG Union Bank\n",
      "\n",
      "Unique Custodians : MUFG UNION BANK, N.A.\n",
      "Match : MUFG Union Bank\n",
      "\n",
      "3/10 positive, 5/10 negative\n",
      "Do these records refer to the same thing?\n",
      "(y)es / (n)o / (u)nsure / (f)inished / (p)revious\n"
     ]
    },
    {
     "name": "stdout",
     "output_type": "stream",
     "text": [
      "y\n"
     ]
    },
    {
     "name": "stderr",
     "output_type": "stream",
     "text": [
      "Unique Custodians : JP MORGAN MARKETS LIMITED\n",
      "Match : J.P. Morgan\n",
      "\n",
      "Unique Custodians : JPMORGAN CHASE BANK, NATIONAL ASSOCIATION\n",
      "Match : J.P. Morgan\n",
      "\n",
      "4/10 positive, 5/10 negative\n",
      "Do these records refer to the same thing?\n",
      "(y)es / (n)o / (u)nsure / (f)inished / (p)revious\n"
     ]
    },
    {
     "name": "stdout",
     "output_type": "stream",
     "text": [
      "y\n"
     ]
    },
    {
     "name": "stderr",
     "output_type": "stream",
     "text": [
      "Unique Custodians : THE PRIVATE BANK AND TRUST COMPANY\n",
      "Match : The Private Bank\n",
      "\n",
      "Unique Custodians : THE PRIVATEBANK AND TRUST COMPANY\n",
      "Match : The PrivateBank and Trust\n",
      "\n",
      "5/10 positive, 5/10 negative\n",
      "Do these records refer to the same thing?\n",
      "(y)es / (n)o / (u)nsure / (f)inished / (p)revious\n"
     ]
    },
    {
     "name": "stdout",
     "output_type": "stream",
     "text": [
      "y\n"
     ]
    },
    {
     "name": "stderr",
     "output_type": "stream",
     "text": [
      "Unique Custodians : NORTHERN TRUST CO.\n",
      "Match : Northern Trust Custody Services\n",
      "\n",
      "Unique Custodians : PNC BANK, N.A.\n",
      "Match : PNC\n",
      "\n",
      "6/10 positive, 5/10 negative\n",
      "Do these records refer to the same thing?\n",
      "(y)es / (n)o / (u)nsure / (f)inished / (p)revious\n"
     ]
    },
    {
     "name": "stdout",
     "output_type": "stream",
     "text": [
      "n\n"
     ]
    },
    {
     "name": "stderr",
     "output_type": "stream",
     "text": [
      "Unique Custodians : BGL BNP PARIBAS SOCIT ANONYME\n",
      "Match : BNP Paribas\n",
      "\n",
      "Unique Custodians : BNP PARIBAS - LONDON BRANCH\n",
      "Match : BNP Paribas\n",
      "\n",
      "6/10 positive, 6/10 negative\n",
      "Do these records refer to the same thing?\n",
      "(y)es / (n)o / (u)nsure / (f)inished / (p)revious\n"
     ]
    },
    {
     "name": "stdout",
     "output_type": "stream",
     "text": [
      "y\n"
     ]
    },
    {
     "name": "stderr",
     "output_type": "stream",
     "text": [
      "Unique Custodians : MORGAN STANLEY CAPITAL SERVICES LLC.\n",
      "Match : Morgan Stanley\n",
      "\n",
      "Unique Custodians : MORGAN STANLEY SECURITIES LIMITED\n",
      "Match : Morgan Stanley\n",
      "\n",
      "7/10 positive, 6/10 negative\n",
      "Do these records refer to the same thing?\n",
      "(y)es / (n)o / (u)nsure / (f)inished / (p)revious\n"
     ]
    },
    {
     "name": "stdout",
     "output_type": "stream",
     "text": [
      "y\n"
     ]
    },
    {
     "name": "stderr",
     "output_type": "stream",
     "text": [
      "Unique Custodians : NORTHERN TRUST INTERNATIONAL BANKING\n",
      "Match : Northern Trust Custody Services\n",
      "\n",
      "Unique Custodians : NORTHERN TRUST SECURITIES, INC.\n",
      "Match : Northern Trust Custody Services\n",
      "\n",
      "8/10 positive, 6/10 negative\n",
      "Do these records refer to the same thing?\n",
      "(y)es / (n)o / (u)nsure / (f)inished / (p)revious\n"
     ]
    },
    {
     "name": "stdout",
     "output_type": "stream",
     "text": [
      "y\n"
     ]
    },
    {
     "name": "stderr",
     "output_type": "stream",
     "text": [
      "Unique Custodians : HSBC INSTITUTIONAL TRUST SERVICES (SINGAPORE) LIMITED\n",
      "Match : HSBC\n",
      "\n",
      "Unique Custodians : WILMINGTON TRUST COMPANY\n",
      "Match : Wilmington Trust\n",
      "\n",
      "9/10 positive, 6/10 negative\n",
      "Do these records refer to the same thing?\n",
      "(y)es / (n)o / (u)nsure / (f)inished / (p)revious\n"
     ]
    },
    {
     "name": "stdout",
     "output_type": "stream",
     "text": [
      "n\n"
     ]
    },
    {
     "name": "stderr",
     "output_type": "stream",
     "text": [
      "Unique Custodians : BNP PARIBAS PRIME BROKERAGE INTERNATIONAL, LTD\n",
      "Match : BNP Paribas\n",
      "\n",
      "Unique Custodians : UBS AG (LONDON)\n",
      "Match : UBS\n",
      "\n",
      "9/10 positive, 7/10 negative\n",
      "Do these records refer to the same thing?\n",
      "(y)es / (n)o / (u)nsure / (f)inished / (p)revious\n"
     ]
    },
    {
     "name": "stdout",
     "output_type": "stream",
     "text": [
      "n\n"
     ]
    },
    {
     "name": "stderr",
     "output_type": "stream",
     "text": [
      "Unique Custodians : THE BANK OF NEW YORK\n",
      "Match : BNY Mellon\n",
      "\n",
      "Unique Custodians : THE NORTHERN TRUST INTERNATIONAL BANKING CORP.\n",
      "Match : Northern Trust Custody Services\n",
      "\n",
      "9/10 positive, 8/10 negative\n",
      "Do these records refer to the same thing?\n",
      "(y)es / (n)o / (u)nsure / (f)inished / (p)revious\n"
     ]
    },
    {
     "name": "stdout",
     "output_type": "stream",
     "text": [
      "n\n"
     ]
    },
    {
     "name": "stderr",
     "output_type": "stream",
     "text": [
      "Unique Custodians : NORTHERN TRUST GLOBAL SERVICES\n",
      "Match : Northern Trust Custody Services\n",
      "\n",
      "Unique Custodians : THE NORTHERN TRUST CO.\n",
      "Match : Northern Trust Custody Services\n",
      "\n",
      "9/10 positive, 9/10 negative\n",
      "Do these records refer to the same thing?\n",
      "(y)es / (n)o / (u)nsure / (f)inished / (p)revious\n"
     ]
    },
    {
     "name": "stdout",
     "output_type": "stream",
     "text": [
      "y\n"
     ]
    },
    {
     "name": "stderr",
     "output_type": "stream",
     "text": [
      "Unique Custodians : J.P. MORGAN CHASE, NA\n",
      "Match : J.P. Morgan\n",
      "\n",
      "Unique Custodians : JP MORGAN CHASE & CO\n",
      "Match : J.P. Morgan\n",
      "\n",
      "10/10 positive, 9/10 negative\n",
      "Do these records refer to the same thing?\n",
      "(y)es / (n)o / (u)nsure / (f)inished / (p)revious\n"
     ]
    },
    {
     "name": "stdout",
     "output_type": "stream",
     "text": [
      "y\n"
     ]
    },
    {
     "name": "stderr",
     "output_type": "stream",
     "text": [
      "Unique Custodians : CITIBANK NA\n",
      "Match : Citi Transaction Services\n",
      "\n",
      "Unique Custodians : CITIGROUP GLOBAL MARKETS, INC.\n",
      "Match : Citi Transaction Services\n",
      "\n",
      "11/10 positive, 9/10 negative\n",
      "Do these records refer to the same thing?\n",
      "(y)es / (n)o / (u)nsure / (f)inished / (p)revious\n"
     ]
    },
    {
     "name": "stdout",
     "output_type": "stream",
     "text": [
      "y\n"
     ]
    },
    {
     "name": "stderr",
     "output_type": "stream",
     "text": [
      "Unique Custodians : WELLS FARGO CLEARING SERVICES, LLC\n",
      "Match : Wells Fargo\n",
      "\n",
      "Unique Custodians : WELLS FARGO SECURITIES, LLC\n",
      "Match : Wells Fargo\n",
      "\n",
      "12/10 positive, 9/10 negative\n",
      "Do these records refer to the same thing?\n",
      "(y)es / (n)o / (u)nsure / (f)inished / (p)revious\n"
     ]
    },
    {
     "name": "stdout",
     "output_type": "stream",
     "text": [
      "y\n"
     ]
    },
    {
     "name": "stderr",
     "output_type": "stream",
     "text": [
      "Unique Custodians : HARRIS N.A.\n",
      "Match : BMO Harris Bank\n",
      "\n",
      "Unique Custodians : U.S. BANK INSTITUTIONAL TRUST & CUSTODY\n",
      "Match : U.S. Bank Institutional Trust & Custody\n",
      "\n",
      "13/10 positive, 9/10 negative\n",
      "Do these records refer to the same thing?\n",
      "(y)es / (n)o / (u)nsure / (f)inished / (p)revious\n"
     ]
    },
    {
     "name": "stdout",
     "output_type": "stream",
     "text": [
      "n\n"
     ]
    },
    {
     "name": "stderr",
     "output_type": "stream",
     "text": [
      "Unique Custodians : JEFFERIES BACHE FINANCIAL SERVICES, INC.\n",
      "Match : Jefferies\n",
      "\n",
      "Unique Custodians : MERRILL LYNCH GOVERNMENT SECURITIES INC.\n",
      "Match : Merrill Lynch International\n",
      "\n",
      "13/10 positive, 10/10 negative\n",
      "Do these records refer to the same thing?\n",
      "(y)es / (n)o / (u)nsure / (f)inished / (p)revious\n"
     ]
    },
    {
     "name": "stdout",
     "output_type": "stream",
     "text": [
      "n\n"
     ]
    },
    {
     "name": "stderr",
     "output_type": "stream",
     "text": [
      "Unique Custodians : UBS SECURITIES AG\n",
      "Match : UBS\n",
      "\n",
      "Unique Custodians : UBS, AG\n",
      "Match : UBS\n",
      "\n",
      "13/10 positive, 11/10 negative\n",
      "Do these records refer to the same thing?\n",
      "(y)es / (n)o / (u)nsure / (f)inished / (p)revious\n"
     ]
    },
    {
     "name": "stdout",
     "output_type": "stream",
     "text": [
      "y\n"
     ]
    },
    {
     "name": "stderr",
     "output_type": "stream",
     "text": [
      "Unique Custodians : CITCO BANK CANADA\n",
      "Match : Citco Global Custody\n",
      "\n",
      "Unique Custodians : CITCO BANKING CORPORATION N.V.\n",
      "Match : Citco Global Custody\n",
      "\n",
      "14/10 positive, 11/10 negative\n",
      "Do these records refer to the same thing?\n",
      "(y)es / (n)o / (u)nsure / (f)inished / (p)revious\n"
     ]
    },
    {
     "name": "stdout",
     "output_type": "stream",
     "text": [
      "y\n"
     ]
    },
    {
     "name": "stderr",
     "output_type": "stream",
     "text": [
      "Unique Custodians : CITCO BANK AND TRUST COMPANY (BAHAMAS) LIMITED\n",
      "Match : Citco Global Custody\n",
      "\n",
      "Unique Custodians : CITCO BANK NEDERLAND VC\n",
      "Match : Citco Global Custody\n",
      "\n",
      "15/10 positive, 11/10 negative\n",
      "Do these records refer to the same thing?\n",
      "(y)es / (n)o / (u)nsure / (f)inished / (p)revious\n"
     ]
    },
    {
     "name": "stdout",
     "output_type": "stream",
     "text": [
      "y\n"
     ]
    },
    {
     "name": "stderr",
     "output_type": "stream",
     "text": [
      "Unique Custodians : HSBC BANK USA\n",
      "Match : HSBC\n",
      "\n",
      "Unique Custodians : THE BANK OF NEW YORK MELLON (LONDON BRANCH)\n",
      "Match : BNY Mellon\n",
      "\n",
      "16/10 positive, 11/10 negative\n",
      "Do these records refer to the same thing?\n",
      "(y)es / (n)o / (u)nsure / (f)inished / (p)revious\n"
     ]
    },
    {
     "name": "stdout",
     "output_type": "stream",
     "text": [
      "n\n"
     ]
    },
    {
     "name": "stderr",
     "output_type": "stream",
     "text": [
      "Unique Custodians : BANK OF VALLETTA\n",
      "Match : Bank of Valletta\n",
      "\n",
      "Unique Custodians : TRINIDAD & TOBAGO CENTRAL DEPOSITORY\n",
      "Match : Trinidad and Tobago Central Depository\n",
      "\n",
      "16/10 positive, 12/10 negative\n",
      "Do these records refer to the same thing?\n",
      "(y)es / (n)o / (u)nsure / (f)inished / (p)revious\n"
     ]
    },
    {
     "name": "stdout",
     "output_type": "stream",
     "text": [
      "n\n"
     ]
    },
    {
     "name": "stderr",
     "output_type": "stream",
     "text": [
      "Unique Custodians : GOLDMAN SACHS BANK USA\n",
      "Match : Goldman Sachs\n",
      "\n",
      "Unique Custodians : GOLDMAN SACHS INTERNATIONAL BANK\n",
      "Match : Goldman Sachs\n",
      "\n",
      "16/10 positive, 13/10 negative\n",
      "Do these records refer to the same thing?\n",
      "(y)es / (n)o / (u)nsure / (f)inished / (p)revious\n"
     ]
    },
    {
     "name": "stdout",
     "output_type": "stream",
     "text": [
      "y\n"
     ]
    },
    {
     "name": "stderr",
     "output_type": "stream",
     "text": [
      "Unique Custodians : HSBC BANK NA USA\n",
      "Match : HSBC\n",
      "\n",
      "Unique Custodians : HSBC BANK USA NA\n",
      "Match : HSBC\n",
      "\n",
      "17/10 positive, 13/10 negative\n",
      "Do these records refer to the same thing?\n",
      "(y)es / (n)o / (u)nsure / (f)inished / (p)revious\n"
     ]
    },
    {
     "name": "stdout",
     "output_type": "stream",
     "text": [
      "y\n"
     ]
    },
    {
     "name": "stderr",
     "output_type": "stream",
     "text": [
      "Unique Custodians : DEUTSCHE BANK (MAURITIUS) LIMITED\n",
      "Match : Deutsche Bank\n",
      "\n",
      "Unique Custodians : DEUTSCHE BANK SECURITIES INC.\n",
      "Match : Deutsche Bank\n",
      "\n",
      "18/10 positive, 13/10 negative\n",
      "Do these records refer to the same thing?\n",
      "(y)es / (n)o / (u)nsure / (f)inished / (p)revious\n"
     ]
    },
    {
     "name": "stdout",
     "output_type": "stream",
     "text": [
      "y\n"
     ]
    },
    {
     "name": "stderr",
     "output_type": "stream",
     "text": [
      "Unique Custodians : JP MORGAN CCVM SA\n",
      "Match : J.P. Morgan\n",
      "\n",
      "Unique Custodians : VANGUARD CAPITAL\n",
      "Match : Vanguard Marketing Corporation\n",
      "\n",
      "19/10 positive, 13/10 negative\n",
      "Do these records refer to the same thing?\n",
      "(y)es / (n)o / (u)nsure / (f)inished / (p)revious\n"
     ]
    },
    {
     "name": "stdout",
     "output_type": "stream",
     "text": [
      "n\n"
     ]
    },
    {
     "name": "stderr",
     "output_type": "stream",
     "text": [
      "Unique Custodians : JP MORGAN CHASE BANK, NA\n",
      "Match : J.P. Morgan\n",
      "\n",
      "Unique Custodians : NORTHERN TRUST GLOBAL SERVICES LIMITED\n",
      "Match : Northern Trust Custody Services\n",
      "\n",
      "19/10 positive, 14/10 negative\n",
      "Do these records refer to the same thing?\n",
      "(y)es / (n)o / (u)nsure / (f)inished / (p)revious\n"
     ]
    },
    {
     "name": "stdout",
     "output_type": "stream",
     "text": [
      "n\n"
     ]
    },
    {
     "name": "stderr",
     "output_type": "stream",
     "text": [
      "Unique Custodians : CITIGROUP, INC.\n",
      "Match : Citi Transaction Services\n",
      "\n",
      "Unique Custodians : NORTHERN TRUST INTERNATIONAL BANK CORPORATION\n",
      "Match : Northern Trust Custody Services\n",
      "\n",
      "19/10 positive, 15/10 negative\n",
      "Do these records refer to the same thing?\n",
      "(y)es / (n)o / (u)nsure / (f)inished / (p)revious\n"
     ]
    },
    {
     "name": "stdout",
     "output_type": "stream",
     "text": [
      "n\n"
     ]
    },
    {
     "name": "stderr",
     "output_type": "stream",
     "text": [
      "Unique Custodians : MORGAN STANLEY CAPITAL GROUP INC.\n",
      "Match : Morgan Stanley\n",
      "\n",
      "Unique Custodians : MORGAN STANLEY CAPITAL SERVICES LLC.\n",
      "Match : Morgan Stanley\n",
      "\n",
      "19/10 positive, 16/10 negative\n",
      "Do these records refer to the same thing?\n",
      "(y)es / (n)o / (u)nsure / (f)inished / (p)revious\n"
     ]
    },
    {
     "name": "stdout",
     "output_type": "stream",
     "text": [
      "y\n"
     ]
    },
    {
     "name": "stderr",
     "output_type": "stream",
     "text": [
      "Unique Custodians : JP MORGAN CHASE BANK, N.A.\n",
      "Match : J.P. Morgan\n",
      "\n",
      "Unique Custodians : JPMORGAN CHASE & CO.\n",
      "Match : J.P. Morgan\n",
      "\n",
      "20/10 positive, 16/10 negative\n",
      "Do these records refer to the same thing?\n",
      "(y)es / (n)o / (u)nsure / (f)inished / (p)revious\n"
     ]
    },
    {
     "name": "stdout",
     "output_type": "stream",
     "text": [
      "y\n"
     ]
    },
    {
     "name": "stderr",
     "output_type": "stream",
     "text": [
      "Unique Custodians : BARCLAYS BANK MAURITIUS LIMITED\n",
      "Match : Barclays\n",
      "\n",
      "Unique Custodians : SG AMERICAS SECURITIES LLC\n",
      "Match : SG Americas Securities\n",
      "\n",
      "21/10 positive, 16/10 negative\n",
      "Do these records refer to the same thing?\n",
      "(y)es / (n)o / (u)nsure / (f)inished / (p)revious\n"
     ]
    },
    {
     "name": "stdout",
     "output_type": "stream",
     "text": [
      "n\n"
     ]
    },
    {
     "name": "stderr",
     "output_type": "stream",
     "text": [
      "Unique Custodians : THE BANK OF NEW YORK MELLON TRUST COMPANY, N.A.\n",
      "Match : BNY Mellon\n",
      "\n",
      "Unique Custodians : TUTUNSKA BANKA\n",
      "Match : NLB Tutunska banka\n",
      "\n",
      "21/10 positive, 17/10 negative\n",
      "Do these records refer to the same thing?\n",
      "(y)es / (n)o / (u)nsure / (f)inished / (p)revious\n"
     ]
    },
    {
     "name": "stdout",
     "output_type": "stream",
     "text": [
      "n\n"
     ]
    },
    {
     "name": "stderr",
     "output_type": "stream",
     "text": [
      "Unique Custodians : BNY MELLON ALTERNATIVE INVESTMENT SERVICES\n",
      "Match : BNY Mellon\n",
      "\n",
      "Unique Custodians : HSBC BANK USA NA\n",
      "Match : HSBC\n",
      "\n",
      "21/10 positive, 18/10 negative\n",
      "Do these records refer to the same thing?\n",
      "(y)es / (n)o / (u)nsure / (f)inished / (p)revious\n"
     ]
    },
    {
     "name": "stdout",
     "output_type": "stream",
     "text": [
      "n\n"
     ]
    },
    {
     "name": "stderr",
     "output_type": "stream",
     "text": [
      "Unique Custodians : J.P. MORGAN CHASE BANK, NA\n",
      "Match : J.P. Morgan\n",
      "\n",
      "Unique Custodians : JPMORGAN CHASE BANK, NA\n",
      "Match : J.P. Morgan\n",
      "\n",
      "21/10 positive, 19/10 negative\n",
      "Do these records refer to the same thing?\n",
      "(y)es / (n)o / (u)nsure / (f)inished / (p)revious\n"
     ]
    },
    {
     "name": "stdout",
     "output_type": "stream",
     "text": [
      "y\n"
     ]
    },
    {
     "name": "stderr",
     "output_type": "stream",
     "text": [
      "Unique Custodians : PNC BANK, NA\n",
      "Match : PNC\n",
      "\n",
      "Unique Custodians : PNC BANK,NA\n",
      "Match : PNC\n",
      "\n",
      "22/10 positive, 19/10 negative\n",
      "Do these records refer to the same thing?\n",
      "(y)es / (n)o / (u)nsure / (f)inished / (p)revious\n"
     ]
    },
    {
     "name": "stdout",
     "output_type": "stream",
     "text": [
      "y\n"
     ]
    },
    {
     "name": "stderr",
     "output_type": "stream",
     "text": [
      "Unique Custodians : CITIGROUP GLOBAL MARKETS INC.\n",
      "Match : Citi Transaction Services\n",
      "\n",
      "Unique Custodians : CITIGROUP GLOBAL MARKETS LIMITED\n",
      "Match : Citi Transaction Services\n",
      "\n",
      "23/10 positive, 19/10 negative\n",
      "Do these records refer to the same thing?\n",
      "(y)es / (n)o / (u)nsure / (f)inished / (p)revious\n"
     ]
    },
    {
     "name": "stdout",
     "output_type": "stream",
     "text": [
      "y\n"
     ]
    },
    {
     "name": "stderr",
     "output_type": "stream",
     "text": [
      "Unique Custodians : CREDIT SUISSE AG, DUBLIN BRANCH\n",
      "Match : Credit Suisse Prime Fund Services\n",
      "\n",
      "Unique Custodians : DEUTSCHE BANK AG - LONDON BRANCH\n",
      "Match : Deutsche Bank\n",
      "\n",
      "24/10 positive, 19/10 negative\n",
      "Do these records refer to the same thing?\n",
      "(y)es / (n)o / (u)nsure / (f)inished / (p)revious\n"
     ]
    },
    {
     "name": "stdout",
     "output_type": "stream",
     "text": [
      "n\n"
     ]
    },
    {
     "name": "stderr",
     "output_type": "stream",
     "text": [
      "Unique Custodians : BTG PACTUAL US CAPITAL, LLC\n",
      "Match : BTG Pactual\n",
      "\n",
      "Unique Custodians : MERRILL LYNCH INTERNATIONAL INC. SEOUL BRANCH\n",
      "Match : Merrill Lynch International\n",
      "\n",
      "24/10 positive, 20/10 negative\n",
      "Do these records refer to the same thing?\n",
      "(y)es / (n)o / (u)nsure / (f)inished / (p)revious\n"
     ]
    },
    {
     "name": "stdout",
     "output_type": "stream",
     "text": [
      "n\n"
     ]
    },
    {
     "name": "stderr",
     "output_type": "stream",
     "text": [
      "Unique Custodians : BANK OF NEW YORK MELLON TRUST COMPANY\n",
      "Match : BNY Mellon\n",
      "\n",
      "Unique Custodians : BMO HARRIS BANK\n",
      "Match : BMO Harris Bank\n",
      "\n",
      "24/10 positive, 21/10 negative\n",
      "Do these records refer to the same thing?\n",
      "(y)es / (n)o / (u)nsure / (f)inished / (p)revious\n"
     ]
    },
    {
     "name": "stdout",
     "output_type": "stream",
     "text": [
      "n\n"
     ]
    },
    {
     "name": "stderr",
     "output_type": "stream",
     "text": [
      "Unique Custodians : MORGAN STANLEY & CO INTERNATIONAL PLC\n",
      "Match : Morgan Stanley\n",
      "\n",
      "Unique Custodians : MORGAN STANLEY & CO INTL PLC\n",
      "Match : Morgan Stanley\n",
      "\n",
      "24/10 positive, 22/10 negative\n",
      "Do these records refer to the same thing?\n",
      "(y)es / (n)o / (u)nsure / (f)inished / (p)revious\n"
     ]
    },
    {
     "name": "stdout",
     "output_type": "stream",
     "text": [
      "y\n"
     ]
    },
    {
     "name": "stderr",
     "output_type": "stream",
     "text": [
      "Unique Custodians : STATE STREET BANK &TRUST COMPANY\n",
      "Match : State Street Custody Services\n",
      "\n",
      "Unique Custodians : STATE STREET BANK AND TRUST COMPANY\n",
      "Match : State Street Custody Services\n",
      "\n",
      "25/10 positive, 22/10 negative\n",
      "Do these records refer to the same thing?\n",
      "(y)es / (n)o / (u)nsure / (f)inished / (p)revious\n"
     ]
    },
    {
     "name": "stdout",
     "output_type": "stream",
     "text": [
      "y\n"
     ]
    },
    {
     "name": "stderr",
     "output_type": "stream",
     "text": [
      "Unique Custodians : CITCO BANK NEDERLAND N.V.\n",
      "Match : Citco Global Custody\n",
      "\n",
      "Unique Custodians : CITCO BANK NEDERLAND VC\n",
      "Match : Citco Global Custody\n",
      "\n",
      "26/10 positive, 22/10 negative\n",
      "Do these records refer to the same thing?\n",
      "(y)es / (n)o / (u)nsure / (f)inished / (p)revious\n"
     ]
    },
    {
     "name": "stdout",
     "output_type": "stream",
     "text": [
      "y\n"
     ]
    },
    {
     "name": "stderr",
     "output_type": "stream",
     "text": [
      "Unique Custodians : CREDIT SUISSE SECURITIES (EUROPE) LTD.\n",
      "Match : Credit Suisse Prime Fund Services\n",
      "\n",
      "Unique Custodians : US BANCORP FUND SERVICES, LLC\n",
      "Match : US Bancorp Fund Services\n",
      "\n",
      "27/10 positive, 22/10 negative\n",
      "Do these records refer to the same thing?\n",
      "(y)es / (n)o / (u)nsure / (f)inished / (p)revious\n"
     ]
    },
    {
     "name": "stdout",
     "output_type": "stream",
     "text": [
      "n\n"
     ]
    },
    {
     "name": "stderr",
     "output_type": "stream",
     "text": [
      "Unique Custodians : ROSENTHAL COLLINS GROUP, LLC\n",
      "Match : Rosenthal Collins Group\n",
      "\n",
      "Unique Custodians : WELLS FARGO BANK NA\n",
      "Match : Wells Fargo\n",
      "\n",
      "27/10 positive, 23/10 negative\n",
      "Do these records refer to the same thing?\n",
      "(y)es / (n)o / (u)nsure / (f)inished / (p)revious\n"
     ]
    },
    {
     "name": "stdout",
     "output_type": "stream",
     "text": [
      "n\n"
     ]
    },
    {
     "name": "stderr",
     "output_type": "stream",
     "text": [
      "Unique Custodians : MORGAN STANLEY & CO. LLC\n",
      "Match : Morgan Stanley\n",
      "\n",
      "Unique Custodians : STATE STREET GLOBAL MARKETS, LLC\n",
      "Match : State Street Custody Services\n",
      "\n",
      "27/10 positive, 24/10 negative\n",
      "Do these records refer to the same thing?\n",
      "(y)es / (n)o / (u)nsure / (f)inished / (p)revious\n"
     ]
    },
    {
     "name": "stdout",
     "output_type": "stream",
     "text": [
      "n\n"
     ]
    },
    {
     "name": "stderr",
     "output_type": "stream",
     "text": [
      "Unique Custodians : BMO HARRIS BANK N.A\n",
      "Match : BMO Harris Bank\n",
      "\n",
      "Unique Custodians : BMO HARRIS BANK, N.A.\n",
      "Match : BMO Harris Bank\n",
      "\n",
      "27/10 positive, 25/10 negative\n",
      "Do these records refer to the same thing?\n",
      "(y)es / (n)o / (u)nsure / (f)inished / (p)revious\n"
     ]
    },
    {
     "name": "stdout",
     "output_type": "stream",
     "text": [
      "y\n"
     ]
    },
    {
     "name": "stderr",
     "output_type": "stream",
     "text": [
      "Unique Custodians : NORTHERN TRUST INTERNATIONAL BANKING CORP\n",
      "Match : Northern Trust Custody Services\n",
      "\n",
      "Unique Custodians : THE NORTHERN TRUST INTERNATIONAL BANKING CORPORATION\n",
      "Match : Northern Trust Custody Services\n",
      "\n",
      "28/10 positive, 25/10 negative\n",
      "Do these records refer to the same thing?\n",
      "(y)es / (n)o / (u)nsure / (f)inished / (p)revious\n"
     ]
    },
    {
     "name": "stdout",
     "output_type": "stream",
     "text": [
      "y\n"
     ]
    },
    {
     "name": "stderr",
     "output_type": "stream",
     "text": [
      "Unique Custodians : DEUTSCHE BANK AG - NEW YORK BRANCH\n",
      "Match : Deutsche Bank\n",
      "\n",
      "Unique Custodians : DEUTSCHE BANK AG, NEW YORK BRANCH\n",
      "Match : Deutsche Bank\n",
      "\n",
      "29/10 positive, 25/10 negative\n",
      "Do these records refer to the same thing?\n",
      "(y)es / (n)o / (u)nsure / (f)inished / (p)revious\n"
     ]
    },
    {
     "name": "stdout",
     "output_type": "stream",
     "text": [
      "y\n"
     ]
    },
    {
     "name": "stderr",
     "output_type": "stream",
     "text": [
      "Unique Custodians : DEUTSCHE BANK (CAYMAN) LIMITED\n",
      "Match : Deutsche Bank\n",
      "\n",
      "Unique Custodians : HARRIS NA\n",
      "Match : BMO Harris Bank\n",
      "\n",
      "30/10 positive, 25/10 negative\n",
      "Do these records refer to the same thing?\n",
      "(y)es / (n)o / (u)nsure / (f)inished / (p)revious\n"
     ]
    },
    {
     "name": "stdout",
     "output_type": "stream",
     "text": [
      "n\n"
     ]
    },
    {
     "name": "stderr",
     "output_type": "stream",
     "text": [
      "Unique Custodians : KOTAK MAHINDRA, LTD\n",
      "Match : Kotak Mahindra Bank\n",
      "\n",
      "Unique Custodians : THE NORTHERN TRUST INT'L BANKING CORPORATION\n",
      "Match : Northern Trust Custody Services\n",
      "\n",
      "30/10 positive, 26/10 negative\n",
      "Do these records refer to the same thing?\n",
      "(y)es / (n)o / (u)nsure / (f)inished / (p)revious\n"
     ]
    },
    {
     "name": "stdout",
     "output_type": "stream",
     "text": [
      "n\n"
     ]
    },
    {
     "name": "stderr",
     "output_type": "stream",
     "text": [
      "Unique Custodians : FIDELITY INVESTMENTS (THE BANK OF NEW YORK, MELLON)\n",
      "Match : Fidelity Investments\n",
      "\n",
      "Unique Custodians : US BANK NA\n",
      "Match : U.S. Bank National Association\n",
      "\n",
      "30/10 positive, 27/10 negative\n",
      "Do these records refer to the same thing?\n",
      "(y)es / (n)o / (u)nsure / (f)inished / (p)revious\n"
     ]
    },
    {
     "name": "stdout",
     "output_type": "stream",
     "text": [
      "f\n"
     ]
    },
    {
     "name": "stderr",
     "output_type": "stream",
     "text": [
      "Finished labeling\n",
      "INFO:rlr.crossvalidation:using cross validation to find optimum alpha...\n",
      "INFO:rlr.crossvalidation:optimum alpha: 0.100000, score 0.981583196666\n",
      "INFO:dedupe.blocking:Canopy: TfidfNGramCanopyPredicate: (0.4, Match)\n",
      "INFO:dedupe.blocking:Canopy: TfidfNGramCanopyPredicate: (0.6, Match)\n",
      "INFO:dedupe.blocking:Canopy: TfidfNGramCanopyPredicate: (0.2, Match)\n",
      "INFO:dedupe.blocking:Canopy: TfidfNGramCanopyPredicate: (0.8, Match)\n",
      "INFO:dedupe.blocking:Canopy: TfidfTextCanopyPredicate: (0.8, Match)\n",
      "INFO:dedupe.blocking:Canopy: TfidfTextCanopyPredicate: (0.6, Match)\n",
      "INFO:dedupe.blocking:Canopy: TfidfTextCanopyPredicate: (0.4, Match)\n",
      "INFO:dedupe.blocking:Canopy: TfidfTextCanopyPredicate: (0.2, Match)\n",
      "INFO:dedupe.blocking:Canopy: LevenshteinCanopyPredicate: (4, Match)\n",
      "INFO:dedupe.blocking:Canopy: LevenshteinCanopyPredicate: (3, Match)\n",
      "INFO:dedupe.blocking:Canopy: LevenshteinCanopyPredicate: (1, Match)\n",
      "INFO:dedupe.blocking:Canopy: LevenshteinCanopyPredicate: (2, Match)\n",
      "INFO:dedupe.blocking:Canopy: LevenshteinCanopyPredicate: (4, Unique Custodians)\n",
      "INFO:dedupe.blocking:Canopy: LevenshteinCanopyPredicate: (1, Unique Custodians)\n",
      "INFO:dedupe.blocking:Canopy: LevenshteinCanopyPredicate: (2, Unique Custodians)\n",
      "INFO:dedupe.blocking:Canopy: LevenshteinCanopyPredicate: (3, Unique Custodians)\n",
      "INFO:dedupe.blocking:Canopy: TfidfNGramCanopyPredicate: (0.2, Unique Custodians)\n",
      "INFO:dedupe.blocking:Canopy: TfidfNGramCanopyPredicate: (0.4, Unique Custodians)\n",
      "INFO:dedupe.blocking:Canopy: TfidfNGramCanopyPredicate: (0.6, Unique Custodians)\n",
      "INFO:dedupe.blocking:Canopy: TfidfNGramCanopyPredicate: (0.8, Unique Custodians)\n",
      "INFO:dedupe.blocking:Canopy: TfidfTextCanopyPredicate: (0.2, Unique Custodians)\n",
      "INFO:dedupe.blocking:Canopy: TfidfTextCanopyPredicate: (0.6, Unique Custodians)\n",
      "INFO:dedupe.blocking:Canopy: TfidfTextCanopyPredicate: (0.4, Unique Custodians)\n",
      "INFO:dedupe.blocking:Canopy: TfidfTextCanopyPredicate: (0.8, Unique Custodians)\n",
      "INFO:dedupe.blocking:Canopy: TfidfNGramCanopyPredicate: (0.4, Match)\n",
      "INFO:dedupe.blocking:Canopy: TfidfNGramCanopyPredicate: (0.6, Match)\n",
      "INFO:dedupe.blocking:Canopy: TfidfNGramCanopyPredicate: (0.2, Match)\n",
      "INFO:dedupe.blocking:Canopy: TfidfNGramCanopyPredicate: (0.8, Match)\n",
      "INFO:dedupe.blocking:Canopy: TfidfTextCanopyPredicate: (0.8, Match)\n",
      "INFO:dedupe.blocking:Canopy: TfidfTextCanopyPredicate: (0.6, Match)\n",
      "INFO:dedupe.blocking:Canopy: TfidfTextCanopyPredicate: (0.4, Match)\n",
      "INFO:dedupe.blocking:Canopy: TfidfTextCanopyPredicate: (0.2, Match)\n",
      "INFO:dedupe.blocking:Canopy: LevenshteinCanopyPredicate: (4, Match)\n",
      "INFO:dedupe.blocking:Canopy: LevenshteinCanopyPredicate: (3, Match)\n",
      "INFO:dedupe.blocking:Canopy: LevenshteinCanopyPredicate: (1, Match)\n",
      "INFO:dedupe.blocking:Canopy: LevenshteinCanopyPredicate: (2, Match)\n",
      "INFO:dedupe.blocking:Canopy: LevenshteinCanopyPredicate: (4, Unique Custodians)\n",
      "INFO:dedupe.blocking:Canopy: LevenshteinCanopyPredicate: (1, Unique Custodians)\n",
      "INFO:dedupe.blocking:Canopy: LevenshteinCanopyPredicate: (2, Unique Custodians)\n",
      "INFO:dedupe.blocking:Canopy: LevenshteinCanopyPredicate: (3, Unique Custodians)\n",
      "INFO:dedupe.blocking:Canopy: TfidfNGramCanopyPredicate: (0.2, Unique Custodians)\n",
      "INFO:dedupe.blocking:Canopy: TfidfNGramCanopyPredicate: (0.4, Unique Custodians)\n",
      "INFO:dedupe.blocking:Canopy: TfidfNGramCanopyPredicate: (0.6, Unique Custodians)\n",
      "INFO:dedupe.blocking:Canopy: TfidfNGramCanopyPredicate: (0.8, Unique Custodians)\n",
      "INFO:dedupe.blocking:Canopy: TfidfTextCanopyPredicate: (0.2, Unique Custodians)\n",
      "INFO:dedupe.blocking:Canopy: TfidfTextCanopyPredicate: (0.6, Unique Custodians)\n",
      "INFO:dedupe.blocking:Canopy: TfidfTextCanopyPredicate: (0.4, Unique Custodians)\n",
      "INFO:dedupe.blocking:Canopy: TfidfTextCanopyPredicate: (0.8, Unique Custodians)\n",
      "INFO:dedupe.training:Final predicate set:\n",
      "INFO:dedupe.training:(SimplePredicate: (commonTwoTokens, Match), SimplePredicate: (oneGramFingerprint, Match))\n",
      "INFO:dedupe.training:(LevenshteinCanopyPredicate: (1, Unique Custodians), TfidfNGramCanopyPredicate: (0.8, Unique Custodians))\n",
      "INFO:dedupe.training:(SimplePredicate: (fingerprint, Unique Custodians), TfidfTextCanopyPredicate: (0.8, Unique Custodians))\n"
     ]
    },
    {
     "ename": "FileNotFoundError",
     "evalue": "[Errno 2] No such file or directory: ''",
     "output_type": "error",
     "traceback": [
      "\u001b[0;31m----------------------------------------------\u001b[0m",
      "\u001b[0;31mFileNotFoundError\u001b[0mTraceback (most recent call last)",
      "\u001b[0;32m<ipython-input-85-37ebe37e75cf>\u001b[0m in \u001b[0;36m<module>\u001b[0;34m()\u001b[0m\n\u001b[1;32m     22\u001b[0m     \u001b[0mdeduper\u001b[0m\u001b[0;34m.\u001b[0m\u001b[0mtrain\u001b[0m\u001b[0;34m(\u001b[0m\u001b[0;34m)\u001b[0m\u001b[0;34m\u001b[0m\u001b[0m\n\u001b[1;32m     23\u001b[0m \u001b[0;34m\u001b[0m\u001b[0m\n\u001b[0;32m---> 24\u001b[0;31m     \u001b[0;32mwith\u001b[0m \u001b[0mopen\u001b[0m\u001b[0;34m(\u001b[0m\u001b[0mtraining_file\u001b[0m\u001b[0;34m,\u001b[0m \u001b[0;34m'w'\u001b[0m\u001b[0;34m)\u001b[0m \u001b[0;32mas\u001b[0m \u001b[0mtf\u001b[0m\u001b[0;34m:\u001b[0m\u001b[0;34m\u001b[0m\u001b[0m\n\u001b[0m\u001b[1;32m     25\u001b[0m         \u001b[0mdeduper\u001b[0m\u001b[0;34m.\u001b[0m\u001b[0mwriteTraining\u001b[0m\u001b[0;34m(\u001b[0m\u001b[0mtf\u001b[0m\u001b[0;34m)\u001b[0m\u001b[0;34m\u001b[0m\u001b[0m\n\u001b[1;32m     26\u001b[0m \u001b[0;34m\u001b[0m\u001b[0m\n",
      "\u001b[0;31mFileNotFoundError\u001b[0m: [Errno 2] No such file or directory: ''"
     ]
    }
   ],
   "source": [
    "if os.path.exists(settings_file):\n",
    "    print('reading from', settings_file)\n",
    "    with open(settings_file, 'rb') as f:\n",
    "        deduper = dedupe.StaticDedupe(f)\n",
    "else:\n",
    "    fields = [\n",
    "        {'field' : 'Unique Custodians', 'type': 'String'},\n",
    "        {'field' : 'Match', 'type': 'String'} \n",
    "        ]\n",
    "    deduper = dedupe.Dedupe(fields)\n",
    "    deduper.sample(data_d, 100)\n",
    "\n",
    "    if os.path.exists(training_file):\n",
    "        print('reading labeled examples from ', training_file)\n",
    "        with open(training_file, 'rb') as f:\n",
    "            deduper.readTraining(f)\n",
    "\n",
    "    print('starting active labeling...')\n",
    "\n",
    "    dedupe.consoleLabel(deduper)\n",
    "\n",
    "    deduper.train()"
   ]
  },
  {
   "cell_type": "code",
   "execution_count": 89,
   "metadata": {},
   "outputs": [],
   "source": [
    "with open(training_file, 'w') as tf:\n",
    "    deduper.writeTraining(tf)\n",
    "\n",
    "with open(settings_file, 'wb') as sf:\n",
    "    deduper.writeSettings(sf)"
   ]
  },
  {
   "cell_type": "code",
   "execution_count": 90,
   "metadata": {},
   "outputs": [
    {
     "name": "stderr",
     "output_type": "stream",
     "text": [
      "INFO:dedupe.blocking:Canopy: LevenshteinCanopyPredicate: (1, Unique Custodians)\n",
      "INFO:dedupe.blocking:Canopy: TfidfNGramCanopyPredicate: (0.8, Unique Custodians)\n",
      "INFO:dedupe.blocking:Canopy: TfidfTextCanopyPredicate: (0.8, Unique Custodians)\n",
      "/Users/aronak/miniconda3/envs/ml_3_6/lib/python3.6/site-packages/dedupe/backport.py:17: UserWarning: NumPy linked against 'Accelerate.framework'. Multiprocessing will be disabled. http://mail.scipy.org/pipermail/numpy-discussion/2012-August/063589.html\n",
      "  warnings.warn(\"NumPy linked against 'Accelerate.framework'. \"\n",
      "INFO:dedupe.api:Maximum expected recall and precision\n",
      "INFO:dedupe.api:recall: 1.000\n",
      "INFO:dedupe.api:precision: 0.986\n",
      "INFO:dedupe.api:With threshold: 0.846\n"
     ]
    }
   ],
   "source": [
    "threshold = deduper.threshold(data_d, recall_weight=1)"
   ]
  },
  {
   "cell_type": "code",
   "execution_count": 92,
   "metadata": {},
   "outputs": [
    {
     "name": "stderr",
     "output_type": "stream",
     "text": [
      "INFO:dedupe.blocking:Canopy: LevenshteinCanopyPredicate: (1, Unique Custodians)\n",
      "INFO:dedupe.blocking:Canopy: TfidfNGramCanopyPredicate: (0.8, Unique Custodians)\n",
      "INFO:dedupe.blocking:Canopy: TfidfTextCanopyPredicate: (0.8, Unique Custodians)\n"
     ]
    },
    {
     "name": "stdout",
     "output_type": "stream",
     "text": [
      "clustering...\n",
      "# duplicate sets 90\n"
     ]
    }
   ],
   "source": [
    "print('clustering...')\n",
    "clustered_dupes = deduper.match(data_d, threshold)\n",
    "\n",
    "print('# duplicate sets', len(clustered_dupes))\n"
   ]
  },
  {
   "cell_type": "code",
   "execution_count": 95,
   "metadata": {},
   "outputs": [
    {
     "data": {
      "text/plain": [
       "115"
      ]
     },
     "execution_count": 95,
     "metadata": {},
     "output_type": "execute_result"
    },
    {
     "data": {
      "text/plain": [
       "82"
      ]
     },
     "execution_count": 95,
     "metadata": {},
     "output_type": "execute_result"
    },
    {
     "data": {
      "text/plain": [
       "98"
      ]
     },
     "execution_count": 95,
     "metadata": {},
     "output_type": "execute_result"
    },
    {
     "data": {
      "text/plain": [
       "50"
      ]
     },
     "execution_count": 95,
     "metadata": {},
     "output_type": "execute_result"
    },
    {
     "data": {
      "text/plain": [
       "63"
      ]
     },
     "execution_count": 95,
     "metadata": {},
     "output_type": "execute_result"
    },
    {
     "data": {
      "text/plain": [
       "48"
      ]
     },
     "execution_count": 95,
     "metadata": {},
     "output_type": "execute_result"
    },
    {
     "data": {
      "text/plain": [
       "135"
      ]
     },
     "execution_count": 95,
     "metadata": {},
     "output_type": "execute_result"
    },
    {
     "data": {
      "text/plain": [
       "136"
      ]
     },
     "execution_count": 95,
     "metadata": {},
     "output_type": "execute_result"
    },
    {
     "data": {
      "text/plain": [
       "137"
      ]
     },
     "execution_count": 95,
     "metadata": {},
     "output_type": "execute_result"
    },
    {
     "data": {
      "text/plain": [
       "192"
      ]
     },
     "execution_count": 95,
     "metadata": {},
     "output_type": "execute_result"
    },
    {
     "data": {
      "text/plain": [
       "197"
      ]
     },
     "execution_count": 95,
     "metadata": {},
     "output_type": "execute_result"
    },
    {
     "data": {
      "text/plain": [
       "31"
      ]
     },
     "execution_count": 95,
     "metadata": {},
     "output_type": "execute_result"
    },
    {
     "data": {
      "text/plain": [
       "69"
      ]
     },
     "execution_count": 95,
     "metadata": {},
     "output_type": "execute_result"
    },
    {
     "data": {
      "text/plain": [
       "71"
      ]
     },
     "execution_count": 95,
     "metadata": {},
     "output_type": "execute_result"
    },
    {
     "data": {
      "text/plain": [
       "99"
      ]
     },
     "execution_count": 95,
     "metadata": {},
     "output_type": "execute_result"
    },
    {
     "data": {
      "text/plain": [
       "41"
      ]
     },
     "execution_count": 95,
     "metadata": {},
     "output_type": "execute_result"
    },
    {
     "data": {
      "text/plain": [
       "46"
      ]
     },
     "execution_count": 95,
     "metadata": {},
     "output_type": "execute_result"
    },
    {
     "data": {
      "text/plain": [
       "98"
      ]
     },
     "execution_count": 95,
     "metadata": {},
     "output_type": "execute_result"
    },
    {
     "data": {
      "text/plain": [
       "41"
      ]
     },
     "execution_count": 95,
     "metadata": {},
     "output_type": "execute_result"
    },
    {
     "data": {
      "text/plain": [
       "82"
      ]
     },
     "execution_count": 95,
     "metadata": {},
     "output_type": "execute_result"
    },
    {
     "data": {
      "text/plain": [
       "81"
      ]
     },
     "execution_count": 95,
     "metadata": {},
     "output_type": "execute_result"
    },
    {
     "data": {
      "text/plain": [
       "47"
      ]
     },
     "execution_count": 95,
     "metadata": {},
     "output_type": "execute_result"
    },
    {
     "data": {
      "text/plain": [
       "98"
      ]
     },
     "execution_count": 95,
     "metadata": {},
     "output_type": "execute_result"
    },
    {
     "data": {
      "text/plain": [
       "114"
      ]
     },
     "execution_count": 95,
     "metadata": {},
     "output_type": "execute_result"
    },
    {
     "data": {
      "text/plain": [
       "112"
      ]
     },
     "execution_count": 95,
     "metadata": {},
     "output_type": "execute_result"
    },
    {
     "data": {
      "text/plain": [
       "115"
      ]
     },
     "execution_count": 95,
     "metadata": {},
     "output_type": "execute_result"
    },
    {
     "data": {
      "text/plain": [
       "126"
      ]
     },
     "execution_count": 95,
     "metadata": {},
     "output_type": "execute_result"
    },
    {
     "data": {
      "text/plain": [
       "130"
      ]
     },
     "execution_count": 95,
     "metadata": {},
     "output_type": "execute_result"
    },
    {
     "data": {
      "text/plain": [
       "138"
      ]
     },
     "execution_count": 95,
     "metadata": {},
     "output_type": "execute_result"
    },
    {
     "data": {
      "text/plain": [
       "163"
      ]
     },
     "execution_count": 95,
     "metadata": {},
     "output_type": "execute_result"
    },
    {
     "data": {
      "text/plain": [
       "139"
      ]
     },
     "execution_count": 95,
     "metadata": {},
     "output_type": "execute_result"
    },
    {
     "data": {
      "text/plain": [
       "161"
      ]
     },
     "execution_count": 95,
     "metadata": {},
     "output_type": "execute_result"
    },
    {
     "data": {
      "text/plain": [
       "158"
      ]
     },
     "execution_count": 95,
     "metadata": {},
     "output_type": "execute_result"
    },
    {
     "data": {
      "text/plain": [
       "131"
      ]
     },
     "execution_count": 95,
     "metadata": {},
     "output_type": "execute_result"
    },
    {
     "data": {
      "text/plain": [
       "129"
      ]
     },
     "execution_count": 95,
     "metadata": {},
     "output_type": "execute_result"
    },
    {
     "data": {
      "text/plain": [
       "134"
      ]
     },
     "execution_count": 95,
     "metadata": {},
     "output_type": "execute_result"
    },
    {
     "data": {
      "text/plain": [
       "141"
      ]
     },
     "execution_count": 95,
     "metadata": {},
     "output_type": "execute_result"
    },
    {
     "data": {
      "text/plain": [
       "134"
      ]
     },
     "execution_count": 95,
     "metadata": {},
     "output_type": "execute_result"
    },
    {
     "data": {
      "text/plain": [
       "132"
      ]
     },
     "execution_count": 95,
     "metadata": {},
     "output_type": "execute_result"
    },
    {
     "data": {
      "text/plain": [
       "150"
      ]
     },
     "execution_count": 95,
     "metadata": {},
     "output_type": "execute_result"
    },
    {
     "data": {
      "text/plain": [
       "176"
      ]
     },
     "execution_count": 95,
     "metadata": {},
     "output_type": "execute_result"
    },
    {
     "data": {
      "text/plain": [
       "173"
      ]
     },
     "execution_count": 95,
     "metadata": {},
     "output_type": "execute_result"
    },
    {
     "data": {
      "text/plain": [
       "163"
      ]
     },
     "execution_count": 95,
     "metadata": {},
     "output_type": "execute_result"
    },
    {
     "data": {
      "text/plain": [
       "44"
      ]
     },
     "execution_count": 95,
     "metadata": {},
     "output_type": "execute_result"
    },
    {
     "data": {
      "text/plain": [
       "49"
      ]
     },
     "execution_count": 95,
     "metadata": {},
     "output_type": "execute_result"
    },
    {
     "data": {
      "text/plain": [
       "84"
      ]
     },
     "execution_count": 95,
     "metadata": {},
     "output_type": "execute_result"
    },
    {
     "data": {
      "text/plain": [
       "91"
      ]
     },
     "execution_count": 95,
     "metadata": {},
     "output_type": "execute_result"
    },
    {
     "data": {
      "text/plain": [
       "102"
      ]
     },
     "execution_count": 95,
     "metadata": {},
     "output_type": "execute_result"
    },
    {
     "data": {
      "text/plain": [
       "103"
      ]
     },
     "execution_count": 95,
     "metadata": {},
     "output_type": "execute_result"
    },
    {
     "data": {
      "text/plain": [
       "97"
      ]
     },
     "execution_count": 95,
     "metadata": {},
     "output_type": "execute_result"
    },
    {
     "data": {
      "text/plain": [
       "105"
      ]
     },
     "execution_count": 95,
     "metadata": {},
     "output_type": "execute_result"
    },
    {
     "data": {
      "text/plain": [
       "99"
      ]
     },
     "execution_count": 95,
     "metadata": {},
     "output_type": "execute_result"
    },
    {
     "data": {
      "text/plain": [
       "150"
      ]
     },
     "execution_count": 95,
     "metadata": {},
     "output_type": "execute_result"
    },
    {
     "data": {
      "text/plain": [
       "46"
      ]
     },
     "execution_count": 95,
     "metadata": {},
     "output_type": "execute_result"
    },
    {
     "data": {
      "text/plain": [
       "53"
      ]
     },
     "execution_count": 95,
     "metadata": {},
     "output_type": "execute_result"
    },
    {
     "data": {
      "text/plain": [
       "82"
      ]
     },
     "execution_count": 95,
     "metadata": {},
     "output_type": "execute_result"
    },
    {
     "data": {
      "text/plain": [
       "55"
      ]
     },
     "execution_count": 95,
     "metadata": {},
     "output_type": "execute_result"
    },
    {
     "data": {
      "text/plain": [
       "118"
      ]
     },
     "execution_count": 95,
     "metadata": {},
     "output_type": "execute_result"
    },
    {
     "data": {
      "text/plain": [
       "51"
      ]
     },
     "execution_count": 95,
     "metadata": {},
     "output_type": "execute_result"
    },
    {
     "data": {
      "text/plain": [
       "119"
      ]
     },
     "execution_count": 95,
     "metadata": {},
     "output_type": "execute_result"
    },
    {
     "data": {
      "text/plain": [
       "45"
      ]
     },
     "execution_count": 95,
     "metadata": {},
     "output_type": "execute_result"
    },
    {
     "data": {
      "text/plain": [
       "85"
      ]
     },
     "execution_count": 95,
     "metadata": {},
     "output_type": "execute_result"
    },
    {
     "data": {
      "text/plain": [
       "38"
      ]
     },
     "execution_count": 95,
     "metadata": {},
     "output_type": "execute_result"
    },
    {
     "data": {
      "text/plain": [
       "43"
      ]
     },
     "execution_count": 95,
     "metadata": {},
     "output_type": "execute_result"
    },
    {
     "data": {
      "text/plain": [
       "57"
      ]
     },
     "execution_count": 95,
     "metadata": {},
     "output_type": "execute_result"
    },
    {
     "data": {
      "text/plain": [
       "54"
      ]
     },
     "execution_count": 95,
     "metadata": {},
     "output_type": "execute_result"
    },
    {
     "data": {
      "text/plain": [
       "22"
      ]
     },
     "execution_count": 95,
     "metadata": {},
     "output_type": "execute_result"
    },
    {
     "data": {
      "text/plain": [
       "40"
      ]
     },
     "execution_count": 95,
     "metadata": {},
     "output_type": "execute_result"
    },
    {
     "data": {
      "text/plain": [
       "45"
      ]
     },
     "execution_count": 95,
     "metadata": {},
     "output_type": "execute_result"
    },
    {
     "data": {
      "text/plain": [
       "24"
      ]
     },
     "execution_count": 95,
     "metadata": {},
     "output_type": "execute_result"
    },
    {
     "data": {
      "text/plain": [
       "29"
      ]
     },
     "execution_count": 95,
     "metadata": {},
     "output_type": "execute_result"
    },
    {
     "data": {
      "text/plain": [
       "100"
      ]
     },
     "execution_count": 95,
     "metadata": {},
     "output_type": "execute_result"
    },
    {
     "data": {
      "text/plain": [
       "117"
      ]
     },
     "execution_count": 95,
     "metadata": {},
     "output_type": "execute_result"
    },
    {
     "data": {
      "text/plain": [
       "120"
      ]
     },
     "execution_count": 95,
     "metadata": {},
     "output_type": "execute_result"
    },
    {
     "data": {
      "text/plain": [
       "49"
      ]
     },
     "execution_count": 95,
     "metadata": {},
     "output_type": "execute_result"
    },
    {
     "data": {
      "text/plain": [
       "97"
      ]
     },
     "execution_count": 95,
     "metadata": {},
     "output_type": "execute_result"
    },
    {
     "data": {
      "text/plain": [
       "103"
      ]
     },
     "execution_count": 95,
     "metadata": {},
     "output_type": "execute_result"
    },
    {
     "data": {
      "text/plain": [
       "107"
      ]
     },
     "execution_count": 95,
     "metadata": {},
     "output_type": "execute_result"
    },
    {
     "data": {
      "text/plain": [
       "107"
      ]
     },
     "execution_count": 95,
     "metadata": {},
     "output_type": "execute_result"
    },
    {
     "data": {
      "text/plain": [
       "108"
      ]
     },
     "execution_count": 95,
     "metadata": {},
     "output_type": "execute_result"
    },
    {
     "data": {
      "text/plain": [
       "106"
      ]
     },
     "execution_count": 95,
     "metadata": {},
     "output_type": "execute_result"
    },
    {
     "data": {
      "text/plain": [
       "107"
      ]
     },
     "execution_count": 95,
     "metadata": {},
     "output_type": "execute_result"
    },
    {
     "data": {
      "text/plain": [
       "110"
      ]
     },
     "execution_count": 95,
     "metadata": {},
     "output_type": "execute_result"
    },
    {
     "data": {
      "text/plain": [
       "111"
      ]
     },
     "execution_count": 95,
     "metadata": {},
     "output_type": "execute_result"
    },
    {
     "data": {
      "text/plain": [
       "109"
      ]
     },
     "execution_count": 95,
     "metadata": {},
     "output_type": "execute_result"
    },
    {
     "data": {
      "text/plain": [
       "125"
      ]
     },
     "execution_count": 95,
     "metadata": {},
     "output_type": "execute_result"
    },
    {
     "data": {
      "text/plain": [
       "106"
      ]
     },
     "execution_count": 95,
     "metadata": {},
     "output_type": "execute_result"
    },
    {
     "data": {
      "text/plain": [
       "100"
      ]
     },
     "execution_count": 95,
     "metadata": {},
     "output_type": "execute_result"
    },
    {
     "data": {
      "text/plain": [
       "105"
      ]
     },
     "execution_count": 95,
     "metadata": {},
     "output_type": "execute_result"
    },
    {
     "data": {
      "text/plain": [
       "82"
      ]
     },
     "execution_count": 95,
     "metadata": {},
     "output_type": "execute_result"
    },
    {
     "data": {
      "text/plain": [
       "98"
      ]
     },
     "execution_count": 95,
     "metadata": {},
     "output_type": "execute_result"
    },
    {
     "data": {
      "text/plain": [
       "117"
      ]
     },
     "execution_count": 95,
     "metadata": {},
     "output_type": "execute_result"
    },
    {
     "data": {
      "text/plain": [
       "110"
      ]
     },
     "execution_count": 95,
     "metadata": {},
     "output_type": "execute_result"
    },
    {
     "data": {
      "text/plain": [
       "96"
      ]
     },
     "execution_count": 95,
     "metadata": {},
     "output_type": "execute_result"
    },
    {
     "data": {
      "text/plain": [
       "96"
      ]
     },
     "execution_count": 95,
     "metadata": {},
     "output_type": "execute_result"
    },
    {
     "data": {
      "text/plain": [
       "101"
      ]
     },
     "execution_count": 95,
     "metadata": {},
     "output_type": "execute_result"
    },
    {
     "data": {
      "text/plain": [
       "119"
      ]
     },
     "execution_count": 95,
     "metadata": {},
     "output_type": "execute_result"
    },
    {
     "data": {
      "text/plain": [
       "106"
      ]
     },
     "execution_count": 95,
     "metadata": {},
     "output_type": "execute_result"
    },
    {
     "data": {
      "text/plain": [
       "99"
      ]
     },
     "execution_count": 95,
     "metadata": {},
     "output_type": "execute_result"
    },
    {
     "data": {
      "text/plain": [
       "98"
      ]
     },
     "execution_count": 95,
     "metadata": {},
     "output_type": "execute_result"
    },
    {
     "data": {
      "text/plain": [
       "99"
      ]
     },
     "execution_count": 95,
     "metadata": {},
     "output_type": "execute_result"
    },
    {
     "data": {
      "text/plain": [
       "117"
      ]
     },
     "execution_count": 95,
     "metadata": {},
     "output_type": "execute_result"
    },
    {
     "data": {
      "text/plain": [
       "119"
      ]
     },
     "execution_count": 95,
     "metadata": {},
     "output_type": "execute_result"
    },
    {
     "data": {
      "text/plain": [
       "87"
      ]
     },
     "execution_count": 95,
     "metadata": {},
     "output_type": "execute_result"
    },
    {
     "data": {
      "text/plain": [
       "101"
      ]
     },
     "execution_count": 95,
     "metadata": {},
     "output_type": "execute_result"
    },
    {
     "data": {
      "text/plain": [
       "79"
      ]
     },
     "execution_count": 95,
     "metadata": {},
     "output_type": "execute_result"
    },
    {
     "data": {
      "text/plain": [
       "111"
      ]
     },
     "execution_count": 95,
     "metadata": {},
     "output_type": "execute_result"
    },
    {
     "data": {
      "text/plain": [
       "95"
      ]
     },
     "execution_count": 95,
     "metadata": {},
     "output_type": "execute_result"
    },
    {
     "data": {
      "text/plain": [
       "98"
      ]
     },
     "execution_count": 95,
     "metadata": {},
     "output_type": "execute_result"
    },
    {
     "data": {
      "text/plain": [
       "102"
      ]
     },
     "execution_count": 95,
     "metadata": {},
     "output_type": "execute_result"
    },
    {
     "data": {
      "text/plain": [
       "110"
      ]
     },
     "execution_count": 95,
     "metadata": {},
     "output_type": "execute_result"
    },
    {
     "data": {
      "text/plain": [
       "82"
      ]
     },
     "execution_count": 95,
     "metadata": {},
     "output_type": "execute_result"
    },
    {
     "data": {
      "text/plain": [
       "111"
      ]
     },
     "execution_count": 95,
     "metadata": {},
     "output_type": "execute_result"
    },
    {
     "data": {
      "text/plain": [
       "111"
      ]
     },
     "execution_count": 95,
     "metadata": {},
     "output_type": "execute_result"
    },
    {
     "data": {
      "text/plain": [
       "85"
      ]
     },
     "execution_count": 95,
     "metadata": {},
     "output_type": "execute_result"
    },
    {
     "data": {
      "text/plain": [
       "83"
      ]
     },
     "execution_count": 95,
     "metadata": {},
     "output_type": "execute_result"
    },
    {
     "data": {
      "text/plain": [
       "132"
      ]
     },
     "execution_count": 95,
     "metadata": {},
     "output_type": "execute_result"
    },
    {
     "data": {
      "text/plain": [
       "145"
      ]
     },
     "execution_count": 95,
     "metadata": {},
     "output_type": "execute_result"
    },
    {
     "data": {
      "text/plain": [
       "57"
      ]
     },
     "execution_count": 95,
     "metadata": {},
     "output_type": "execute_result"
    },
    {
     "data": {
      "text/plain": [
       "97"
      ]
     },
     "execution_count": 95,
     "metadata": {},
     "output_type": "execute_result"
    },
    {
     "data": {
      "text/plain": [
       "132"
      ]
     },
     "execution_count": 95,
     "metadata": {},
     "output_type": "execute_result"
    },
    {
     "data": {
      "text/plain": [
       "137"
      ]
     },
     "execution_count": 95,
     "metadata": {},
     "output_type": "execute_result"
    },
    {
     "data": {
      "text/plain": [
       "139"
      ]
     },
     "execution_count": 95,
     "metadata": {},
     "output_type": "execute_result"
    },
    {
     "data": {
      "text/plain": [
       "152"
      ]
     },
     "execution_count": 95,
     "metadata": {},
     "output_type": "execute_result"
    },
    {
     "data": {
      "text/plain": [
       "167"
      ]
     },
     "execution_count": 95,
     "metadata": {},
     "output_type": "execute_result"
    },
    {
     "data": {
      "text/plain": [
       "138"
      ]
     },
     "execution_count": 95,
     "metadata": {},
     "output_type": "execute_result"
    },
    {
     "data": {
      "text/plain": [
       "45"
      ]
     },
     "execution_count": 95,
     "metadata": {},
     "output_type": "execute_result"
    },
    {
     "data": {
      "text/plain": [
       "106"
      ]
     },
     "execution_count": 95,
     "metadata": {},
     "output_type": "execute_result"
    },
    {
     "data": {
      "text/plain": [
       "30"
      ]
     },
     "execution_count": 95,
     "metadata": {},
     "output_type": "execute_result"
    },
    {
     "data": {
      "text/plain": [
       "78"
      ]
     },
     "execution_count": 95,
     "metadata": {},
     "output_type": "execute_result"
    },
    {
     "data": {
      "text/plain": [
       "93"
      ]
     },
     "execution_count": 95,
     "metadata": {},
     "output_type": "execute_result"
    },
    {
     "data": {
      "text/plain": [
       "55"
      ]
     },
     "execution_count": 95,
     "metadata": {},
     "output_type": "execute_result"
    },
    {
     "data": {
      "text/plain": [
       "61"
      ]
     },
     "execution_count": 95,
     "metadata": {},
     "output_type": "execute_result"
    },
    {
     "data": {
      "text/plain": [
       "99"
      ]
     },
     "execution_count": 95,
     "metadata": {},
     "output_type": "execute_result"
    },
    {
     "data": {
      "text/plain": [
       "115"
      ]
     },
     "execution_count": 95,
     "metadata": {},
     "output_type": "execute_result"
    },
    {
     "data": {
      "text/plain": [
       "61"
      ]
     },
     "execution_count": 95,
     "metadata": {},
     "output_type": "execute_result"
    },
    {
     "data": {
      "text/plain": [
       "66"
      ]
     },
     "execution_count": 95,
     "metadata": {},
     "output_type": "execute_result"
    },
    {
     "data": {
      "text/plain": [
       "39"
      ]
     },
     "execution_count": 95,
     "metadata": {},
     "output_type": "execute_result"
    },
    {
     "data": {
      "text/plain": [
       "57"
      ]
     },
     "execution_count": 95,
     "metadata": {},
     "output_type": "execute_result"
    },
    {
     "data": {
      "text/plain": [
       "67"
      ]
     },
     "execution_count": 95,
     "metadata": {},
     "output_type": "execute_result"
    },
    {
     "data": {
      "text/plain": [
       "132"
      ]
     },
     "execution_count": 95,
     "metadata": {},
     "output_type": "execute_result"
    },
    {
     "data": {
      "text/plain": [
       "160"
      ]
     },
     "execution_count": 95,
     "metadata": {},
     "output_type": "execute_result"
    },
    {
     "data": {
      "text/plain": [
       "135"
      ]
     },
     "execution_count": 95,
     "metadata": {},
     "output_type": "execute_result"
    },
    {
     "data": {
      "text/plain": [
       "132"
      ]
     },
     "execution_count": 95,
     "metadata": {},
     "output_type": "execute_result"
    },
    {
     "data": {
      "text/plain": [
       "91"
      ]
     },
     "execution_count": 95,
     "metadata": {},
     "output_type": "execute_result"
    },
    {
     "data": {
      "text/plain": [
       "196"
      ]
     },
     "execution_count": 95,
     "metadata": {},
     "output_type": "execute_result"
    },
    {
     "data": {
      "text/plain": [
       "87"
      ]
     },
     "execution_count": 95,
     "metadata": {},
     "output_type": "execute_result"
    },
    {
     "data": {
      "text/plain": [
       "82"
      ]
     },
     "execution_count": 95,
     "metadata": {},
     "output_type": "execute_result"
    },
    {
     "data": {
      "text/plain": [
       "71"
      ]
     },
     "execution_count": 95,
     "metadata": {},
     "output_type": "execute_result"
    },
    {
     "data": {
      "text/plain": [
       "122"
      ]
     },
     "execution_count": 95,
     "metadata": {},
     "output_type": "execute_result"
    },
    {
     "data": {
      "text/plain": [
       "128"
      ]
     },
     "execution_count": 95,
     "metadata": {},
     "output_type": "execute_result"
    },
    {
     "data": {
      "text/plain": [
       "136"
      ]
     },
     "execution_count": 95,
     "metadata": {},
     "output_type": "execute_result"
    },
    {
     "data": {
      "text/plain": [
       "76"
      ]
     },
     "execution_count": 95,
     "metadata": {},
     "output_type": "execute_result"
    },
    {
     "data": {
      "text/plain": [
       "38"
      ]
     },
     "execution_count": 95,
     "metadata": {},
     "output_type": "execute_result"
    },
    {
     "data": {
      "text/plain": [
       "64"
      ]
     },
     "execution_count": 95,
     "metadata": {},
     "output_type": "execute_result"
    },
    {
     "data": {
      "text/plain": [
       "116"
      ]
     },
     "execution_count": 95,
     "metadata": {},
     "output_type": "execute_result"
    },
    {
     "data": {
      "text/plain": [
       "135"
      ]
     },
     "execution_count": 95,
     "metadata": {},
     "output_type": "execute_result"
    },
    {
     "data": {
      "text/plain": [
       "143"
      ]
     },
     "execution_count": 95,
     "metadata": {},
     "output_type": "execute_result"
    },
    {
     "data": {
      "text/plain": [
       "133"
      ]
     },
     "execution_count": 95,
     "metadata": {},
     "output_type": "execute_result"
    },
    {
     "data": {
      "text/plain": [
       "114"
      ]
     },
     "execution_count": 95,
     "metadata": {},
     "output_type": "execute_result"
    },
    {
     "data": {
      "text/plain": [
       "121"
      ]
     },
     "execution_count": 95,
     "metadata": {},
     "output_type": "execute_result"
    },
    {
     "data": {
      "text/plain": [
       "121"
      ]
     },
     "execution_count": 95,
     "metadata": {},
     "output_type": "execute_result"
    },
    {
     "data": {
      "text/plain": [
       "140"
      ]
     },
     "execution_count": 95,
     "metadata": {},
     "output_type": "execute_result"
    },
    {
     "data": {
      "text/plain": [
       "120"
      ]
     },
     "execution_count": 95,
     "metadata": {},
     "output_type": "execute_result"
    },
    {
     "data": {
      "text/plain": [
       "116"
      ]
     },
     "execution_count": 95,
     "metadata": {},
     "output_type": "execute_result"
    },
    {
     "data": {
      "text/plain": [
       "115"
      ]
     },
     "execution_count": 95,
     "metadata": {},
     "output_type": "execute_result"
    },
    {
     "data": {
      "text/plain": [
       "132"
      ]
     },
     "execution_count": 95,
     "metadata": {},
     "output_type": "execute_result"
    },
    {
     "data": {
      "text/plain": [
       "127"
      ]
     },
     "execution_count": 95,
     "metadata": {},
     "output_type": "execute_result"
    },
    {
     "data": {
      "text/plain": [
       "137"
      ]
     },
     "execution_count": 95,
     "metadata": {},
     "output_type": "execute_result"
    },
    {
     "data": {
      "text/plain": [
       "125"
      ]
     },
     "execution_count": 95,
     "metadata": {},
     "output_type": "execute_result"
    },
    {
     "data": {
      "text/plain": [
       "132"
      ]
     },
     "execution_count": 95,
     "metadata": {},
     "output_type": "execute_result"
    },
    {
     "data": {
      "text/plain": [
       "118"
      ]
     },
     "execution_count": 95,
     "metadata": {},
     "output_type": "execute_result"
    },
    {
     "data": {
      "text/plain": [
       "122"
      ]
     },
     "execution_count": 95,
     "metadata": {},
     "output_type": "execute_result"
    },
    {
     "data": {
      "text/plain": [
       "131"
      ]
     },
     "execution_count": 95,
     "metadata": {},
     "output_type": "execute_result"
    },
    {
     "data": {
      "text/plain": [
       "129"
      ]
     },
     "execution_count": 95,
     "metadata": {},
     "output_type": "execute_result"
    },
    {
     "data": {
      "text/plain": [
       "123"
      ]
     },
     "execution_count": 95,
     "metadata": {},
     "output_type": "execute_result"
    },
    {
     "data": {
      "text/plain": [
       "118"
      ]
     },
     "execution_count": 95,
     "metadata": {},
     "output_type": "execute_result"
    },
    {
     "data": {
      "text/plain": [
       "116"
      ]
     },
     "execution_count": 95,
     "metadata": {},
     "output_type": "execute_result"
    },
    {
     "data": {
      "text/plain": [
       "115"
      ]
     },
     "execution_count": 95,
     "metadata": {},
     "output_type": "execute_result"
    },
    {
     "data": {
      "text/plain": [
       "106"
      ]
     },
     "execution_count": 95,
     "metadata": {},
     "output_type": "execute_result"
    },
    {
     "data": {
      "text/plain": [
       "119"
      ]
     },
     "execution_count": 95,
     "metadata": {},
     "output_type": "execute_result"
    },
    {
     "data": {
      "text/plain": [
       "116"
      ]
     },
     "execution_count": 95,
     "metadata": {},
     "output_type": "execute_result"
    },
    {
     "data": {
      "text/plain": [
       "117"
      ]
     },
     "execution_count": 95,
     "metadata": {},
     "output_type": "execute_result"
    },
    {
     "data": {
      "text/plain": [
       "111"
      ]
     },
     "execution_count": 95,
     "metadata": {},
     "output_type": "execute_result"
    },
    {
     "data": {
      "text/plain": [
       "121"
      ]
     },
     "execution_count": 95,
     "metadata": {},
     "output_type": "execute_result"
    },
    {
     "data": {
      "text/plain": [
       "131"
      ]
     },
     "execution_count": 95,
     "metadata": {},
     "output_type": "execute_result"
    },
    {
     "data": {
      "text/plain": [
       "109"
      ]
     },
     "execution_count": 95,
     "metadata": {},
     "output_type": "execute_result"
    },
    {
     "data": {
      "text/plain": [
       "116"
      ]
     },
     "execution_count": 95,
     "metadata": {},
     "output_type": "execute_result"
    },
    {
     "data": {
      "text/plain": [
       "128"
      ]
     },
     "execution_count": 95,
     "metadata": {},
     "output_type": "execute_result"
    },
    {
     "data": {
      "text/plain": [
       "119"
      ]
     },
     "execution_count": 95,
     "metadata": {},
     "output_type": "execute_result"
    },
    {
     "data": {
      "text/plain": [
       "114"
      ]
     },
     "execution_count": 95,
     "metadata": {},
     "output_type": "execute_result"
    },
    {
     "data": {
      "text/plain": [
       "114"
      ]
     },
     "execution_count": 95,
     "metadata": {},
     "output_type": "execute_result"
    },
    {
     "data": {
      "text/plain": [
       "112"
      ]
     },
     "execution_count": 95,
     "metadata": {},
     "output_type": "execute_result"
    },
    {
     "data": {
      "text/plain": [
       "138"
      ]
     },
     "execution_count": 95,
     "metadata": {},
     "output_type": "execute_result"
    },
    {
     "data": {
      "text/plain": [
       "127"
      ]
     },
     "execution_count": 95,
     "metadata": {},
     "output_type": "execute_result"
    },
    {
     "data": {
      "text/plain": [
       "130"
      ]
     },
     "execution_count": 95,
     "metadata": {},
     "output_type": "execute_result"
    },
    {
     "data": {
      "text/plain": [
       "127"
      ]
     },
     "execution_count": 95,
     "metadata": {},
     "output_type": "execute_result"
    },
    {
     "data": {
      "text/plain": [
       "129"
      ]
     },
     "execution_count": 95,
     "metadata": {},
     "output_type": "execute_result"
    },
    {
     "data": {
      "text/plain": [
       "130"
      ]
     },
     "execution_count": 95,
     "metadata": {},
     "output_type": "execute_result"
    },
    {
     "data": {
      "text/plain": [
       "112"
      ]
     },
     "execution_count": 95,
     "metadata": {},
     "output_type": "execute_result"
    },
    {
     "data": {
      "text/plain": [
       "132"
      ]
     },
     "execution_count": 95,
     "metadata": {},
     "output_type": "execute_result"
    },
    {
     "data": {
      "text/plain": [
       "115"
      ]
     },
     "execution_count": 95,
     "metadata": {},
     "output_type": "execute_result"
    },
    {
     "data": {
      "text/plain": [
       "96"
      ]
     },
     "execution_count": 95,
     "metadata": {},
     "output_type": "execute_result"
    },
    {
     "data": {
      "text/plain": [
       "99"
      ]
     },
     "execution_count": 95,
     "metadata": {},
     "output_type": "execute_result"
    },
    {
     "data": {
      "text/plain": [
       "106"
      ]
     },
     "execution_count": 95,
     "metadata": {},
     "output_type": "execute_result"
    },
    {
     "data": {
      "text/plain": [
       "113"
      ]
     },
     "execution_count": 95,
     "metadata": {},
     "output_type": "execute_result"
    },
    {
     "data": {
      "text/plain": [
       "23"
      ]
     },
     "execution_count": 95,
     "metadata": {},
     "output_type": "execute_result"
    },
    {
     "data": {
      "text/plain": [
       "145"
      ]
     },
     "execution_count": 95,
     "metadata": {},
     "output_type": "execute_result"
    },
    {
     "data": {
      "text/plain": [
       "147"
      ]
     },
     "execution_count": 95,
     "metadata": {},
     "output_type": "execute_result"
    },
    {
     "data": {
      "text/plain": [
       "41"
      ]
     },
     "execution_count": 95,
     "metadata": {},
     "output_type": "execute_result"
    },
    {
     "data": {
      "text/plain": [
       "49"
      ]
     },
     "execution_count": 95,
     "metadata": {},
     "output_type": "execute_result"
    },
    {
     "data": {
      "text/plain": [
       "64"
      ]
     },
     "execution_count": 95,
     "metadata": {},
     "output_type": "execute_result"
    },
    {
     "data": {
      "text/plain": [
       "124"
      ]
     },
     "execution_count": 95,
     "metadata": {},
     "output_type": "execute_result"
    },
    {
     "data": {
      "text/plain": [
       "127"
      ]
     },
     "execution_count": 95,
     "metadata": {},
     "output_type": "execute_result"
    },
    {
     "data": {
      "text/plain": [
       "61"
      ]
     },
     "execution_count": 95,
     "metadata": {},
     "output_type": "execute_result"
    },
    {
     "data": {
      "text/plain": [
       "170"
      ]
     },
     "execution_count": 95,
     "metadata": {},
     "output_type": "execute_result"
    },
    {
     "data": {
      "text/plain": [
       "186"
      ]
     },
     "execution_count": 95,
     "metadata": {},
     "output_type": "execute_result"
    },
    {
     "data": {
      "text/plain": [
       "210"
      ]
     },
     "execution_count": 95,
     "metadata": {},
     "output_type": "execute_result"
    },
    {
     "data": {
      "text/plain": [
       "212"
      ]
     },
     "execution_count": 95,
     "metadata": {},
     "output_type": "execute_result"
    },
    {
     "data": {
      "text/plain": [
       "132"
      ]
     },
     "execution_count": 95,
     "metadata": {},
     "output_type": "execute_result"
    },
    {
     "data": {
      "text/plain": [
       "135"
      ]
     },
     "execution_count": 95,
     "metadata": {},
     "output_type": "execute_result"
    },
    {
     "data": {
      "text/plain": [
       "152"
      ]
     },
     "execution_count": 95,
     "metadata": {},
     "output_type": "execute_result"
    },
    {
     "data": {
      "text/plain": [
       "152"
      ]
     },
     "execution_count": 95,
     "metadata": {},
     "output_type": "execute_result"
    },
    {
     "data": {
      "text/plain": [
       "144"
      ]
     },
     "execution_count": 95,
     "metadata": {},
     "output_type": "execute_result"
    },
    {
     "data": {
      "text/plain": [
       "144"
      ]
     },
     "execution_count": 95,
     "metadata": {},
     "output_type": "execute_result"
    },
    {
     "data": {
      "text/plain": [
       "139"
      ]
     },
     "execution_count": 95,
     "metadata": {},
     "output_type": "execute_result"
    },
    {
     "data": {
      "text/plain": [
       "173"
      ]
     },
     "execution_count": 95,
     "metadata": {},
     "output_type": "execute_result"
    },
    {
     "data": {
      "text/plain": [
       "145"
      ]
     },
     "execution_count": 95,
     "metadata": {},
     "output_type": "execute_result"
    },
    {
     "data": {
      "text/plain": [
       "168"
      ]
     },
     "execution_count": 95,
     "metadata": {},
     "output_type": "execute_result"
    },
    {
     "data": {
      "text/plain": [
       "152"
      ]
     },
     "execution_count": 95,
     "metadata": {},
     "output_type": "execute_result"
    },
    {
     "data": {
      "text/plain": [
       "160"
      ]
     },
     "execution_count": 95,
     "metadata": {},
     "output_type": "execute_result"
    },
    {
     "data": {
      "text/plain": [
       "156"
      ]
     },
     "execution_count": 95,
     "metadata": {},
     "output_type": "execute_result"
    },
    {
     "data": {
      "text/plain": [
       "157"
      ]
     },
     "execution_count": 95,
     "metadata": {},
     "output_type": "execute_result"
    },
    {
     "data": {
      "text/plain": [
       "153"
      ]
     },
     "execution_count": 95,
     "metadata": {},
     "output_type": "execute_result"
    },
    {
     "data": {
      "text/plain": [
       "150"
      ]
     },
     "execution_count": 95,
     "metadata": {},
     "output_type": "execute_result"
    },
    {
     "data": {
      "text/plain": [
       "147"
      ]
     },
     "execution_count": 95,
     "metadata": {},
     "output_type": "execute_result"
    },
    {
     "data": {
      "text/plain": [
       "55"
      ]
     },
     "execution_count": 95,
     "metadata": {},
     "output_type": "execute_result"
    },
    {
     "data": {
      "text/plain": [
       "130"
      ]
     },
     "execution_count": 95,
     "metadata": {},
     "output_type": "execute_result"
    },
    {
     "data": {
      "text/plain": [
       "160"
      ]
     },
     "execution_count": 95,
     "metadata": {},
     "output_type": "execute_result"
    },
    {
     "data": {
      "text/plain": [
       "158"
      ]
     },
     "execution_count": 95,
     "metadata": {},
     "output_type": "execute_result"
    },
    {
     "data": {
      "text/plain": [
       "107"
      ]
     },
     "execution_count": 95,
     "metadata": {},
     "output_type": "execute_result"
    },
    {
     "data": {
      "text/plain": [
       "99"
      ]
     },
     "execution_count": 95,
     "metadata": {},
     "output_type": "execute_result"
    },
    {
     "data": {
      "text/plain": [
       "84"
      ]
     },
     "execution_count": 95,
     "metadata": {},
     "output_type": "execute_result"
    },
    {
     "data": {
      "text/plain": [
       "80"
      ]
     },
     "execution_count": 95,
     "metadata": {},
     "output_type": "execute_result"
    },
    {
     "data": {
      "text/plain": [
       "81"
      ]
     },
     "execution_count": 95,
     "metadata": {},
     "output_type": "execute_result"
    },
    {
     "data": {
      "text/plain": [
       "94"
      ]
     },
     "execution_count": 95,
     "metadata": {},
     "output_type": "execute_result"
    },
    {
     "data": {
      "text/plain": [
       "113"
      ]
     },
     "execution_count": 95,
     "metadata": {},
     "output_type": "execute_result"
    },
    {
     "data": {
      "text/plain": [
       "92"
      ]
     },
     "execution_count": 95,
     "metadata": {},
     "output_type": "execute_result"
    },
    {
     "data": {
      "text/plain": [
       "107"
      ]
     },
     "execution_count": 95,
     "metadata": {},
     "output_type": "execute_result"
    },
    {
     "data": {
      "text/plain": [
       "108"
      ]
     },
     "execution_count": 95,
     "metadata": {},
     "output_type": "execute_result"
    },
    {
     "data": {
      "text/plain": [
       "105"
      ]
     },
     "execution_count": 95,
     "metadata": {},
     "output_type": "execute_result"
    },
    {
     "data": {
      "text/plain": [
       "106"
      ]
     },
     "execution_count": 95,
     "metadata": {},
     "output_type": "execute_result"
    },
    {
     "data": {
      "text/plain": [
       "112"
      ]
     },
     "execution_count": 95,
     "metadata": {},
     "output_type": "execute_result"
    },
    {
     "data": {
      "text/plain": [
       "109"
      ]
     },
     "execution_count": 95,
     "metadata": {},
     "output_type": "execute_result"
    },
    {
     "data": {
      "text/plain": [
       "97"
      ]
     },
     "execution_count": 95,
     "metadata": {},
     "output_type": "execute_result"
    },
    {
     "data": {
      "text/plain": [
       "95"
      ]
     },
     "execution_count": 95,
     "metadata": {},
     "output_type": "execute_result"
    },
    {
     "data": {
      "text/plain": [
       "95"
      ]
     },
     "execution_count": 95,
     "metadata": {},
     "output_type": "execute_result"
    },
    {
     "data": {
      "text/plain": [
       "111"
      ]
     },
     "execution_count": 95,
     "metadata": {},
     "output_type": "execute_result"
    },
    {
     "data": {
      "text/plain": [
       "113"
      ]
     },
     "execution_count": 95,
     "metadata": {},
     "output_type": "execute_result"
    },
    {
     "data": {
      "text/plain": [
       "104"
      ]
     },
     "execution_count": 95,
     "metadata": {},
     "output_type": "execute_result"
    },
    {
     "data": {
      "text/plain": [
       "111"
      ]
     },
     "execution_count": 95,
     "metadata": {},
     "output_type": "execute_result"
    },
    {
     "data": {
      "text/plain": [
       "111"
      ]
     },
     "execution_count": 95,
     "metadata": {},
     "output_type": "execute_result"
    },
    {
     "data": {
      "text/plain": [
       "112"
      ]
     },
     "execution_count": 95,
     "metadata": {},
     "output_type": "execute_result"
    },
    {
     "data": {
      "text/plain": [
       "112"
      ]
     },
     "execution_count": 95,
     "metadata": {},
     "output_type": "execute_result"
    },
    {
     "data": {
      "text/plain": [
       "114"
      ]
     },
     "execution_count": 95,
     "metadata": {},
     "output_type": "execute_result"
    },
    {
     "data": {
      "text/plain": [
       "115"
      ]
     },
     "execution_count": 95,
     "metadata": {},
     "output_type": "execute_result"
    },
    {
     "data": {
      "text/plain": [
       "115"
      ]
     },
     "execution_count": 95,
     "metadata": {},
     "output_type": "execute_result"
    },
    {
     "data": {
      "text/plain": [
       "118"
      ]
     },
     "execution_count": 95,
     "metadata": {},
     "output_type": "execute_result"
    },
    {
     "data": {
      "text/plain": [
       "109"
      ]
     },
     "execution_count": 95,
     "metadata": {},
     "output_type": "execute_result"
    },
    {
     "data": {
      "text/plain": [
       "108"
      ]
     },
     "execution_count": 95,
     "metadata": {},
     "output_type": "execute_result"
    },
    {
     "data": {
      "text/plain": [
       "111"
      ]
     },
     "execution_count": 95,
     "metadata": {},
     "output_type": "execute_result"
    },
    {
     "data": {
      "text/plain": [
       "111"
      ]
     },
     "execution_count": 95,
     "metadata": {},
     "output_type": "execute_result"
    },
    {
     "data": {
      "text/plain": [
       "115"
      ]
     },
     "execution_count": 95,
     "metadata": {},
     "output_type": "execute_result"
    },
    {
     "data": {
      "text/plain": [
       "114"
      ]
     },
     "execution_count": 95,
     "metadata": {},
     "output_type": "execute_result"
    },
    {
     "data": {
      "text/plain": [
       "115"
      ]
     },
     "execution_count": 95,
     "metadata": {},
     "output_type": "execute_result"
    },
    {
     "data": {
      "text/plain": [
       "98"
      ]
     },
     "execution_count": 95,
     "metadata": {},
     "output_type": "execute_result"
    },
    {
     "data": {
      "text/plain": [
       "95"
      ]
     },
     "execution_count": 95,
     "metadata": {},
     "output_type": "execute_result"
    },
    {
     "data": {
      "text/plain": [
       "104"
      ]
     },
     "execution_count": 95,
     "metadata": {},
     "output_type": "execute_result"
    },
    {
     "data": {
      "text/plain": [
       "71"
      ]
     },
     "execution_count": 95,
     "metadata": {},
     "output_type": "execute_result"
    },
    {
     "data": {
      "text/plain": [
       "54"
      ]
     },
     "execution_count": 95,
     "metadata": {},
     "output_type": "execute_result"
    },
    {
     "data": {
      "text/plain": [
       "79"
      ]
     },
     "execution_count": 95,
     "metadata": {},
     "output_type": "execute_result"
    },
    {
     "data": {
      "text/plain": [
       "69"
      ]
     },
     "execution_count": 95,
     "metadata": {},
     "output_type": "execute_result"
    },
    {
     "data": {
      "text/plain": [
       "35"
      ]
     },
     "execution_count": 95,
     "metadata": {},
     "output_type": "execute_result"
    },
    {
     "data": {
      "text/plain": [
       "73"
      ]
     },
     "execution_count": 95,
     "metadata": {},
     "output_type": "execute_result"
    },
    {
     "data": {
      "text/plain": [
       "86"
      ]
     },
     "execution_count": 95,
     "metadata": {},
     "output_type": "execute_result"
    },
    {
     "data": {
      "text/plain": [
       "53"
      ]
     },
     "execution_count": 95,
     "metadata": {},
     "output_type": "execute_result"
    },
    {
     "data": {
      "text/plain": [
       "145"
      ]
     },
     "execution_count": 95,
     "metadata": {},
     "output_type": "execute_result"
    },
    {
     "data": {
      "text/plain": [
       "139"
      ]
     },
     "execution_count": 95,
     "metadata": {},
     "output_type": "execute_result"
    },
    {
     "data": {
      "text/plain": [
       "146"
      ]
     },
     "execution_count": 95,
     "metadata": {},
     "output_type": "execute_result"
    },
    {
     "data": {
      "text/plain": [
       "151"
      ]
     },
     "execution_count": 95,
     "metadata": {},
     "output_type": "execute_result"
    },
    {
     "data": {
      "text/plain": [
       "168"
      ]
     },
     "execution_count": 95,
     "metadata": {},
     "output_type": "execute_result"
    },
    {
     "data": {
      "text/plain": [
       "174"
      ]
     },
     "execution_count": 95,
     "metadata": {},
     "output_type": "execute_result"
    },
    {
     "data": {
      "text/plain": [
       "143"
      ]
     },
     "execution_count": 95,
     "metadata": {},
     "output_type": "execute_result"
    },
    {
     "data": {
      "text/plain": [
       "138"
      ]
     },
     "execution_count": 95,
     "metadata": {},
     "output_type": "execute_result"
    },
    {
     "data": {
      "text/plain": [
       "50"
      ]
     },
     "execution_count": 95,
     "metadata": {},
     "output_type": "execute_result"
    },
    {
     "data": {
      "text/plain": [
       "106"
      ]
     },
     "execution_count": 95,
     "metadata": {},
     "output_type": "execute_result"
    },
    {
     "data": {
      "text/plain": [
       "111"
      ]
     },
     "execution_count": 95,
     "metadata": {},
     "output_type": "execute_result"
    },
    {
     "data": {
      "text/plain": [
       "119"
      ]
     },
     "execution_count": 95,
     "metadata": {},
     "output_type": "execute_result"
    },
    {
     "data": {
      "text/plain": [
       "132"
      ]
     },
     "execution_count": 95,
     "metadata": {},
     "output_type": "execute_result"
    },
    {
     "data": {
      "text/plain": [
       "120"
      ]
     },
     "execution_count": 95,
     "metadata": {},
     "output_type": "execute_result"
    },
    {
     "data": {
      "text/plain": [
       "63"
      ]
     },
     "execution_count": 95,
     "metadata": {},
     "output_type": "execute_result"
    },
    {
     "data": {
      "text/plain": [
       "112"
      ]
     },
     "execution_count": 95,
     "metadata": {},
     "output_type": "execute_result"
    },
    {
     "data": {
      "text/plain": [
       "72"
      ]
     },
     "execution_count": 95,
     "metadata": {},
     "output_type": "execute_result"
    },
    {
     "data": {
      "text/plain": [
       "92"
      ]
     },
     "execution_count": 95,
     "metadata": {},
     "output_type": "execute_result"
    },
    {
     "data": {
      "text/plain": [
       "96"
      ]
     },
     "execution_count": 95,
     "metadata": {},
     "output_type": "execute_result"
    },
    {
     "data": {
      "text/plain": [
       "97"
      ]
     },
     "execution_count": 95,
     "metadata": {},
     "output_type": "execute_result"
    },
    {
     "data": {
      "text/plain": [
       "101"
      ]
     },
     "execution_count": 95,
     "metadata": {},
     "output_type": "execute_result"
    },
    {
     "data": {
      "text/plain": [
       "112"
      ]
     },
     "execution_count": 95,
     "metadata": {},
     "output_type": "execute_result"
    },
    {
     "data": {
      "text/plain": [
       "97"
      ]
     },
     "execution_count": 95,
     "metadata": {},
     "output_type": "execute_result"
    },
    {
     "data": {
      "text/plain": [
       "101"
      ]
     },
     "execution_count": 95,
     "metadata": {},
     "output_type": "execute_result"
    },
    {
     "data": {
      "text/plain": [
       "113"
      ]
     },
     "execution_count": 95,
     "metadata": {},
     "output_type": "execute_result"
    },
    {
     "data": {
      "text/plain": [
       "121"
      ]
     },
     "execution_count": 95,
     "metadata": {},
     "output_type": "execute_result"
    },
    {
     "data": {
      "text/plain": [
       "118"
      ]
     },
     "execution_count": 95,
     "metadata": {},
     "output_type": "execute_result"
    },
    {
     "data": {
      "text/plain": [
       "106"
      ]
     },
     "execution_count": 95,
     "metadata": {},
     "output_type": "execute_result"
    },
    {
     "data": {
      "text/plain": [
       "115"
      ]
     },
     "execution_count": 95,
     "metadata": {},
     "output_type": "execute_result"
    },
    {
     "data": {
      "text/plain": [
       "111"
      ]
     },
     "execution_count": 95,
     "metadata": {},
     "output_type": "execute_result"
    },
    {
     "data": {
      "text/plain": [
       "100"
      ]
     },
     "execution_count": 95,
     "metadata": {},
     "output_type": "execute_result"
    },
    {
     "data": {
      "text/plain": [
       "100"
      ]
     },
     "execution_count": 95,
     "metadata": {},
     "output_type": "execute_result"
    },
    {
     "data": {
      "text/plain": [
       "137"
      ]
     },
     "execution_count": 95,
     "metadata": {},
     "output_type": "execute_result"
    },
    {
     "data": {
      "text/plain": [
       "37"
      ]
     },
     "execution_count": 95,
     "metadata": {},
     "output_type": "execute_result"
    },
    {
     "data": {
      "text/plain": [
       "36"
      ]
     },
     "execution_count": 95,
     "metadata": {},
     "output_type": "execute_result"
    },
    {
     "data": {
      "text/plain": [
       "42"
      ]
     },
     "execution_count": 95,
     "metadata": {},
     "output_type": "execute_result"
    },
    {
     "data": {
      "text/plain": [
       "105"
      ]
     },
     "execution_count": 95,
     "metadata": {},
     "output_type": "execute_result"
    },
    {
     "data": {
      "text/plain": [
       "100"
      ]
     },
     "execution_count": 95,
     "metadata": {},
     "output_type": "execute_result"
    },
    {
     "data": {
      "text/plain": [
       "98"
      ]
     },
     "execution_count": 95,
     "metadata": {},
     "output_type": "execute_result"
    },
    {
     "data": {
      "text/plain": [
       "39"
      ]
     },
     "execution_count": 95,
     "metadata": {},
     "output_type": "execute_result"
    },
    {
     "data": {
      "text/plain": [
       "62"
      ]
     },
     "execution_count": 95,
     "metadata": {},
     "output_type": "execute_result"
    },
    {
     "data": {
      "text/plain": [
       "36"
      ]
     },
     "execution_count": 95,
     "metadata": {},
     "output_type": "execute_result"
    },
    {
     "data": {
      "text/plain": [
       "28"
      ]
     },
     "execution_count": 95,
     "metadata": {},
     "output_type": "execute_result"
    },
    {
     "data": {
      "text/plain": [
       "48"
      ]
     },
     "execution_count": 95,
     "metadata": {},
     "output_type": "execute_result"
    },
    {
     "data": {
      "text/plain": [
       "44"
      ]
     },
     "execution_count": 95,
     "metadata": {},
     "output_type": "execute_result"
    },
    {
     "data": {
      "text/plain": [
       "79"
      ]
     },
     "execution_count": 95,
     "metadata": {},
     "output_type": "execute_result"
    },
    {
     "data": {
      "text/plain": [
       "32"
      ]
     },
     "execution_count": 95,
     "metadata": {},
     "output_type": "execute_result"
    },
    {
     "data": {
      "text/plain": [
       "47"
      ]
     },
     "execution_count": 95,
     "metadata": {},
     "output_type": "execute_result"
    },
    {
     "data": {
      "text/plain": [
       "32"
      ]
     },
     "execution_count": 95,
     "metadata": {},
     "output_type": "execute_result"
    },
    {
     "data": {
      "text/plain": [
       "78"
      ]
     },
     "execution_count": 95,
     "metadata": {},
     "output_type": "execute_result"
    },
    {
     "data": {
      "text/plain": [
       "79"
      ]
     },
     "execution_count": 95,
     "metadata": {},
     "output_type": "execute_result"
    },
    {
     "data": {
      "text/plain": [
       "110"
      ]
     },
     "execution_count": 95,
     "metadata": {},
     "output_type": "execute_result"
    },
    {
     "data": {
      "text/plain": [
       "81"
      ]
     },
     "execution_count": 95,
     "metadata": {},
     "output_type": "execute_result"
    },
    {
     "data": {
      "text/plain": [
       "82"
      ]
     },
     "execution_count": 95,
     "metadata": {},
     "output_type": "execute_result"
    },
    {
     "data": {
      "text/plain": [
       "113"
      ]
     },
     "execution_count": 95,
     "metadata": {},
     "output_type": "execute_result"
    },
    {
     "data": {
      "text/plain": [
       "142"
      ]
     },
     "execution_count": 95,
     "metadata": {},
     "output_type": "execute_result"
    },
    {
     "data": {
      "text/plain": [
       "70"
      ]
     },
     "execution_count": 95,
     "metadata": {},
     "output_type": "execute_result"
    },
    {
     "data": {
      "text/plain": [
       "143"
      ]
     },
     "execution_count": 95,
     "metadata": {},
     "output_type": "execute_result"
    },
    {
     "data": {
      "text/plain": [
       "72"
      ]
     },
     "execution_count": 95,
     "metadata": {},
     "output_type": "execute_result"
    },
    {
     "data": {
      "text/plain": [
       "31"
      ]
     },
     "execution_count": 95,
     "metadata": {},
     "output_type": "execute_result"
    },
    {
     "data": {
      "text/plain": [
       "85"
      ]
     },
     "execution_count": 95,
     "metadata": {},
     "output_type": "execute_result"
    },
    {
     "data": {
      "text/plain": [
       "40"
      ]
     },
     "execution_count": 95,
     "metadata": {},
     "output_type": "execute_result"
    },
    {
     "data": {
      "text/plain": [
       "27"
      ]
     },
     "execution_count": 95,
     "metadata": {},
     "output_type": "execute_result"
    },
    {
     "data": {
      "text/plain": [
       "36"
      ]
     },
     "execution_count": 95,
     "metadata": {},
     "output_type": "execute_result"
    },
    {
     "data": {
      "text/plain": [
       "45"
      ]
     },
     "execution_count": 95,
     "metadata": {},
     "output_type": "execute_result"
    },
    {
     "data": {
      "text/plain": [
       "43"
      ]
     },
     "execution_count": 95,
     "metadata": {},
     "output_type": "execute_result"
    },
    {
     "data": {
      "text/plain": [
       "35"
      ]
     },
     "execution_count": 95,
     "metadata": {},
     "output_type": "execute_result"
    },
    {
     "data": {
      "text/plain": [
       "82"
      ]
     },
     "execution_count": 95,
     "metadata": {},
     "output_type": "execute_result"
    },
    {
     "data": {
      "text/plain": [
       "41"
      ]
     },
     "execution_count": 95,
     "metadata": {},
     "output_type": "execute_result"
    },
    {
     "data": {
      "text/plain": [
       "43"
      ]
     },
     "execution_count": 95,
     "metadata": {},
     "output_type": "execute_result"
    },
    {
     "data": {
      "text/plain": [
       "71"
      ]
     },
     "execution_count": 95,
     "metadata": {},
     "output_type": "execute_result"
    },
    {
     "data": {
      "text/plain": [
       "273"
      ]
     },
     "execution_count": 95,
     "metadata": {},
     "output_type": "execute_result"
    },
    {
     "data": {
      "text/plain": [
       "235"
      ]
     },
     "execution_count": 95,
     "metadata": {},
     "output_type": "execute_result"
    },
    {
     "data": {
      "text/plain": [
       "72"
      ]
     },
     "execution_count": 95,
     "metadata": {},
     "output_type": "execute_result"
    },
    {
     "data": {
      "text/plain": [
       "77"
      ]
     },
     "execution_count": 95,
     "metadata": {},
     "output_type": "execute_result"
    },
    {
     "data": {
      "text/plain": [
       "82"
      ]
     },
     "execution_count": 95,
     "metadata": {},
     "output_type": "execute_result"
    },
    {
     "data": {
      "text/plain": [
       "86"
      ]
     },
     "execution_count": 95,
     "metadata": {},
     "output_type": "execute_result"
    },
    {
     "data": {
      "text/plain": [
       "115"
      ]
     },
     "execution_count": 95,
     "metadata": {},
     "output_type": "execute_result"
    },
    {
     "data": {
      "text/plain": [
       "130"
      ]
     },
     "execution_count": 95,
     "metadata": {},
     "output_type": "execute_result"
    },
    {
     "data": {
      "text/plain": [
       "121"
      ]
     },
     "execution_count": 95,
     "metadata": {},
     "output_type": "execute_result"
    },
    {
     "data": {
      "text/plain": [
       "127"
      ]
     },
     "execution_count": 95,
     "metadata": {},
     "output_type": "execute_result"
    },
    {
     "data": {
      "text/plain": [
       "129"
      ]
     },
     "execution_count": 95,
     "metadata": {},
     "output_type": "execute_result"
    },
    {
     "data": {
      "text/plain": [
       "119"
      ]
     },
     "execution_count": 95,
     "metadata": {},
     "output_type": "execute_result"
    },
    {
     "data": {
      "text/plain": [
       "122"
      ]
     },
     "execution_count": 95,
     "metadata": {},
     "output_type": "execute_result"
    },
    {
     "data": {
      "text/plain": [
       "73"
      ]
     },
     "execution_count": 95,
     "metadata": {},
     "output_type": "execute_result"
    },
    {
     "data": {
      "text/plain": [
       "76"
      ]
     },
     "execution_count": 95,
     "metadata": {},
     "output_type": "execute_result"
    },
    {
     "data": {
      "text/plain": [
       "82"
      ]
     },
     "execution_count": 95,
     "metadata": {},
     "output_type": "execute_result"
    },
    {
     "data": {
      "text/plain": [
       "97"
      ]
     },
     "execution_count": 95,
     "metadata": {},
     "output_type": "execute_result"
    },
    {
     "data": {
      "text/plain": [
       "69"
      ]
     },
     "execution_count": 95,
     "metadata": {},
     "output_type": "execute_result"
    },
    {
     "data": {
      "text/plain": [
       "93"
      ]
     },
     "execution_count": 95,
     "metadata": {},
     "output_type": "execute_result"
    },
    {
     "data": {
      "text/plain": [
       "87"
      ]
     },
     "execution_count": 95,
     "metadata": {},
     "output_type": "execute_result"
    },
    {
     "data": {
      "text/plain": [
       "95"
      ]
     },
     "execution_count": 95,
     "metadata": {},
     "output_type": "execute_result"
    },
    {
     "data": {
      "text/plain": [
       "99"
      ]
     },
     "execution_count": 95,
     "metadata": {},
     "output_type": "execute_result"
    },
    {
     "data": {
      "text/plain": [
       "81"
      ]
     },
     "execution_count": 95,
     "metadata": {},
     "output_type": "execute_result"
    },
    {
     "data": {
      "text/plain": [
       "100"
      ]
     },
     "execution_count": 95,
     "metadata": {},
     "output_type": "execute_result"
    },
    {
     "data": {
      "text/plain": [
       "87"
      ]
     },
     "execution_count": 95,
     "metadata": {},
     "output_type": "execute_result"
    },
    {
     "data": {
      "text/plain": [
       "92"
      ]
     },
     "execution_count": 95,
     "metadata": {},
     "output_type": "execute_result"
    },
    {
     "data": {
      "text/plain": [
       "93"
      ]
     },
     "execution_count": 95,
     "metadata": {},
     "output_type": "execute_result"
    },
    {
     "data": {
      "text/plain": [
       "92"
      ]
     },
     "execution_count": 95,
     "metadata": {},
     "output_type": "execute_result"
    },
    {
     "data": {
      "text/plain": [
       "97"
      ]
     },
     "execution_count": 95,
     "metadata": {},
     "output_type": "execute_result"
    },
    {
     "data": {
      "text/plain": [
       "94"
      ]
     },
     "execution_count": 95,
     "metadata": {},
     "output_type": "execute_result"
    },
    {
     "data": {
      "text/plain": [
       "100"
      ]
     },
     "execution_count": 95,
     "metadata": {},
     "output_type": "execute_result"
    },
    {
     "data": {
      "text/plain": [
       "101"
      ]
     },
     "execution_count": 95,
     "metadata": {},
     "output_type": "execute_result"
    },
    {
     "data": {
      "text/plain": [
       "98"
      ]
     },
     "execution_count": 95,
     "metadata": {},
     "output_type": "execute_result"
    },
    {
     "data": {
      "text/plain": [
       "95"
      ]
     },
     "execution_count": 95,
     "metadata": {},
     "output_type": "execute_result"
    },
    {
     "data": {
      "text/plain": [
       "92"
      ]
     },
     "execution_count": 95,
     "metadata": {},
     "output_type": "execute_result"
    },
    {
     "data": {
      "text/plain": [
       "96"
      ]
     },
     "execution_count": 95,
     "metadata": {},
     "output_type": "execute_result"
    },
    {
     "data": {
      "text/plain": [
       "94"
      ]
     },
     "execution_count": 95,
     "metadata": {},
     "output_type": "execute_result"
    },
    {
     "data": {
      "text/plain": [
       "96"
      ]
     },
     "execution_count": 95,
     "metadata": {},
     "output_type": "execute_result"
    },
    {
     "data": {
      "text/plain": [
       "96"
      ]
     },
     "execution_count": 95,
     "metadata": {},
     "output_type": "execute_result"
    },
    {
     "data": {
      "text/plain": [
       "96"
      ]
     },
     "execution_count": 95,
     "metadata": {},
     "output_type": "execute_result"
    },
    {
     "data": {
      "text/plain": [
       "99"
      ]
     },
     "execution_count": 95,
     "metadata": {},
     "output_type": "execute_result"
    },
    {
     "data": {
      "text/plain": [
       "97"
      ]
     },
     "execution_count": 95,
     "metadata": {},
     "output_type": "execute_result"
    },
    {
     "data": {
      "text/plain": [
       "39"
      ]
     },
     "execution_count": 95,
     "metadata": {},
     "output_type": "execute_result"
    },
    {
     "data": {
      "text/plain": [
       "98"
      ]
     },
     "execution_count": 95,
     "metadata": {},
     "output_type": "execute_result"
    },
    {
     "data": {
      "text/plain": [
       "102"
      ]
     },
     "execution_count": 95,
     "metadata": {},
     "output_type": "execute_result"
    },
    {
     "data": {
      "text/plain": [
       "66"
      ]
     },
     "execution_count": 95,
     "metadata": {},
     "output_type": "execute_result"
    },
    {
     "data": {
      "text/plain": [
       "60"
      ]
     },
     "execution_count": 95,
     "metadata": {},
     "output_type": "execute_result"
    },
    {
     "data": {
      "text/plain": [
       "44"
      ]
     },
     "execution_count": 95,
     "metadata": {},
     "output_type": "execute_result"
    },
    {
     "data": {
      "text/plain": [
       "55"
      ]
     },
     "execution_count": 95,
     "metadata": {},
     "output_type": "execute_result"
    },
    {
     "data": {
      "text/plain": [
       "37"
      ]
     },
     "execution_count": 95,
     "metadata": {},
     "output_type": "execute_result"
    },
    {
     "data": {
      "text/plain": [
       "79"
      ]
     },
     "execution_count": 95,
     "metadata": {},
     "output_type": "execute_result"
    },
    {
     "data": {
      "text/plain": [
       "87"
      ]
     },
     "execution_count": 95,
     "metadata": {},
     "output_type": "execute_result"
    },
    {
     "data": {
      "text/plain": [
       "85"
      ]
     },
     "execution_count": 95,
     "metadata": {},
     "output_type": "execute_result"
    },
    {
     "data": {
      "text/plain": [
       "90"
      ]
     },
     "execution_count": 95,
     "metadata": {},
     "output_type": "execute_result"
    },
    {
     "data": {
      "text/plain": [
       "91"
      ]
     },
     "execution_count": 95,
     "metadata": {},
     "output_type": "execute_result"
    },
    {
     "data": {
      "text/plain": [
       "90"
      ]
     },
     "execution_count": 95,
     "metadata": {},
     "output_type": "execute_result"
    },
    {
     "data": {
      "text/plain": [
       "95"
      ]
     },
     "execution_count": 95,
     "metadata": {},
     "output_type": "execute_result"
    },
    {
     "data": {
      "text/plain": [
       "93"
      ]
     },
     "execution_count": 95,
     "metadata": {},
     "output_type": "execute_result"
    },
    {
     "data": {
      "text/plain": [
       "99"
      ]
     },
     "execution_count": 95,
     "metadata": {},
     "output_type": "execute_result"
    },
    {
     "data": {
      "text/plain": [
       "98"
      ]
     },
     "execution_count": 95,
     "metadata": {},
     "output_type": "execute_result"
    },
    {
     "data": {
      "text/plain": [
       "96"
      ]
     },
     "execution_count": 95,
     "metadata": {},
     "output_type": "execute_result"
    },
    {
     "data": {
      "text/plain": [
       "114"
      ]
     },
     "execution_count": 95,
     "metadata": {},
     "output_type": "execute_result"
    },
    {
     "data": {
      "text/plain": [
       "89"
      ]
     },
     "execution_count": 95,
     "metadata": {},
     "output_type": "execute_result"
    },
    {
     "data": {
      "text/plain": [
       "92"
      ]
     },
     "execution_count": 95,
     "metadata": {},
     "output_type": "execute_result"
    },
    {
     "data": {
      "text/plain": [
       "94"
      ]
     },
     "execution_count": 95,
     "metadata": {},
     "output_type": "execute_result"
    },
    {
     "data": {
      "text/plain": [
       "103"
      ]
     },
     "execution_count": 95,
     "metadata": {},
     "output_type": "execute_result"
    },
    {
     "data": {
      "text/plain": [
       "95"
      ]
     },
     "execution_count": 95,
     "metadata": {},
     "output_type": "execute_result"
    },
    {
     "data": {
      "text/plain": [
       "90"
      ]
     },
     "execution_count": 95,
     "metadata": {},
     "output_type": "execute_result"
    },
    {
     "data": {
      "text/plain": [
       "106"
      ]
     },
     "execution_count": 95,
     "metadata": {},
     "output_type": "execute_result"
    },
    {
     "data": {
      "text/plain": [
       "94"
      ]
     },
     "execution_count": 95,
     "metadata": {},
     "output_type": "execute_result"
    },
    {
     "data": {
      "text/plain": [
       "95"
      ]
     },
     "execution_count": 95,
     "metadata": {},
     "output_type": "execute_result"
    },
    {
     "data": {
      "text/plain": [
       "94"
      ]
     },
     "execution_count": 95,
     "metadata": {},
     "output_type": "execute_result"
    },
    {
     "data": {
      "text/plain": [
       "97"
      ]
     },
     "execution_count": 95,
     "metadata": {},
     "output_type": "execute_result"
    },
    {
     "data": {
      "text/plain": [
       "105"
      ]
     },
     "execution_count": 95,
     "metadata": {},
     "output_type": "execute_result"
    },
    {
     "data": {
      "text/plain": [
       "113"
      ]
     },
     "execution_count": 95,
     "metadata": {},
     "output_type": "execute_result"
    },
    {
     "data": {
      "text/plain": [
       "84"
      ]
     },
     "execution_count": 95,
     "metadata": {},
     "output_type": "execute_result"
    },
    {
     "data": {
      "text/plain": [
       "90"
      ]
     },
     "execution_count": 95,
     "metadata": {},
     "output_type": "execute_result"
    },
    {
     "data": {
      "text/plain": [
       "89"
      ]
     },
     "execution_count": 95,
     "metadata": {},
     "output_type": "execute_result"
    },
    {
     "data": {
      "text/plain": [
       "94"
      ]
     },
     "execution_count": 95,
     "metadata": {},
     "output_type": "execute_result"
    },
    {
     "data": {
      "text/plain": [
       "92"
      ]
     },
     "execution_count": 95,
     "metadata": {},
     "output_type": "execute_result"
    },
    {
     "data": {
      "text/plain": [
       "97"
      ]
     },
     "execution_count": 95,
     "metadata": {},
     "output_type": "execute_result"
    },
    {
     "data": {
      "text/plain": [
       "94"
      ]
     },
     "execution_count": 95,
     "metadata": {},
     "output_type": "execute_result"
    },
    {
     "data": {
      "text/plain": [
       "113"
      ]
     },
     "execution_count": 95,
     "metadata": {},
     "output_type": "execute_result"
    },
    {
     "data": {
      "text/plain": [
       "92"
      ]
     },
     "execution_count": 95,
     "metadata": {},
     "output_type": "execute_result"
    },
    {
     "data": {
      "text/plain": [
       "93"
      ]
     },
     "execution_count": 95,
     "metadata": {},
     "output_type": "execute_result"
    },
    {
     "data": {
      "text/plain": [
       "35"
      ]
     },
     "execution_count": 95,
     "metadata": {},
     "output_type": "execute_result"
    },
    {
     "data": {
      "text/plain": [
       "29"
      ]
     },
     "execution_count": 95,
     "metadata": {},
     "output_type": "execute_result"
    },
    {
     "data": {
      "text/plain": [
       "32"
      ]
     },
     "execution_count": 95,
     "metadata": {},
     "output_type": "execute_result"
    },
    {
     "data": {
      "text/plain": [
       "73"
      ]
     },
     "execution_count": 95,
     "metadata": {},
     "output_type": "execute_result"
    },
    {
     "data": {
      "text/plain": [
       "141"
      ]
     },
     "execution_count": 95,
     "metadata": {},
     "output_type": "execute_result"
    },
    {
     "data": {
      "text/plain": [
       "138"
      ]
     },
     "execution_count": 95,
     "metadata": {},
     "output_type": "execute_result"
    },
    {
     "data": {
      "text/plain": [
       "85"
      ]
     },
     "execution_count": 95,
     "metadata": {},
     "output_type": "execute_result"
    },
    {
     "data": {
      "text/plain": [
       "119"
      ]
     },
     "execution_count": 95,
     "metadata": {},
     "output_type": "execute_result"
    },
    {
     "data": {
      "text/plain": [
       "124"
      ]
     },
     "execution_count": 95,
     "metadata": {},
     "output_type": "execute_result"
    },
    {
     "data": {
      "text/plain": [
       "132"
      ]
     },
     "execution_count": 95,
     "metadata": {},
     "output_type": "execute_result"
    },
    {
     "data": {
      "text/plain": [
       "126"
      ]
     },
     "execution_count": 95,
     "metadata": {},
     "output_type": "execute_result"
    },
    {
     "data": {
      "text/plain": [
       "121"
      ]
     },
     "execution_count": 95,
     "metadata": {},
     "output_type": "execute_result"
    },
    {
     "data": {
      "text/plain": [
       "150"
      ]
     },
     "execution_count": 95,
     "metadata": {},
     "output_type": "execute_result"
    },
    {
     "data": {
      "text/plain": [
       "127"
      ]
     },
     "execution_count": 95,
     "metadata": {},
     "output_type": "execute_result"
    },
    {
     "data": {
      "text/plain": [
       "81"
      ]
     },
     "execution_count": 95,
     "metadata": {},
     "output_type": "execute_result"
    },
    {
     "data": {
      "text/plain": [
       "68"
      ]
     },
     "execution_count": 95,
     "metadata": {},
     "output_type": "execute_result"
    },
    {
     "data": {
      "text/plain": [
       "31"
      ]
     },
     "execution_count": 95,
     "metadata": {},
     "output_type": "execute_result"
    },
    {
     "data": {
      "text/plain": [
       "29"
      ]
     },
     "execution_count": 95,
     "metadata": {},
     "output_type": "execute_result"
    },
    {
     "data": {
      "text/plain": [
       "51"
      ]
     },
     "execution_count": 95,
     "metadata": {},
     "output_type": "execute_result"
    },
    {
     "data": {
      "text/plain": [
       "72"
      ]
     },
     "execution_count": 95,
     "metadata": {},
     "output_type": "execute_result"
    },
    {
     "data": {
      "text/plain": [
       "41"
      ]
     },
     "execution_count": 95,
     "metadata": {},
     "output_type": "execute_result"
    },
    {
     "data": {
      "text/plain": [
       "162"
      ]
     },
     "execution_count": 95,
     "metadata": {},
     "output_type": "execute_result"
    },
    {
     "data": {
      "text/plain": [
       "158"
      ]
     },
     "execution_count": 95,
     "metadata": {},
     "output_type": "execute_result"
    },
    {
     "data": {
      "text/plain": [
       "158"
      ]
     },
     "execution_count": 95,
     "metadata": {},
     "output_type": "execute_result"
    },
    {
     "data": {
      "text/plain": [
       "159"
      ]
     },
     "execution_count": 95,
     "metadata": {},
     "output_type": "execute_result"
    },
    {
     "data": {
      "text/plain": [
       "160"
      ]
     },
     "execution_count": 95,
     "metadata": {},
     "output_type": "execute_result"
    },
    {
     "data": {
      "text/plain": [
       "147"
      ]
     },
     "execution_count": 95,
     "metadata": {},
     "output_type": "execute_result"
    },
    {
     "data": {
      "text/plain": [
       "151"
      ]
     },
     "execution_count": 95,
     "metadata": {},
     "output_type": "execute_result"
    },
    {
     "data": {
      "text/plain": [
       "165"
      ]
     },
     "execution_count": 95,
     "metadata": {},
     "output_type": "execute_result"
    },
    {
     "data": {
      "text/plain": [
       "155"
      ]
     },
     "execution_count": 95,
     "metadata": {},
     "output_type": "execute_result"
    },
    {
     "data": {
      "text/plain": [
       "160"
      ]
     },
     "execution_count": 95,
     "metadata": {},
     "output_type": "execute_result"
    },
    {
     "data": {
      "text/plain": [
       "161"
      ]
     },
     "execution_count": 95,
     "metadata": {},
     "output_type": "execute_result"
    },
    {
     "data": {
      "text/plain": [
       "127"
      ]
     },
     "execution_count": 95,
     "metadata": {},
     "output_type": "execute_result"
    },
    {
     "data": {
      "text/plain": [
       "135"
      ]
     },
     "execution_count": 95,
     "metadata": {},
     "output_type": "execute_result"
    },
    {
     "data": {
      "text/plain": [
       "131"
      ]
     },
     "execution_count": 95,
     "metadata": {},
     "output_type": "execute_result"
    },
    {
     "data": {
      "text/plain": [
       "136"
      ]
     },
     "execution_count": 95,
     "metadata": {},
     "output_type": "execute_result"
    },
    {
     "data": {
      "text/plain": [
       "139"
      ]
     },
     "execution_count": 95,
     "metadata": {},
     "output_type": "execute_result"
    },
    {
     "data": {
      "text/plain": [
       "76"
      ]
     },
     "execution_count": 95,
     "metadata": {},
     "output_type": "execute_result"
    },
    {
     "data": {
      "text/plain": [
       "58"
      ]
     },
     "execution_count": 95,
     "metadata": {},
     "output_type": "execute_result"
    },
    {
     "data": {
      "text/plain": [
       "106"
      ]
     },
     "execution_count": 95,
     "metadata": {},
     "output_type": "execute_result"
    },
    {
     "data": {
      "text/plain": [
       "96"
      ]
     },
     "execution_count": 95,
     "metadata": {},
     "output_type": "execute_result"
    },
    {
     "data": {
      "text/plain": [
       "109"
      ]
     },
     "execution_count": 95,
     "metadata": {},
     "output_type": "execute_result"
    },
    {
     "data": {
      "text/plain": [
       "114"
      ]
     },
     "execution_count": 95,
     "metadata": {},
     "output_type": "execute_result"
    },
    {
     "data": {
      "text/plain": [
       "119"
      ]
     },
     "execution_count": 95,
     "metadata": {},
     "output_type": "execute_result"
    },
    {
     "data": {
      "text/plain": [
       "119"
      ]
     },
     "execution_count": 95,
     "metadata": {},
     "output_type": "execute_result"
    },
    {
     "data": {
      "text/plain": [
       "122"
      ]
     },
     "execution_count": 95,
     "metadata": {},
     "output_type": "execute_result"
    },
    {
     "data": {
      "text/plain": [
       "110"
      ]
     },
     "execution_count": 95,
     "metadata": {},
     "output_type": "execute_result"
    },
    {
     "data": {
      "text/plain": [
       "105"
      ]
     },
     "execution_count": 95,
     "metadata": {},
     "output_type": "execute_result"
    },
    {
     "data": {
      "text/plain": [
       "122"
      ]
     },
     "execution_count": 95,
     "metadata": {},
     "output_type": "execute_result"
    },
    {
     "data": {
      "text/plain": [
       "108"
      ]
     },
     "execution_count": 95,
     "metadata": {},
     "output_type": "execute_result"
    },
    {
     "data": {
      "text/plain": [
       "115"
      ]
     },
     "execution_count": 95,
     "metadata": {},
     "output_type": "execute_result"
    },
    {
     "data": {
      "text/plain": [
       "110"
      ]
     },
     "execution_count": 95,
     "metadata": {},
     "output_type": "execute_result"
    },
    {
     "data": {
      "text/plain": [
       "116"
      ]
     },
     "execution_count": 95,
     "metadata": {},
     "output_type": "execute_result"
    },
    {
     "data": {
      "text/plain": [
       "120"
      ]
     },
     "execution_count": 95,
     "metadata": {},
     "output_type": "execute_result"
    },
    {
     "data": {
      "text/plain": [
       "121"
      ]
     },
     "execution_count": 95,
     "metadata": {},
     "output_type": "execute_result"
    },
    {
     "data": {
      "text/plain": [
       "106"
      ]
     },
     "execution_count": 95,
     "metadata": {},
     "output_type": "execute_result"
    },
    {
     "data": {
      "text/plain": [
       "142"
      ]
     },
     "execution_count": 95,
     "metadata": {},
     "output_type": "execute_result"
    },
    {
     "data": {
      "text/plain": [
       "110"
      ]
     },
     "execution_count": 95,
     "metadata": {},
     "output_type": "execute_result"
    },
    {
     "data": {
      "text/plain": [
       "115"
      ]
     },
     "execution_count": 95,
     "metadata": {},
     "output_type": "execute_result"
    },
    {
     "data": {
      "text/plain": [
       "116"
      ]
     },
     "execution_count": 95,
     "metadata": {},
     "output_type": "execute_result"
    },
    {
     "data": {
      "text/plain": [
       "113"
      ]
     },
     "execution_count": 95,
     "metadata": {},
     "output_type": "execute_result"
    },
    {
     "data": {
      "text/plain": [
       "116"
      ]
     },
     "execution_count": 95,
     "metadata": {},
     "output_type": "execute_result"
    },
    {
     "data": {
      "text/plain": [
       "117"
      ]
     },
     "execution_count": 95,
     "metadata": {},
     "output_type": "execute_result"
    },
    {
     "data": {
      "text/plain": [
       "117"
      ]
     },
     "execution_count": 95,
     "metadata": {},
     "output_type": "execute_result"
    },
    {
     "data": {
      "text/plain": [
       "118"
      ]
     },
     "execution_count": 95,
     "metadata": {},
     "output_type": "execute_result"
    },
    {
     "data": {
      "text/plain": [
       "121"
      ]
     },
     "execution_count": 95,
     "metadata": {},
     "output_type": "execute_result"
    },
    {
     "data": {
      "text/plain": [
       "120"
      ]
     },
     "execution_count": 95,
     "metadata": {},
     "output_type": "execute_result"
    },
    {
     "data": {
      "text/plain": [
       "126"
      ]
     },
     "execution_count": 95,
     "metadata": {},
     "output_type": "execute_result"
    },
    {
     "data": {
      "text/plain": [
       "118"
      ]
     },
     "execution_count": 95,
     "metadata": {},
     "output_type": "execute_result"
    },
    {
     "data": {
      "text/plain": [
       "114"
      ]
     },
     "execution_count": 95,
     "metadata": {},
     "output_type": "execute_result"
    },
    {
     "data": {
      "text/plain": [
       "112"
      ]
     },
     "execution_count": 95,
     "metadata": {},
     "output_type": "execute_result"
    },
    {
     "data": {
      "text/plain": [
       "109"
      ]
     },
     "execution_count": 95,
     "metadata": {},
     "output_type": "execute_result"
    },
    {
     "data": {
      "text/plain": [
       "121"
      ]
     },
     "execution_count": 95,
     "metadata": {},
     "output_type": "execute_result"
    },
    {
     "data": {
      "text/plain": [
       "111"
      ]
     },
     "execution_count": 95,
     "metadata": {},
     "output_type": "execute_result"
    },
    {
     "data": {
      "text/plain": [
       "130"
      ]
     },
     "execution_count": 95,
     "metadata": {},
     "output_type": "execute_result"
    },
    {
     "data": {
      "text/plain": [
       "117"
      ]
     },
     "execution_count": 95,
     "metadata": {},
     "output_type": "execute_result"
    },
    {
     "data": {
      "text/plain": [
       "115"
      ]
     },
     "execution_count": 95,
     "metadata": {},
     "output_type": "execute_result"
    },
    {
     "data": {
      "text/plain": [
       "133"
      ]
     },
     "execution_count": 95,
     "metadata": {},
     "output_type": "execute_result"
    },
    {
     "data": {
      "text/plain": [
       "134"
      ]
     },
     "execution_count": 95,
     "metadata": {},
     "output_type": "execute_result"
    },
    {
     "data": {
      "text/plain": [
       "115"
      ]
     },
     "execution_count": 95,
     "metadata": {},
     "output_type": "execute_result"
    },
    {
     "data": {
      "text/plain": [
       "105"
      ]
     },
     "execution_count": 95,
     "metadata": {},
     "output_type": "execute_result"
    },
    {
     "data": {
      "text/plain": [
       "73"
      ]
     },
     "execution_count": 95,
     "metadata": {},
     "output_type": "execute_result"
    },
    {
     "data": {
      "text/plain": [
       "123"
      ]
     },
     "execution_count": 95,
     "metadata": {},
     "output_type": "execute_result"
    },
    {
     "data": {
      "text/plain": [
       "164"
      ]
     },
     "execution_count": 95,
     "metadata": {},
     "output_type": "execute_result"
    },
    {
     "data": {
      "text/plain": [
       "160"
      ]
     },
     "execution_count": 95,
     "metadata": {},
     "output_type": "execute_result"
    },
    {
     "data": {
      "text/plain": [
       "161"
      ]
     },
     "execution_count": 95,
     "metadata": {},
     "output_type": "execute_result"
    },
    {
     "data": {
      "text/plain": [
       "152"
      ]
     },
     "execution_count": 95,
     "metadata": {},
     "output_type": "execute_result"
    },
    {
     "data": {
      "text/plain": [
       "149"
      ]
     },
     "execution_count": 95,
     "metadata": {},
     "output_type": "execute_result"
    },
    {
     "data": {
      "text/plain": [
       "139"
      ]
     },
     "execution_count": 95,
     "metadata": {},
     "output_type": "execute_result"
    },
    {
     "data": {
      "text/plain": [
       "132"
      ]
     },
     "execution_count": 95,
     "metadata": {},
     "output_type": "execute_result"
    },
    {
     "data": {
      "text/plain": [
       "137"
      ]
     },
     "execution_count": 95,
     "metadata": {},
     "output_type": "execute_result"
    },
    {
     "data": {
      "text/plain": [
       "140"
      ]
     },
     "execution_count": 95,
     "metadata": {},
     "output_type": "execute_result"
    },
    {
     "data": {
      "text/plain": [
       "140"
      ]
     },
     "execution_count": 95,
     "metadata": {},
     "output_type": "execute_result"
    },
    {
     "data": {
      "text/plain": [
       "130"
      ]
     },
     "execution_count": 95,
     "metadata": {},
     "output_type": "execute_result"
    },
    {
     "data": {
      "text/plain": [
       "33"
      ]
     },
     "execution_count": 95,
     "metadata": {},
     "output_type": "execute_result"
    },
    {
     "data": {
      "text/plain": [
       "126"
      ]
     },
     "execution_count": 95,
     "metadata": {},
     "output_type": "execute_result"
    },
    {
     "data": {
      "text/plain": [
       "147"
      ]
     },
     "execution_count": 95,
     "metadata": {},
     "output_type": "execute_result"
    },
    {
     "data": {
      "text/plain": [
       "150"
      ]
     },
     "execution_count": 95,
     "metadata": {},
     "output_type": "execute_result"
    },
    {
     "data": {
      "text/plain": [
       "151"
      ]
     },
     "execution_count": 95,
     "metadata": {},
     "output_type": "execute_result"
    },
    {
     "data": {
      "text/plain": [
       "132"
      ]
     },
     "execution_count": 95,
     "metadata": {},
     "output_type": "execute_result"
    },
    {
     "data": {
      "text/plain": [
       "140"
      ]
     },
     "execution_count": 95,
     "metadata": {},
     "output_type": "execute_result"
    },
    {
     "data": {
      "text/plain": [
       "156"
      ]
     },
     "execution_count": 95,
     "metadata": {},
     "output_type": "execute_result"
    },
    {
     "data": {
      "text/plain": [
       "134"
      ]
     },
     "execution_count": 95,
     "metadata": {},
     "output_type": "execute_result"
    },
    {
     "data": {
      "text/plain": [
       "142"
      ]
     },
     "execution_count": 95,
     "metadata": {},
     "output_type": "execute_result"
    },
    {
     "data": {
      "text/plain": [
       "130"
      ]
     },
     "execution_count": 95,
     "metadata": {},
     "output_type": "execute_result"
    },
    {
     "data": {
      "text/plain": [
       "149"
      ]
     },
     "execution_count": 95,
     "metadata": {},
     "output_type": "execute_result"
    },
    {
     "data": {
      "text/plain": [
       "138"
      ]
     },
     "execution_count": 95,
     "metadata": {},
     "output_type": "execute_result"
    },
    {
     "data": {
      "text/plain": [
       "138"
      ]
     },
     "execution_count": 95,
     "metadata": {},
     "output_type": "execute_result"
    },
    {
     "data": {
      "text/plain": [
       "141"
      ]
     },
     "execution_count": 95,
     "metadata": {},
     "output_type": "execute_result"
    },
    {
     "data": {
      "text/plain": [
       "133"
      ]
     },
     "execution_count": 95,
     "metadata": {},
     "output_type": "execute_result"
    },
    {
     "data": {
      "text/plain": [
       "138"
      ]
     },
     "execution_count": 95,
     "metadata": {},
     "output_type": "execute_result"
    },
    {
     "data": {
      "text/plain": [
       "142"
      ]
     },
     "execution_count": 95,
     "metadata": {},
     "output_type": "execute_result"
    },
    {
     "data": {
      "text/plain": [
       "167"
      ]
     },
     "execution_count": 95,
     "metadata": {},
     "output_type": "execute_result"
    },
    {
     "data": {
      "text/plain": [
       "166"
      ]
     },
     "execution_count": 95,
     "metadata": {},
     "output_type": "execute_result"
    },
    {
     "data": {
      "text/plain": [
       "146"
      ]
     },
     "execution_count": 95,
     "metadata": {},
     "output_type": "execute_result"
    },
    {
     "data": {
      "text/plain": [
       "153"
      ]
     },
     "execution_count": 95,
     "metadata": {},
     "output_type": "execute_result"
    },
    {
     "data": {
      "text/plain": [
       "154"
      ]
     },
     "execution_count": 95,
     "metadata": {},
     "output_type": "execute_result"
    },
    {
     "data": {
      "text/plain": [
       "161"
      ]
     },
     "execution_count": 95,
     "metadata": {},
     "output_type": "execute_result"
    },
    {
     "data": {
      "text/plain": [
       "152"
      ]
     },
     "execution_count": 95,
     "metadata": {},
     "output_type": "execute_result"
    },
    {
     "data": {
      "text/plain": [
       "157"
      ]
     },
     "execution_count": 95,
     "metadata": {},
     "output_type": "execute_result"
    },
    {
     "data": {
      "text/plain": [
       "157"
      ]
     },
     "execution_count": 95,
     "metadata": {},
     "output_type": "execute_result"
    },
    {
     "data": {
      "text/plain": [
       "164"
      ]
     },
     "execution_count": 95,
     "metadata": {},
     "output_type": "execute_result"
    },
    {
     "data": {
      "text/plain": [
       "149"
      ]
     },
     "execution_count": 95,
     "metadata": {},
     "output_type": "execute_result"
    },
    {
     "data": {
      "text/plain": [
       "39"
      ]
     },
     "execution_count": 95,
     "metadata": {},
     "output_type": "execute_result"
    },
    {
     "data": {
      "text/plain": [
       "46"
      ]
     },
     "execution_count": 95,
     "metadata": {},
     "output_type": "execute_result"
    },
    {
     "data": {
      "text/plain": [
       "102"
      ]
     },
     "execution_count": 95,
     "metadata": {},
     "output_type": "execute_result"
    },
    {
     "data": {
      "text/plain": [
       "124"
      ]
     },
     "execution_count": 95,
     "metadata": {},
     "output_type": "execute_result"
    },
    {
     "data": {
      "text/plain": [
       "106"
      ]
     },
     "execution_count": 95,
     "metadata": {},
     "output_type": "execute_result"
    },
    {
     "data": {
      "text/plain": [
       "109"
      ]
     },
     "execution_count": 95,
     "metadata": {},
     "output_type": "execute_result"
    },
    {
     "data": {
      "text/plain": [
       "52"
      ]
     },
     "execution_count": 95,
     "metadata": {},
     "output_type": "execute_result"
    },
    {
     "data": {
      "text/plain": [
       "26"
      ]
     },
     "execution_count": 95,
     "metadata": {},
     "output_type": "execute_result"
    },
    {
     "data": {
      "text/plain": [
       "68"
      ]
     },
     "execution_count": 95,
     "metadata": {},
     "output_type": "execute_result"
    },
    {
     "data": {
      "text/plain": [
       "34"
      ]
     },
     "execution_count": 95,
     "metadata": {},
     "output_type": "execute_result"
    },
    {
     "data": {
      "text/plain": [
       "71"
      ]
     },
     "execution_count": 95,
     "metadata": {},
     "output_type": "execute_result"
    },
    {
     "data": {
      "text/plain": [
       "70"
      ]
     },
     "execution_count": 95,
     "metadata": {},
     "output_type": "execute_result"
    },
    {
     "data": {
      "text/plain": [
       "33"
      ]
     },
     "execution_count": 95,
     "metadata": {},
     "output_type": "execute_result"
    },
    {
     "data": {
      "text/plain": [
       "47"
      ]
     },
     "execution_count": 95,
     "metadata": {},
     "output_type": "execute_result"
    },
    {
     "data": {
      "text/plain": [
       "69"
      ]
     },
     "execution_count": 95,
     "metadata": {},
     "output_type": "execute_result"
    },
    {
     "data": {
      "text/plain": [
       "75"
      ]
     },
     "execution_count": 95,
     "metadata": {},
     "output_type": "execute_result"
    },
    {
     "data": {
      "text/plain": [
       "106"
      ]
     },
     "execution_count": 95,
     "metadata": {},
     "output_type": "execute_result"
    },
    {
     "data": {
      "text/plain": [
       "103"
      ]
     },
     "execution_count": 95,
     "metadata": {},
     "output_type": "execute_result"
    },
    {
     "data": {
      "text/plain": [
       "132"
      ]
     },
     "execution_count": 95,
     "metadata": {},
     "output_type": "execute_result"
    },
    {
     "data": {
      "text/plain": [
       "136"
      ]
     },
     "execution_count": 95,
     "metadata": {},
     "output_type": "execute_result"
    },
    {
     "data": {
      "text/plain": [
       "139"
      ]
     },
     "execution_count": 95,
     "metadata": {},
     "output_type": "execute_result"
    },
    {
     "data": {
      "text/plain": [
       "130"
      ]
     },
     "execution_count": 95,
     "metadata": {},
     "output_type": "execute_result"
    },
    {
     "data": {
      "text/plain": [
       "41"
      ]
     },
     "execution_count": 95,
     "metadata": {},
     "output_type": "execute_result"
    },
    {
     "data": {
      "text/plain": [
       "77"
      ]
     },
     "execution_count": 95,
     "metadata": {},
     "output_type": "execute_result"
    },
    {
     "data": {
      "text/plain": [
       "54"
      ]
     },
     "execution_count": 95,
     "metadata": {},
     "output_type": "execute_result"
    },
    {
     "data": {
      "text/plain": [
       "89"
      ]
     },
     "execution_count": 95,
     "metadata": {},
     "output_type": "execute_result"
    },
    {
     "data": {
      "text/plain": [
       "114"
      ]
     },
     "execution_count": 95,
     "metadata": {},
     "output_type": "execute_result"
    },
    {
     "data": {
      "text/plain": [
       "110"
      ]
     },
     "execution_count": 95,
     "metadata": {},
     "output_type": "execute_result"
    },
    {
     "data": {
      "text/plain": [
       "111"
      ]
     },
     "execution_count": 95,
     "metadata": {},
     "output_type": "execute_result"
    },
    {
     "data": {
      "text/plain": [
       "41"
      ]
     },
     "execution_count": 95,
     "metadata": {},
     "output_type": "execute_result"
    },
    {
     "data": {
      "text/plain": [
       "71"
      ]
     },
     "execution_count": 95,
     "metadata": {},
     "output_type": "execute_result"
    },
    {
     "data": {
      "text/plain": [
       "129"
      ]
     },
     "execution_count": 95,
     "metadata": {},
     "output_type": "execute_result"
    },
    {
     "data": {
      "text/plain": [
       "132"
      ]
     },
     "execution_count": 95,
     "metadata": {},
     "output_type": "execute_result"
    },
    {
     "data": {
      "text/plain": [
       "75"
      ]
     },
     "execution_count": 95,
     "metadata": {},
     "output_type": "execute_result"
    },
    {
     "data": {
      "text/plain": [
       "86"
      ]
     },
     "execution_count": 95,
     "metadata": {},
     "output_type": "execute_result"
    },
    {
     "data": {
      "text/plain": [
       "39"
      ]
     },
     "execution_count": 95,
     "metadata": {},
     "output_type": "execute_result"
    },
    {
     "data": {
      "text/plain": [
       "90"
      ]
     },
     "execution_count": 95,
     "metadata": {},
     "output_type": "execute_result"
    },
    {
     "data": {
      "text/plain": [
       "114"
      ]
     },
     "execution_count": 95,
     "metadata": {},
     "output_type": "execute_result"
    },
    {
     "data": {
      "text/plain": [
       "53"
      ]
     },
     "execution_count": 95,
     "metadata": {},
     "output_type": "execute_result"
    },
    {
     "data": {
      "text/plain": [
       "147"
      ]
     },
     "execution_count": 95,
     "metadata": {},
     "output_type": "execute_result"
    },
    {
     "data": {
      "text/plain": [
       "65"
      ]
     },
     "execution_count": 95,
     "metadata": {},
     "output_type": "execute_result"
    },
    {
     "data": {
      "text/plain": [
       "57"
      ]
     },
     "execution_count": 95,
     "metadata": {},
     "output_type": "execute_result"
    },
    {
     "data": {
      "text/plain": [
       "57"
      ]
     },
     "execution_count": 95,
     "metadata": {},
     "output_type": "execute_result"
    },
    {
     "data": {
      "text/plain": [
       "112"
      ]
     },
     "execution_count": 95,
     "metadata": {},
     "output_type": "execute_result"
    },
    {
     "data": {
      "text/plain": [
       "106"
      ]
     },
     "execution_count": 95,
     "metadata": {},
     "output_type": "execute_result"
    },
    {
     "data": {
      "text/plain": [
       "127"
      ]
     },
     "execution_count": 95,
     "metadata": {},
     "output_type": "execute_result"
    },
    {
     "data": {
      "text/plain": [
       "132"
      ]
     },
     "execution_count": 95,
     "metadata": {},
     "output_type": "execute_result"
    },
    {
     "data": {
      "text/plain": [
       "140"
      ]
     },
     "execution_count": 95,
     "metadata": {},
     "output_type": "execute_result"
    },
    {
     "data": {
      "text/plain": [
       "152"
      ]
     },
     "execution_count": 95,
     "metadata": {},
     "output_type": "execute_result"
    },
    {
     "data": {
      "text/plain": [
       "122"
      ]
     },
     "execution_count": 95,
     "metadata": {},
     "output_type": "execute_result"
    },
    {
     "data": {
      "text/plain": [
       "155"
      ]
     },
     "execution_count": 95,
     "metadata": {},
     "output_type": "execute_result"
    },
    {
     "data": {
      "text/plain": [
       "127"
      ]
     },
     "execution_count": 95,
     "metadata": {},
     "output_type": "execute_result"
    },
    {
     "data": {
      "text/plain": [
       "135"
      ]
     },
     "execution_count": 95,
     "metadata": {},
     "output_type": "execute_result"
    },
    {
     "data": {
      "text/plain": [
       "138"
      ]
     },
     "execution_count": 95,
     "metadata": {},
     "output_type": "execute_result"
    },
    {
     "data": {
      "text/plain": [
       "139"
      ]
     },
     "execution_count": 95,
     "metadata": {},
     "output_type": "execute_result"
    },
    {
     "data": {
      "text/plain": [
       "143"
      ]
     },
     "execution_count": 95,
     "metadata": {},
     "output_type": "execute_result"
    },
    {
     "data": {
      "text/plain": [
       "142"
      ]
     },
     "execution_count": 95,
     "metadata": {},
     "output_type": "execute_result"
    },
    {
     "data": {
      "text/plain": [
       "141"
      ]
     },
     "execution_count": 95,
     "metadata": {},
     "output_type": "execute_result"
    },
    {
     "data": {
      "text/plain": [
       "151"
      ]
     },
     "execution_count": 95,
     "metadata": {},
     "output_type": "execute_result"
    },
    {
     "data": {
      "text/plain": [
       "145"
      ]
     },
     "execution_count": 95,
     "metadata": {},
     "output_type": "execute_result"
    },
    {
     "data": {
      "text/plain": [
       "152"
      ]
     },
     "execution_count": 95,
     "metadata": {},
     "output_type": "execute_result"
    },
    {
     "data": {
      "text/plain": [
       "144"
      ]
     },
     "execution_count": 95,
     "metadata": {},
     "output_type": "execute_result"
    },
    {
     "data": {
      "text/plain": [
       "140"
      ]
     },
     "execution_count": 95,
     "metadata": {},
     "output_type": "execute_result"
    },
    {
     "data": {
      "text/plain": [
       "134"
      ]
     },
     "execution_count": 95,
     "metadata": {},
     "output_type": "execute_result"
    },
    {
     "data": {
      "text/plain": [
       "159"
      ]
     },
     "execution_count": 95,
     "metadata": {},
     "output_type": "execute_result"
    },
    {
     "data": {
      "text/plain": [
       "164"
      ]
     },
     "execution_count": 95,
     "metadata": {},
     "output_type": "execute_result"
    },
    {
     "data": {
      "text/plain": [
       "144"
      ]
     },
     "execution_count": 95,
     "metadata": {},
     "output_type": "execute_result"
    },
    {
     "data": {
      "text/plain": [
       "154"
      ]
     },
     "execution_count": 95,
     "metadata": {},
     "output_type": "execute_result"
    },
    {
     "data": {
      "text/plain": [
       "127"
      ]
     },
     "execution_count": 95,
     "metadata": {},
     "output_type": "execute_result"
    },
    {
     "data": {
      "text/plain": [
       "147"
      ]
     },
     "execution_count": 95,
     "metadata": {},
     "output_type": "execute_result"
    },
    {
     "data": {
      "text/plain": [
       "61"
      ]
     },
     "execution_count": 95,
     "metadata": {},
     "output_type": "execute_result"
    },
    {
     "data": {
      "text/plain": [
       "94"
      ]
     },
     "execution_count": 95,
     "metadata": {},
     "output_type": "execute_result"
    },
    {
     "data": {
      "text/plain": [
       "102"
      ]
     },
     "execution_count": 95,
     "metadata": {},
     "output_type": "execute_result"
    },
    {
     "data": {
      "text/plain": [
       "103"
      ]
     },
     "execution_count": 95,
     "metadata": {},
     "output_type": "execute_result"
    },
    {
     "data": {
      "text/plain": [
       "117"
      ]
     },
     "execution_count": 95,
     "metadata": {},
     "output_type": "execute_result"
    },
    {
     "data": {
      "text/plain": [
       "115"
      ]
     },
     "execution_count": 95,
     "metadata": {},
     "output_type": "execute_result"
    },
    {
     "data": {
      "text/plain": [
       "60"
      ]
     },
     "execution_count": 95,
     "metadata": {},
     "output_type": "execute_result"
    },
    {
     "data": {
      "text/plain": [
       "48"
      ]
     },
     "execution_count": 95,
     "metadata": {},
     "output_type": "execute_result"
    },
    {
     "data": {
      "text/plain": [
       "29"
      ]
     },
     "execution_count": 95,
     "metadata": {},
     "output_type": "execute_result"
    },
    {
     "data": {
      "text/plain": [
       "92"
      ]
     },
     "execution_count": 95,
     "metadata": {},
     "output_type": "execute_result"
    },
    {
     "data": {
      "text/plain": [
       "109"
      ]
     },
     "execution_count": 95,
     "metadata": {},
     "output_type": "execute_result"
    },
    {
     "data": {
      "text/plain": [
       "106"
      ]
     },
     "execution_count": 95,
     "metadata": {},
     "output_type": "execute_result"
    },
    {
     "data": {
      "text/plain": [
       "100"
      ]
     },
     "execution_count": 95,
     "metadata": {},
     "output_type": "execute_result"
    },
    {
     "data": {
      "text/plain": [
       "68"
      ]
     },
     "execution_count": 95,
     "metadata": {},
     "output_type": "execute_result"
    },
    {
     "data": {
      "text/plain": [
       "76"
      ]
     },
     "execution_count": 95,
     "metadata": {},
     "output_type": "execute_result"
    },
    {
     "data": {
      "text/plain": [
       "74"
      ]
     },
     "execution_count": 95,
     "metadata": {},
     "output_type": "execute_result"
    },
    {
     "data": {
      "text/plain": [
       "86"
      ]
     },
     "execution_count": 95,
     "metadata": {},
     "output_type": "execute_result"
    },
    {
     "data": {
      "text/plain": [
       "91"
      ]
     },
     "execution_count": 95,
     "metadata": {},
     "output_type": "execute_result"
    },
    {
     "data": {
      "text/plain": [
       "111"
      ]
     },
     "execution_count": 95,
     "metadata": {},
     "output_type": "execute_result"
    },
    {
     "data": {
      "text/plain": [
       "116"
      ]
     },
     "execution_count": 95,
     "metadata": {},
     "output_type": "execute_result"
    },
    {
     "data": {
      "text/plain": [
       "119"
      ]
     },
     "execution_count": 95,
     "metadata": {},
     "output_type": "execute_result"
    },
    {
     "data": {
      "text/plain": [
       "117"
      ]
     },
     "execution_count": 95,
     "metadata": {},
     "output_type": "execute_result"
    },
    {
     "data": {
      "text/plain": [
       "89"
      ]
     },
     "execution_count": 95,
     "metadata": {},
     "output_type": "execute_result"
    },
    {
     "data": {
      "text/plain": [
       "96"
      ]
     },
     "execution_count": 95,
     "metadata": {},
     "output_type": "execute_result"
    },
    {
     "data": {
      "text/plain": [
       "115"
      ]
     },
     "execution_count": 95,
     "metadata": {},
     "output_type": "execute_result"
    },
    {
     "data": {
      "text/plain": [
       "112"
      ]
     },
     "execution_count": 95,
     "metadata": {},
     "output_type": "execute_result"
    },
    {
     "data": {
      "text/plain": [
       "108"
      ]
     },
     "execution_count": 95,
     "metadata": {},
     "output_type": "execute_result"
    },
    {
     "data": {
      "text/plain": [
       "119"
      ]
     },
     "execution_count": 95,
     "metadata": {},
     "output_type": "execute_result"
    },
    {
     "data": {
      "text/plain": [
       "118"
      ]
     },
     "execution_count": 95,
     "metadata": {},
     "output_type": "execute_result"
    },
    {
     "data": {
      "text/plain": [
       "134"
      ]
     },
     "execution_count": 95,
     "metadata": {},
     "output_type": "execute_result"
    },
    {
     "data": {
      "text/plain": [
       "111"
      ]
     },
     "execution_count": 95,
     "metadata": {},
     "output_type": "execute_result"
    },
    {
     "data": {
      "text/plain": [
       "138"
      ]
     },
     "execution_count": 95,
     "metadata": {},
     "output_type": "execute_result"
    },
    {
     "data": {
      "text/plain": [
       "141"
      ]
     },
     "execution_count": 95,
     "metadata": {},
     "output_type": "execute_result"
    },
    {
     "data": {
      "text/plain": [
       "158"
      ]
     },
     "execution_count": 95,
     "metadata": {},
     "output_type": "execute_result"
    },
    {
     "data": {
      "text/plain": [
       "168"
      ]
     },
     "execution_count": 95,
     "metadata": {},
     "output_type": "execute_result"
    },
    {
     "data": {
      "text/plain": [
       "161"
      ]
     },
     "execution_count": 95,
     "metadata": {},
     "output_type": "execute_result"
    },
    {
     "data": {
      "text/plain": [
       "162"
      ]
     },
     "execution_count": 95,
     "metadata": {},
     "output_type": "execute_result"
    },
    {
     "data": {
      "text/plain": [
       "168"
      ]
     },
     "execution_count": 95,
     "metadata": {},
     "output_type": "execute_result"
    },
    {
     "data": {
      "text/plain": [
       "174"
      ]
     },
     "execution_count": 95,
     "metadata": {},
     "output_type": "execute_result"
    },
    {
     "data": {
      "text/plain": [
       "159"
      ]
     },
     "execution_count": 95,
     "metadata": {},
     "output_type": "execute_result"
    },
    {
     "data": {
      "text/plain": [
       "159"
      ]
     },
     "execution_count": 95,
     "metadata": {},
     "output_type": "execute_result"
    },
    {
     "data": {
      "text/plain": [
       "131"
      ]
     },
     "execution_count": 95,
     "metadata": {},
     "output_type": "execute_result"
    },
    {
     "data": {
      "text/plain": [
       "122"
      ]
     },
     "execution_count": 95,
     "metadata": {},
     "output_type": "execute_result"
    },
    {
     "data": {
      "text/plain": [
       "140"
      ]
     },
     "execution_count": 95,
     "metadata": {},
     "output_type": "execute_result"
    },
    {
     "data": {
      "text/plain": [
       "121"
      ]
     },
     "execution_count": 95,
     "metadata": {},
     "output_type": "execute_result"
    },
    {
     "data": {
      "text/plain": [
       "73"
      ]
     },
     "execution_count": 95,
     "metadata": {},
     "output_type": "execute_result"
    },
    {
     "data": {
      "text/plain": [
       "134"
      ]
     },
     "execution_count": 95,
     "metadata": {},
     "output_type": "execute_result"
    },
    {
     "data": {
      "text/plain": [
       "189"
      ]
     },
     "execution_count": 95,
     "metadata": {},
     "output_type": "execute_result"
    },
    {
     "data": {
      "text/plain": [
       "112"
      ]
     },
     "execution_count": 95,
     "metadata": {},
     "output_type": "execute_result"
    },
    {
     "data": {
      "text/plain": [
       "133"
      ]
     },
     "execution_count": 95,
     "metadata": {},
     "output_type": "execute_result"
    },
    {
     "data": {
      "text/plain": [
       "154"
      ]
     },
     "execution_count": 95,
     "metadata": {},
     "output_type": "execute_result"
    },
    {
     "data": {
      "text/plain": [
       "153"
      ]
     },
     "execution_count": 95,
     "metadata": {},
     "output_type": "execute_result"
    },
    {
     "data": {
      "text/plain": [
       "190"
      ]
     },
     "execution_count": 95,
     "metadata": {},
     "output_type": "execute_result"
    },
    {
     "data": {
      "text/plain": [
       "147"
      ]
     },
     "execution_count": 95,
     "metadata": {},
     "output_type": "execute_result"
    },
    {
     "data": {
      "text/plain": [
       "162"
      ]
     },
     "execution_count": 95,
     "metadata": {},
     "output_type": "execute_result"
    },
    {
     "data": {
      "text/plain": [
       "156"
      ]
     },
     "execution_count": 95,
     "metadata": {},
     "output_type": "execute_result"
    },
    {
     "data": {
      "text/plain": [
       "150"
      ]
     },
     "execution_count": 95,
     "metadata": {},
     "output_type": "execute_result"
    },
    {
     "data": {
      "text/plain": [
       "147"
      ]
     },
     "execution_count": 95,
     "metadata": {},
     "output_type": "execute_result"
    },
    {
     "data": {
      "text/plain": [
       "197"
      ]
     },
     "execution_count": 95,
     "metadata": {},
     "output_type": "execute_result"
    },
    {
     "data": {
      "text/plain": [
       "166"
      ]
     },
     "execution_count": 95,
     "metadata": {},
     "output_type": "execute_result"
    },
    {
     "data": {
      "text/plain": [
       "21"
      ]
     },
     "execution_count": 95,
     "metadata": {},
     "output_type": "execute_result"
    },
    {
     "data": {
      "text/plain": [
       "52"
      ]
     },
     "execution_count": 95,
     "metadata": {},
     "output_type": "execute_result"
    },
    {
     "data": {
      "text/plain": [
       "70"
      ]
     },
     "execution_count": 95,
     "metadata": {},
     "output_type": "execute_result"
    },
    {
     "data": {
      "text/plain": [
       "68"
      ]
     },
     "execution_count": 95,
     "metadata": {},
     "output_type": "execute_result"
    },
    {
     "data": {
      "text/plain": [
       "41"
      ]
     },
     "execution_count": 95,
     "metadata": {},
     "output_type": "execute_result"
    },
    {
     "data": {
      "text/plain": [
       "44"
      ]
     },
     "execution_count": 95,
     "metadata": {},
     "output_type": "execute_result"
    },
    {
     "data": {
      "text/plain": [
       "48"
      ]
     },
     "execution_count": 95,
     "metadata": {},
     "output_type": "execute_result"
    },
    {
     "data": {
      "text/plain": [
       "40"
      ]
     },
     "execution_count": 95,
     "metadata": {},
     "output_type": "execute_result"
    },
    {
     "data": {
      "text/plain": [
       "94"
      ]
     },
     "execution_count": 95,
     "metadata": {},
     "output_type": "execute_result"
    },
    {
     "data": {
      "text/plain": [
       "97"
      ]
     },
     "execution_count": 95,
     "metadata": {},
     "output_type": "execute_result"
    },
    {
     "data": {
      "text/plain": [
       "29"
      ]
     },
     "execution_count": 95,
     "metadata": {},
     "output_type": "execute_result"
    },
    {
     "data": {
      "text/plain": [
       "35"
      ]
     },
     "execution_count": 95,
     "metadata": {},
     "output_type": "execute_result"
    },
    {
     "data": {
      "text/plain": [
       "50"
      ]
     },
     "execution_count": 95,
     "metadata": {},
     "output_type": "execute_result"
    },
    {
     "data": {
      "text/plain": [
       "36"
      ]
     },
     "execution_count": 95,
     "metadata": {},
     "output_type": "execute_result"
    },
    {
     "data": {
      "text/plain": [
       "36"
      ]
     },
     "execution_count": 95,
     "metadata": {},
     "output_type": "execute_result"
    },
    {
     "data": {
      "text/plain": [
       "55"
      ]
     },
     "execution_count": 95,
     "metadata": {},
     "output_type": "execute_result"
    },
    {
     "data": {
      "text/plain": [
       "145"
      ]
     },
     "execution_count": 95,
     "metadata": {},
     "output_type": "execute_result"
    },
    {
     "data": {
      "text/plain": [
       "151"
      ]
     },
     "execution_count": 95,
     "metadata": {},
     "output_type": "execute_result"
    },
    {
     "data": {
      "text/plain": [
       "145"
      ]
     },
     "execution_count": 95,
     "metadata": {},
     "output_type": "execute_result"
    },
    {
     "data": {
      "text/plain": [
       "143"
      ]
     },
     "execution_count": 95,
     "metadata": {},
     "output_type": "execute_result"
    },
    {
     "data": {
      "text/plain": [
       "161"
      ]
     },
     "execution_count": 95,
     "metadata": {},
     "output_type": "execute_result"
    },
    {
     "data": {
      "text/plain": [
       "146"
      ]
     },
     "execution_count": 95,
     "metadata": {},
     "output_type": "execute_result"
    },
    {
     "data": {
      "text/plain": [
       "164"
      ]
     },
     "execution_count": 95,
     "metadata": {},
     "output_type": "execute_result"
    },
    {
     "data": {
      "text/plain": [
       "132"
      ]
     },
     "execution_count": 95,
     "metadata": {},
     "output_type": "execute_result"
    },
    {
     "data": {
      "text/plain": [
       "126"
      ]
     },
     "execution_count": 95,
     "metadata": {},
     "output_type": "execute_result"
    },
    {
     "data": {
      "text/plain": [
       "140"
      ]
     },
     "execution_count": 95,
     "metadata": {},
     "output_type": "execute_result"
    },
    {
     "data": {
      "text/plain": [
       "30"
      ]
     },
     "execution_count": 95,
     "metadata": {},
     "output_type": "execute_result"
    },
    {
     "data": {
      "text/plain": [
       "58"
      ]
     },
     "execution_count": 95,
     "metadata": {},
     "output_type": "execute_result"
    },
    {
     "data": {
      "text/plain": [
       "116"
      ]
     },
     "execution_count": 95,
     "metadata": {},
     "output_type": "execute_result"
    },
    {
     "data": {
      "text/plain": [
       "119"
      ]
     },
     "execution_count": 95,
     "metadata": {},
     "output_type": "execute_result"
    },
    {
     "data": {
      "text/plain": [
       "65"
      ]
     },
     "execution_count": 95,
     "metadata": {},
     "output_type": "execute_result"
    },
    {
     "data": {
      "text/plain": [
       "84"
      ]
     },
     "execution_count": 95,
     "metadata": {},
     "output_type": "execute_result"
    },
    {
     "data": {
      "text/plain": [
       "90"
      ]
     },
     "execution_count": 95,
     "metadata": {},
     "output_type": "execute_result"
    },
    {
     "data": {
      "text/plain": [
       "94"
      ]
     },
     "execution_count": 95,
     "metadata": {},
     "output_type": "execute_result"
    },
    {
     "data": {
      "text/plain": [
       "62"
      ]
     },
     "execution_count": 95,
     "metadata": {},
     "output_type": "execute_result"
    },
    {
     "data": {
      "text/plain": [
       "89"
      ]
     },
     "execution_count": 95,
     "metadata": {},
     "output_type": "execute_result"
    },
    {
     "data": {
      "text/plain": [
       "93"
      ]
     },
     "execution_count": 95,
     "metadata": {},
     "output_type": "execute_result"
    },
    {
     "data": {
      "text/plain": [
       "94"
      ]
     },
     "execution_count": 95,
     "metadata": {},
     "output_type": "execute_result"
    },
    {
     "data": {
      "text/plain": [
       "92"
      ]
     },
     "execution_count": 95,
     "metadata": {},
     "output_type": "execute_result"
    },
    {
     "data": {
      "text/plain": [
       "96"
      ]
     },
     "execution_count": 95,
     "metadata": {},
     "output_type": "execute_result"
    },
    {
     "data": {
      "text/plain": [
       "97"
      ]
     },
     "execution_count": 95,
     "metadata": {},
     "output_type": "execute_result"
    },
    {
     "data": {
      "text/plain": [
       "95"
      ]
     },
     "execution_count": 95,
     "metadata": {},
     "output_type": "execute_result"
    },
    {
     "data": {
      "text/plain": [
       "113"
      ]
     },
     "execution_count": 95,
     "metadata": {},
     "output_type": "execute_result"
    },
    {
     "data": {
      "text/plain": [
       "109"
      ]
     },
     "execution_count": 95,
     "metadata": {},
     "output_type": "execute_result"
    },
    {
     "data": {
      "text/plain": [
       "92"
      ]
     },
     "execution_count": 95,
     "metadata": {},
     "output_type": "execute_result"
    },
    {
     "data": {
      "text/plain": [
       "119"
      ]
     },
     "execution_count": 95,
     "metadata": {},
     "output_type": "execute_result"
    },
    {
     "data": {
      "text/plain": [
       "104"
      ]
     },
     "execution_count": 95,
     "metadata": {},
     "output_type": "execute_result"
    },
    {
     "data": {
      "text/plain": [
       "89"
      ]
     },
     "execution_count": 95,
     "metadata": {},
     "output_type": "execute_result"
    },
    {
     "data": {
      "text/plain": [
       "99"
      ]
     },
     "execution_count": 95,
     "metadata": {},
     "output_type": "execute_result"
    },
    {
     "data": {
      "text/plain": [
       "103"
      ]
     },
     "execution_count": 95,
     "metadata": {},
     "output_type": "execute_result"
    },
    {
     "data": {
      "text/plain": [
       "106"
      ]
     },
     "execution_count": 95,
     "metadata": {},
     "output_type": "execute_result"
    },
    {
     "data": {
      "text/plain": [
       "97"
      ]
     },
     "execution_count": 95,
     "metadata": {},
     "output_type": "execute_result"
    },
    {
     "data": {
      "text/plain": [
       "95"
      ]
     },
     "execution_count": 95,
     "metadata": {},
     "output_type": "execute_result"
    },
    {
     "data": {
      "text/plain": [
       "99"
      ]
     },
     "execution_count": 95,
     "metadata": {},
     "output_type": "execute_result"
    },
    {
     "data": {
      "text/plain": [
       "102"
      ]
     },
     "execution_count": 95,
     "metadata": {},
     "output_type": "execute_result"
    },
    {
     "data": {
      "text/plain": [
       "90"
      ]
     },
     "execution_count": 95,
     "metadata": {},
     "output_type": "execute_result"
    },
    {
     "data": {
      "text/plain": [
       "92"
      ]
     },
     "execution_count": 95,
     "metadata": {},
     "output_type": "execute_result"
    },
    {
     "data": {
      "text/plain": [
       "125"
      ]
     },
     "execution_count": 95,
     "metadata": {},
     "output_type": "execute_result"
    },
    {
     "data": {
      "text/plain": [
       "126"
      ]
     },
     "execution_count": 95,
     "metadata": {},
     "output_type": "execute_result"
    },
    {
     "data": {
      "text/plain": [
       "98"
      ]
     },
     "execution_count": 95,
     "metadata": {},
     "output_type": "execute_result"
    },
    {
     "data": {
      "text/plain": [
       "106"
      ]
     },
     "execution_count": 95,
     "metadata": {},
     "output_type": "execute_result"
    },
    {
     "data": {
      "text/plain": [
       "78"
      ]
     },
     "execution_count": 95,
     "metadata": {},
     "output_type": "execute_result"
    },
    {
     "data": {
      "text/plain": [
       "109"
      ]
     },
     "execution_count": 95,
     "metadata": {},
     "output_type": "execute_result"
    },
    {
     "data": {
      "text/plain": [
       "113"
      ]
     },
     "execution_count": 95,
     "metadata": {},
     "output_type": "execute_result"
    },
    {
     "data": {
      "text/plain": [
       "126"
      ]
     },
     "execution_count": 95,
     "metadata": {},
     "output_type": "execute_result"
    },
    {
     "data": {
      "text/plain": [
       "116"
      ]
     },
     "execution_count": 95,
     "metadata": {},
     "output_type": "execute_result"
    }
   ],
   "source": [
    "cluster_membership = {}\n",
    "cluster_id = 0\n",
    "for (cluster_id, cluster) in enumerate(clustered_dupes):\n",
    "    id_set, scores = cluster\n",
    "    cluster_d = [data_d[c] for c in id_set]\n",
    "    canonical_rep = dedupe.canonicalize(cluster_d)\n",
    "    for record_id, score in zip(id_set, scores):\n",
    "        cluster_membership[record_id] = {\n",
    "            \"cluster id\" : cluster_id,\n",
    "            \"canonical representation\" : canonical_rep,\n",
    "            \"confidence\": score\n",
    "        }\n",
    "\n",
    "singleton_id = cluster_id + 1\n",
    "\n",
    "with open(output_file, 'w',encoding='utf-8',errors='ignore') as f_output, open(input_file,encoding='utf-8',errors='ignore') as f_input:\n",
    "    writer = csv.writer(f_output)\n",
    "    reader = csv.reader(f_input)\n",
    "\n",
    "    heading_row = next(reader)\n",
    "    heading_row.insert(0, 'confidence_score')\n",
    "    heading_row.insert(0, 'Cluster ID')\n",
    "    canonical_keys = canonical_rep.keys()\n",
    "    for key in canonical_keys:\n",
    "        heading_row.append('canonical_' + key)\n",
    "\n",
    "    writer.writerow(heading_row)\n",
    "\n",
    "    for row in reader:\n",
    "        row_id = int(row[0])\n",
    "        if row_id in cluster_membership:\n",
    "            cluster_id = cluster_membership[row_id][\"cluster id\"]\n",
    "            canonical_rep = cluster_membership[row_id][\"canonical representation\"]\n",
    "            row.insert(0, cluster_membership[row_id]['confidence'])\n",
    "            row.insert(0, cluster_id)\n",
    "            for key in canonical_keys:\n",
    "                row.append(canonical_rep[key].encode('utf8'))\n",
    "        else:\n",
    "            row.insert(0, None)\n",
    "            row.insert(0, singleton_id)\n",
    "            singleton_id += 1\n",
    "            for key in canonical_keys:\n",
    "                row.append(None)\n",
    "        writer.writerow(row)"
   ]
  },
  {
   "cell_type": "code",
   "execution_count": 267,
   "metadata": {},
   "outputs": [],
   "source": [
    "output_file='output_3.csv'\n",
    "\n",
    "def read_output_file(filename):\n",
    "    data_d = []\n",
    "    with open(filename,encoding='utf-8',errors=\"ignore\") as f:\n",
    "        reader = csv.DictReader(f)\n",
    "        for row in reader:\n",
    "            data_d.append(row.items())\n",
    "        return data_d\n",
    "    \n",
    "data=read_output_file(output_file)\n",
    "    "
   ]
  },
  {
   "cell_type": "code",
   "execution_count": 268,
   "metadata": {},
   "outputs": [
    {
     "name": "stdout",
     "output_type": "stream",
     "text": [
      "760\n"
     ]
    }
   ],
   "source": [
    "# # data=data[0:3]\n",
    "print(len(data))\n"
   ]
  },
  {
   "cell_type": "code",
   "execution_count": 269,
   "metadata": {},
   "outputs": [],
   "source": [
    "import itertools\n",
    "def get_all_record_pairs(data):\n",
    "    return [list(x) for x in itertools.combinations(data, 2)]"
   ]
  },
  {
   "cell_type": "code",
   "execution_count": 270,
   "metadata": {},
   "outputs": [],
   "source": [
    "def are_records_same_in_name(record_pair):\n",
    "        a,b=record_pair[0]\n",
    "        c,d=record_pair[1]\n",
    "        return b==d\n",
    "def are_records_same_in_cluster(record_pair):\n",
    "        a,b=record_pair[0]\n",
    "        c,d=record_pair[1]\n",
    "       \n",
    "        return a==c\n",
    "\n",
    "def are_records_similar(record_pair):\n",
    "        return (are_records_same_in_name(record_pair) and are_records_same_in_cluster(record_pair))\n",
    "\n",
    "# for record_pair in record_pairs_list:\n",
    "#     print(are_records_in_same_cluster(record_pair))"
   ]
  },
  {
   "cell_type": "code",
   "execution_count": 271,
   "metadata": {},
   "outputs": [],
   "source": [
    "def get_true_positive(record_pair_list):\n",
    "    tp_count=0\n",
    "    for record_pair in record_pair_list:\n",
    "        if are_records_similar(record_pair):\n",
    "                tp_count +=1\n",
    "    return tp_count\n",
    "def get_true_negative(record_pair_list):\n",
    "    tn_count=0\n",
    "    for record_pair in record_pair_list:\n",
    "        if (not are_records_in_same_cluster(record_pair) and not are_records_same_in_name(record_pair)):\n",
    "                tn_count +=1\n",
    "    return tn_count\n",
    "\n"
   ]
  },
  {
   "cell_type": "code",
   "execution_count": 272,
   "metadata": {},
   "outputs": [],
   "source": [
    "def get_false_positive(record_pair_list):\n",
    "    fp_count=0\n",
    "    for record_pair in record_pair_list:\n",
    "        if (are_records_same_in_cluster(record_pair) and not are_records_same_in_name(record_pair)):\n",
    "                fp_count +=1\n",
    "    return fp_count\n",
    "def get_false_negative(record_pair_list):\n",
    "    fp_count=0\n",
    "    for record_pair in record_pair_list:\n",
    "        if (not are_records_same_in_cluster(record_pair) and are_records_same_in_name(record_pair)):\n",
    "                fp_count +=1\n",
    "    return fp_count\n"
   ]
  },
  {
   "cell_type": "code",
   "execution_count": 273,
   "metadata": {},
   "outputs": [],
   "source": [
    "# data=(data[:2])"
   ]
  },
  {
   "cell_type": "code",
   "execution_count": 284,
   "metadata": {},
   "outputs": [
    {
     "name": "stdout",
     "output_type": "stream",
     "text": [
      "288420\n",
      "578\n"
     ]
    }
   ],
   "source": [
    "# data=data[0:3]\n",
    "\n",
    "# print(data)\n",
    "record_pair=get_all_record_pairs(data)\n",
    "print(len(record_pair))\n",
    "tp=get_true_positive(record_pair)\n",
    "tn=get_true_negative(record_pair)\n",
    "fp=get_false_positive(record_pair)\n",
    "fn=get_false_negative(record_pair)\n",
    "print(fn)"
   ]
  },
  {
   "cell_type": "code",
   "execution_count": 294,
   "metadata": {},
   "outputs": [],
   "source": [
    "def get_rand_index(tp,tn,fp,fn):\n",
    "    return(tp + tn)/(tp+tn+fp+fn)\n",
    "def get_precision(tp,fp):\n",
    "    return (tp)/(tp+fp)\n",
    "def get_recall(tp,fn):\n",
    "    return (tp)/(tp + fn)\n",
    "\n",
    "def get_f(prec,recall, beta=1):\n",
    "    num=((beta + 1)*(prec * recall))\n",
    "    den=((beta**2 * prec + recall))\n",
    "    return num/den"
   ]
  },
  {
   "cell_type": "code",
   "execution_count": 296,
   "metadata": {},
   "outputs": [
    {
     "name": "stdout",
     "output_type": "stream",
     "text": [
      "0.9979959780875113\n",
      "1.0 0.912464031500833 0.9542286981311372\n"
     ]
    }
   ],
   "source": [
    "print(get_rand_index(tp,tn,fp,fn))\n",
    "prec=get_precision(tp,fp)\n",
    "recall=get_recall(tp,fn)\n",
    "score=get_f(prec,recall)\n",
    "print(prec,recall,score)"
   ]
  },
  {
   "cell_type": "code",
   "execution_count": null,
   "metadata": {},
   "outputs": [],
   "source": []
  }
 ],
 "metadata": {
  "kernelspec": {
   "display_name": "Python 2",
   "language": "python",
   "name": "python2"
  },
  "language_info": {
   "codemirror_mode": {
    "name": "ipython",
    "version": 3
   },
   "file_extension": ".py",
   "mimetype": "text/x-python",
   "name": "python",
   "nbconvert_exporter": "python",
   "pygments_lexer": "ipython3",
   "version": "3.6.4"
  }
 },
 "nbformat": 4,
 "nbformat_minor": 1
}
